{
 "cells": [
  {
   "cell_type": "code",
   "execution_count": 1,
   "id": "399acf2c",
   "metadata": {},
   "outputs": [],
   "source": [
    "import os\n",
    "import numpy as np\n",
    "import pandas as pd\n"
   ]
  },
  {
   "cell_type": "code",
   "execution_count": 164,
   "id": "2420229e",
   "metadata": {},
   "outputs": [
    {
     "name": "stdout",
     "output_type": "stream",
     "text": [
      "     iso  adm1  alert__year  alert__week  burn_area__ha\n",
      "0    GHA     1         2015            9   35606.464847\n",
      "1    GHA     1         2003            5   49097.618146\n",
      "2    GHA     1         2019            7    3431.239060\n",
      "3    GHA     1         2017           43      13.556979\n",
      "4    GHA     1         2006           50    3053.151425\n",
      "..   ...   ...          ...          ...            ...\n",
      "429  GHA     1         2013            8     990.124079\n",
      "430  GHA     1         2001            8    2061.343431\n",
      "431  GHA     1         2006           11    2075.891575\n",
      "432  GHA     1         2013           49     420.619822\n",
      "433  GHA     1         2019           48    1994.715881\n",
      "\n",
      "[434 rows x 5 columns]\n",
      "     iso  adm1  alert__year  alert__week  burn_area__ha\n",
      "0    GHA     1         2015            9   35606.464847\n",
      "1    GHA     1         2003            5   49097.618146\n",
      "2    GHA     1         2019            7    3431.239060\n",
      "3    GHA     1         2017           43      13.556979\n",
      "4    GHA     1         2006           50    3053.151425\n",
      "..   ...   ...          ...          ...            ...\n",
      "429  GHA     1         2013            8     990.124079\n",
      "430  GHA     1         2001            8    2061.343431\n",
      "431  GHA     1         2006           11    2075.891575\n",
      "432  GHA     1         2013           49     420.619822\n",
      "433  GHA     1         2019           48    1994.715881\n",
      "\n",
      "[434 rows x 5 columns]\n",
      "     iso  adm1  alert__year  alert__week  burn_area__ha\n",
      "0    GHA     2         2019            6   42361.947084\n",
      "1    GHA     2         2005            9     230.583865\n",
      "2    GHA     2         2000           49  160877.332554\n",
      "3    GHA     2         2008            4  115490.324492\n",
      "4    GHA     2         2016           17      27.095372\n",
      "..   ...   ...          ...          ...            ...\n",
      "527  GHA     2         2016           46   16714.816626\n",
      "528  GHA     2         2005            4   29939.052741\n",
      "529  GHA     2         2012           48    3626.349088\n",
      "530  GHA     2         2020            8   12538.182454\n",
      "531  GHA     2         2011           51   73309.899282\n",
      "\n",
      "[532 rows x 5 columns]\n"
     ]
    }
   ],
   "source": [
    "def read_csvs_into_dataframes(root_dir):\n",
    "    i = 1  # counter for dataframe variable names\n",
    "    df_dict = {}  # dictionary to store dataframes\n",
    "\n",
    "    for subdir, dirs, files in os.walk(root_dir):\n",
    "        for file in files:\n",
    "            if file.endswith(\".csv\"):\n",
    "                filepath = subdir + os.sep + file\n",
    "\n",
    "                # Read the csv file and save it to a dynamically named variable\n",
    "                df_dict['df' + str(i)] = pd.read_csv(filepath)\n",
    "                i += 1\n",
    "    \n",
    "    return df_dict\n",
    "\n",
    "root_dir = 'C:/Users/chimi/Desktop/Python Data Science Projects/Cocoa Production/Data Collection/Forest Data/Ghana Forest'\n",
    "dataframes = read_csvs_into_dataframes(root_dir)\n",
    "\n",
    "\n",
    "# Access each dataframe with 'df1', 'df2', etc.\n",
    "print(dataframes['df1'])\n",
    "\n",
    "\n",
    "# To save each dataframes in the dictionary to its own variable \n",
    "for key, value in dataframes.items():\n",
    "    globals()[key] = value\n",
    "    \n",
    "# Directly access dataframe like below\n",
    "print(df1)\n",
    "print(df2)"
   ]
  },
  {
   "cell_type": "code",
   "execution_count": 161,
   "id": "0579b16e",
   "metadata": {},
   "outputs": [],
   "source": [
    "# Read the geographical data to match the regions\n",
    "geo_data = pd.read_csv('C:/Users/chimi/Desktop/Python Data Science Projects/Cocoa Production/Ghana Geo Data/adm1_metadata.csv')"
   ]
  },
  {
   "cell_type": "code",
   "execution_count": 162,
   "id": "8a92de84",
   "metadata": {},
   "outputs": [
    {
     "data": {
      "text/html": [
       "<div>\n",
       "<style scoped>\n",
       "    .dataframe tbody tr th:only-of-type {\n",
       "        vertical-align: middle;\n",
       "    }\n",
       "\n",
       "    .dataframe tbody tr th {\n",
       "        vertical-align: top;\n",
       "    }\n",
       "\n",
       "    .dataframe thead th {\n",
       "        text-align: right;\n",
       "    }\n",
       "</style>\n",
       "<table border=\"1\" class=\"dataframe\">\n",
       "  <thead>\n",
       "    <tr style=\"text-align: right;\">\n",
       "      <th></th>\n",
       "      <th>name</th>\n",
       "      <th>adm1__id</th>\n",
       "    </tr>\n",
       "  </thead>\n",
       "  <tbody>\n",
       "    <tr>\n",
       "      <th>0</th>\n",
       "      <td>Ashanti</td>\n",
       "      <td>1</td>\n",
       "    </tr>\n",
       "    <tr>\n",
       "      <th>1</th>\n",
       "      <td>Brong Ahafo</td>\n",
       "      <td>2</td>\n",
       "    </tr>\n",
       "    <tr>\n",
       "      <th>2</th>\n",
       "      <td>Central</td>\n",
       "      <td>3</td>\n",
       "    </tr>\n",
       "    <tr>\n",
       "      <th>3</th>\n",
       "      <td>Eastern</td>\n",
       "      <td>4</td>\n",
       "    </tr>\n",
       "    <tr>\n",
       "      <th>4</th>\n",
       "      <td>Greater Accra</td>\n",
       "      <td>5</td>\n",
       "    </tr>\n",
       "  </tbody>\n",
       "</table>\n",
       "</div>"
      ],
      "text/plain": [
       "            name  adm1__id\n",
       "0        Ashanti         1\n",
       "1    Brong Ahafo         2\n",
       "2        Central         3\n",
       "3        Eastern         4\n",
       "4  Greater Accra         5"
      ]
     },
     "execution_count": 162,
     "metadata": {},
     "output_type": "execute_result"
    }
   ],
   "source": [
    "# \n",
    "geo_data.head(5)"
   ]
  },
  {
   "cell_type": "code",
   "execution_count": 163,
   "id": "10bec369",
   "metadata": {},
   "outputs": [
    {
     "data": {
      "text/html": [
       "<div>\n",
       "<style scoped>\n",
       "    .dataframe tbody tr th:only-of-type {\n",
       "        vertical-align: middle;\n",
       "    }\n",
       "\n",
       "    .dataframe tbody tr th {\n",
       "        vertical-align: top;\n",
       "    }\n",
       "\n",
       "    .dataframe thead th {\n",
       "        text-align: right;\n",
       "    }\n",
       "</style>\n",
       "<table border=\"1\" class=\"dataframe\">\n",
       "  <thead>\n",
       "    <tr style=\"text-align: right;\">\n",
       "      <th></th>\n",
       "      <th>iso</th>\n",
       "      <th>adm1</th>\n",
       "      <th>alert__year</th>\n",
       "      <th>alert__week</th>\n",
       "      <th>burn_area__ha</th>\n",
       "    </tr>\n",
       "  </thead>\n",
       "  <tbody>\n",
       "    <tr>\n",
       "      <th>0</th>\n",
       "      <td>GHA</td>\n",
       "      <td>1</td>\n",
       "      <td>2015</td>\n",
       "      <td>9</td>\n",
       "      <td>35606.464847</td>\n",
       "    </tr>\n",
       "    <tr>\n",
       "      <th>1</th>\n",
       "      <td>GHA</td>\n",
       "      <td>1</td>\n",
       "      <td>2003</td>\n",
       "      <td>5</td>\n",
       "      <td>49097.618146</td>\n",
       "    </tr>\n",
       "    <tr>\n",
       "      <th>2</th>\n",
       "      <td>GHA</td>\n",
       "      <td>1</td>\n",
       "      <td>2019</td>\n",
       "      <td>7</td>\n",
       "      <td>3431.239060</td>\n",
       "    </tr>\n",
       "    <tr>\n",
       "      <th>3</th>\n",
       "      <td>GHA</td>\n",
       "      <td>1</td>\n",
       "      <td>2017</td>\n",
       "      <td>43</td>\n",
       "      <td>13.556979</td>\n",
       "    </tr>\n",
       "    <tr>\n",
       "      <th>4</th>\n",
       "      <td>GHA</td>\n",
       "      <td>1</td>\n",
       "      <td>2006</td>\n",
       "      <td>50</td>\n",
       "      <td>3053.151425</td>\n",
       "    </tr>\n",
       "  </tbody>\n",
       "</table>\n",
       "</div>"
      ],
      "text/plain": [
       "   iso  adm1  alert__year  alert__week  burn_area__ha\n",
       "0  GHA     1         2015            9   35606.464847\n",
       "1  GHA     1         2003            5   49097.618146\n",
       "2  GHA     1         2019            7    3431.239060\n",
       "3  GHA     1         2017           43      13.556979\n",
       "4  GHA     1         2006           50    3053.151425"
      ]
     },
     "execution_count": 163,
     "metadata": {},
     "output_type": "execute_result"
    }
   ],
   "source": [
    "df1.head(5)"
   ]
  },
  {
   "cell_type": "code",
   "execution_count": 118,
   "id": "9a74cf82",
   "metadata": {},
   "outputs": [
    {
     "data": {
      "text/plain": [
       "Index(['iso', 'adm1', 'alert__year', 'alert__week', 'burn_area__ha'], dtype='object')"
      ]
     },
     "execution_count": 118,
     "metadata": {},
     "output_type": "execute_result"
    }
   ],
   "source": [
    "df1.columns"
   ]
  },
  {
   "cell_type": "code",
   "execution_count": 119,
   "id": "4e616515",
   "metadata": {},
   "outputs": [
    {
     "data": {
      "text/plain": [
       "(434, 5)"
      ]
     },
     "execution_count": 119,
     "metadata": {},
     "output_type": "execute_result"
    }
   ],
   "source": [
    "df1.shape"
   ]
  },
  {
   "cell_type": "code",
   "execution_count": 120,
   "id": "62bfba72",
   "metadata": {},
   "outputs": [],
   "source": [
    "# Drop irrelevant columns\n",
    "df1.drop(columns=['iso', 'alert__week'],inplace=True)"
   ]
  },
  {
   "cell_type": "code",
   "execution_count": 121,
   "id": "6d49aedf",
   "metadata": {},
   "outputs": [],
   "source": [
    "df1.rename(columns={'adm1':'admin','alert__year':'Year','burn_area__ha':'Burn_Area(ha)'},inplace=True)"
   ]
  },
  {
   "cell_type": "code",
   "execution_count": 122,
   "id": "cbd46853",
   "metadata": {},
   "outputs": [
    {
     "data": {
      "text/html": [
       "<div>\n",
       "<style scoped>\n",
       "    .dataframe tbody tr th:only-of-type {\n",
       "        vertical-align: middle;\n",
       "    }\n",
       "\n",
       "    .dataframe tbody tr th {\n",
       "        vertical-align: top;\n",
       "    }\n",
       "\n",
       "    .dataframe thead th {\n",
       "        text-align: right;\n",
       "    }\n",
       "</style>\n",
       "<table border=\"1\" class=\"dataframe\">\n",
       "  <thead>\n",
       "    <tr style=\"text-align: right;\">\n",
       "      <th></th>\n",
       "      <th>admin</th>\n",
       "      <th>Year</th>\n",
       "      <th>Burn_Area(ha)</th>\n",
       "    </tr>\n",
       "  </thead>\n",
       "  <tbody>\n",
       "    <tr>\n",
       "      <th>0</th>\n",
       "      <td>1</td>\n",
       "      <td>2015</td>\n",
       "      <td>35606.464847</td>\n",
       "    </tr>\n",
       "    <tr>\n",
       "      <th>1</th>\n",
       "      <td>1</td>\n",
       "      <td>2003</td>\n",
       "      <td>49097.618146</td>\n",
       "    </tr>\n",
       "    <tr>\n",
       "      <th>2</th>\n",
       "      <td>1</td>\n",
       "      <td>2019</td>\n",
       "      <td>3431.239060</td>\n",
       "    </tr>\n",
       "    <tr>\n",
       "      <th>3</th>\n",
       "      <td>1</td>\n",
       "      <td>2017</td>\n",
       "      <td>13.556979</td>\n",
       "    </tr>\n",
       "    <tr>\n",
       "      <th>4</th>\n",
       "      <td>1</td>\n",
       "      <td>2006</td>\n",
       "      <td>3053.151425</td>\n",
       "    </tr>\n",
       "  </tbody>\n",
       "</table>\n",
       "</div>"
      ],
      "text/plain": [
       "   admin  Year  Burn_Area(ha)\n",
       "0      1  2015   35606.464847\n",
       "1      1  2003   49097.618146\n",
       "2      1  2019    3431.239060\n",
       "3      1  2017      13.556979\n",
       "4      1  2006    3053.151425"
      ]
     },
     "execution_count": 122,
     "metadata": {},
     "output_type": "execute_result"
    }
   ],
   "source": [
    "df1.head(5)"
   ]
  },
  {
   "cell_type": "code",
   "execution_count": 123,
   "id": "9996175b",
   "metadata": {},
   "outputs": [
    {
     "data": {
      "text/html": [
       "<div>\n",
       "<style scoped>\n",
       "    .dataframe tbody tr th:only-of-type {\n",
       "        vertical-align: middle;\n",
       "    }\n",
       "\n",
       "    .dataframe tbody tr th {\n",
       "        vertical-align: top;\n",
       "    }\n",
       "\n",
       "    .dataframe thead th {\n",
       "        text-align: right;\n",
       "    }\n",
       "</style>\n",
       "<table border=\"1\" class=\"dataframe\">\n",
       "  <thead>\n",
       "    <tr style=\"text-align: right;\">\n",
       "      <th></th>\n",
       "      <th>iso</th>\n",
       "      <th>adm1</th>\n",
       "      <th>alert__year</th>\n",
       "      <th>alert__week</th>\n",
       "      <th>burn_area__ha</th>\n",
       "    </tr>\n",
       "  </thead>\n",
       "  <tbody>\n",
       "    <tr>\n",
       "      <th>0</th>\n",
       "      <td>GHA</td>\n",
       "      <td>2</td>\n",
       "      <td>2019</td>\n",
       "      <td>6</td>\n",
       "      <td>42361.947084</td>\n",
       "    </tr>\n",
       "    <tr>\n",
       "      <th>1</th>\n",
       "      <td>GHA</td>\n",
       "      <td>2</td>\n",
       "      <td>2005</td>\n",
       "      <td>9</td>\n",
       "      <td>230.583865</td>\n",
       "    </tr>\n",
       "    <tr>\n",
       "      <th>2</th>\n",
       "      <td>GHA</td>\n",
       "      <td>2</td>\n",
       "      <td>2000</td>\n",
       "      <td>49</td>\n",
       "      <td>160877.332554</td>\n",
       "    </tr>\n",
       "    <tr>\n",
       "      <th>3</th>\n",
       "      <td>GHA</td>\n",
       "      <td>2</td>\n",
       "      <td>2008</td>\n",
       "      <td>4</td>\n",
       "      <td>115490.324492</td>\n",
       "    </tr>\n",
       "    <tr>\n",
       "      <th>4</th>\n",
       "      <td>GHA</td>\n",
       "      <td>2</td>\n",
       "      <td>2016</td>\n",
       "      <td>17</td>\n",
       "      <td>27.095372</td>\n",
       "    </tr>\n",
       "  </tbody>\n",
       "</table>\n",
       "</div>"
      ],
      "text/plain": [
       "   iso  adm1  alert__year  alert__week  burn_area__ha\n",
       "0  GHA     2         2019            6   42361.947084\n",
       "1  GHA     2         2005            9     230.583865\n",
       "2  GHA     2         2000           49  160877.332554\n",
       "3  GHA     2         2008            4  115490.324492\n",
       "4  GHA     2         2016           17      27.095372"
      ]
     },
     "execution_count": 123,
     "metadata": {},
     "output_type": "execute_result"
    }
   ],
   "source": [
    "df2.head()"
   ]
  },
  {
   "cell_type": "code",
   "execution_count": 124,
   "id": "4e0f26d7",
   "metadata": {},
   "outputs": [
    {
     "data": {
      "text/plain": [
       "Index(['iso', 'adm1', 'alert__year', 'alert__week', 'burn_area__ha'], dtype='object')"
      ]
     },
     "execution_count": 124,
     "metadata": {},
     "output_type": "execute_result"
    }
   ],
   "source": [
    "df2.columns"
   ]
  },
  {
   "cell_type": "code",
   "execution_count": 125,
   "id": "aaa048fb",
   "metadata": {},
   "outputs": [
    {
     "data": {
      "text/plain": [
       "(532, 5)"
      ]
     },
     "execution_count": 125,
     "metadata": {},
     "output_type": "execute_result"
    }
   ],
   "source": [
    "df2.shape"
   ]
  },
  {
   "cell_type": "code",
   "execution_count": 126,
   "id": "ec1affee",
   "metadata": {},
   "outputs": [],
   "source": [
    "df2.rename(columns={'adm1':'admin','alert__year':'Year','burn_area__ha':'Burn_Area(ha)'},inplace=True)"
   ]
  },
  {
   "cell_type": "code",
   "execution_count": 127,
   "id": "6cbd8adb",
   "metadata": {},
   "outputs": [],
   "source": [
    "df2.drop(columns=['iso'],inplace=True)"
   ]
  },
  {
   "cell_type": "code",
   "execution_count": 128,
   "id": "7f028a1d",
   "metadata": {},
   "outputs": [
    {
     "data": {
      "text/html": [
       "<div>\n",
       "<style scoped>\n",
       "    .dataframe tbody tr th:only-of-type {\n",
       "        vertical-align: middle;\n",
       "    }\n",
       "\n",
       "    .dataframe tbody tr th {\n",
       "        vertical-align: top;\n",
       "    }\n",
       "\n",
       "    .dataframe thead th {\n",
       "        text-align: right;\n",
       "    }\n",
       "</style>\n",
       "<table border=\"1\" class=\"dataframe\">\n",
       "  <thead>\n",
       "    <tr style=\"text-align: right;\">\n",
       "      <th></th>\n",
       "      <th>admin</th>\n",
       "      <th>Year</th>\n",
       "      <th>alert__week</th>\n",
       "      <th>Burn_Area(ha)</th>\n",
       "    </tr>\n",
       "  </thead>\n",
       "  <tbody>\n",
       "    <tr>\n",
       "      <th>0</th>\n",
       "      <td>2</td>\n",
       "      <td>2019</td>\n",
       "      <td>6</td>\n",
       "      <td>42361.947084</td>\n",
       "    </tr>\n",
       "    <tr>\n",
       "      <th>1</th>\n",
       "      <td>2</td>\n",
       "      <td>2005</td>\n",
       "      <td>9</td>\n",
       "      <td>230.583865</td>\n",
       "    </tr>\n",
       "    <tr>\n",
       "      <th>2</th>\n",
       "      <td>2</td>\n",
       "      <td>2000</td>\n",
       "      <td>49</td>\n",
       "      <td>160877.332554</td>\n",
       "    </tr>\n",
       "    <tr>\n",
       "      <th>3</th>\n",
       "      <td>2</td>\n",
       "      <td>2008</td>\n",
       "      <td>4</td>\n",
       "      <td>115490.324492</td>\n",
       "    </tr>\n",
       "    <tr>\n",
       "      <th>4</th>\n",
       "      <td>2</td>\n",
       "      <td>2016</td>\n",
       "      <td>17</td>\n",
       "      <td>27.095372</td>\n",
       "    </tr>\n",
       "  </tbody>\n",
       "</table>\n",
       "</div>"
      ],
      "text/plain": [
       "   admin  Year  alert__week  Burn_Area(ha)\n",
       "0      2  2019            6   42361.947084\n",
       "1      2  2005            9     230.583865\n",
       "2      2  2000           49  160877.332554\n",
       "3      2  2008            4  115490.324492\n",
       "4      2  2016           17      27.095372"
      ]
     },
     "execution_count": 128,
     "metadata": {},
     "output_type": "execute_result"
    }
   ],
   "source": [
    "df2.head(5)"
   ]
  },
  {
   "cell_type": "code",
   "execution_count": 129,
   "id": "9314f037",
   "metadata": {},
   "outputs": [
    {
     "data": {
      "text/html": [
       "<div>\n",
       "<style scoped>\n",
       "    .dataframe tbody tr th:only-of-type {\n",
       "        vertical-align: middle;\n",
       "    }\n",
       "\n",
       "    .dataframe tbody tr th {\n",
       "        vertical-align: top;\n",
       "    }\n",
       "\n",
       "    .dataframe thead th {\n",
       "        text-align: right;\n",
       "    }\n",
       "</style>\n",
       "<table border=\"1\" class=\"dataframe\">\n",
       "  <thead>\n",
       "    <tr style=\"text-align: right;\">\n",
       "      <th></th>\n",
       "      <th>iso</th>\n",
       "      <th>adm1</th>\n",
       "      <th>alert__year</th>\n",
       "      <th>alert__week</th>\n",
       "      <th>burn_area__ha</th>\n",
       "    </tr>\n",
       "  </thead>\n",
       "  <tbody>\n",
       "    <tr>\n",
       "      <th>0</th>\n",
       "      <td>GHA</td>\n",
       "      <td>3</td>\n",
       "      <td>2022</td>\n",
       "      <td>10</td>\n",
       "      <td>598.735015</td>\n",
       "    </tr>\n",
       "    <tr>\n",
       "      <th>1</th>\n",
       "      <td>GHA</td>\n",
       "      <td>3</td>\n",
       "      <td>2017</td>\n",
       "      <td>46</td>\n",
       "      <td>13.609414</td>\n",
       "    </tr>\n",
       "    <tr>\n",
       "      <th>2</th>\n",
       "      <td>GHA</td>\n",
       "      <td>3</td>\n",
       "      <td>2016</td>\n",
       "      <td>3</td>\n",
       "      <td>517.115047</td>\n",
       "    </tr>\n",
       "    <tr>\n",
       "      <th>3</th>\n",
       "      <td>GHA</td>\n",
       "      <td>3</td>\n",
       "      <td>2015</td>\n",
       "      <td>10</td>\n",
       "      <td>13.608682</td>\n",
       "    </tr>\n",
       "    <tr>\n",
       "      <th>4</th>\n",
       "      <td>GHA</td>\n",
       "      <td>3</td>\n",
       "      <td>2005</td>\n",
       "      <td>7</td>\n",
       "      <td>95.272146</td>\n",
       "    </tr>\n",
       "  </tbody>\n",
       "</table>\n",
       "</div>"
      ],
      "text/plain": [
       "   iso  adm1  alert__year  alert__week  burn_area__ha\n",
       "0  GHA     3         2022           10     598.735015\n",
       "1  GHA     3         2017           46      13.609414\n",
       "2  GHA     3         2016            3     517.115047\n",
       "3  GHA     3         2015           10      13.608682\n",
       "4  GHA     3         2005            7      95.272146"
      ]
     },
     "execution_count": 129,
     "metadata": {},
     "output_type": "execute_result"
    }
   ],
   "source": [
    "df3.head(5)"
   ]
  },
  {
   "cell_type": "code",
   "execution_count": 130,
   "id": "b51d5a36",
   "metadata": {},
   "outputs": [
    {
     "data": {
      "text/plain": [
       "(197, 5)"
      ]
     },
     "execution_count": 130,
     "metadata": {},
     "output_type": "execute_result"
    }
   ],
   "source": [
    "df3.shape"
   ]
  },
  {
   "cell_type": "code",
   "execution_count": 131,
   "id": "973b98a3",
   "metadata": {},
   "outputs": [
    {
     "data": {
      "text/plain": [
       "Index(['iso', 'adm1', 'alert__year', 'alert__week', 'burn_area__ha'], dtype='object')"
      ]
     },
     "execution_count": 131,
     "metadata": {},
     "output_type": "execute_result"
    }
   ],
   "source": [
    "df3.columns"
   ]
  },
  {
   "cell_type": "code",
   "execution_count": 132,
   "id": "693b6a9e",
   "metadata": {},
   "outputs": [],
   "source": [
    "df3.drop(columns=['iso'],inplace=True)"
   ]
  },
  {
   "cell_type": "code",
   "execution_count": 133,
   "id": "715d5e70",
   "metadata": {},
   "outputs": [],
   "source": [
    "df3.rename(columns={'adm1':'admin','alert__year':'Year','burn_area__ha':'Burn_Area(ha)'},inplace=True)"
   ]
  },
  {
   "cell_type": "code",
   "execution_count": 134,
   "id": "d51e0657",
   "metadata": {},
   "outputs": [
    {
     "data": {
      "text/html": [
       "<div>\n",
       "<style scoped>\n",
       "    .dataframe tbody tr th:only-of-type {\n",
       "        vertical-align: middle;\n",
       "    }\n",
       "\n",
       "    .dataframe tbody tr th {\n",
       "        vertical-align: top;\n",
       "    }\n",
       "\n",
       "    .dataframe thead th {\n",
       "        text-align: right;\n",
       "    }\n",
       "</style>\n",
       "<table border=\"1\" class=\"dataframe\">\n",
       "  <thead>\n",
       "    <tr style=\"text-align: right;\">\n",
       "      <th></th>\n",
       "      <th>admin</th>\n",
       "      <th>Year</th>\n",
       "      <th>alert__week</th>\n",
       "      <th>Burn_Area(ha)</th>\n",
       "    </tr>\n",
       "  </thead>\n",
       "  <tbody>\n",
       "    <tr>\n",
       "      <th>0</th>\n",
       "      <td>3</td>\n",
       "      <td>2022</td>\n",
       "      <td>10</td>\n",
       "      <td>598.735015</td>\n",
       "    </tr>\n",
       "    <tr>\n",
       "      <th>1</th>\n",
       "      <td>3</td>\n",
       "      <td>2017</td>\n",
       "      <td>46</td>\n",
       "      <td>13.609414</td>\n",
       "    </tr>\n",
       "    <tr>\n",
       "      <th>2</th>\n",
       "      <td>3</td>\n",
       "      <td>2016</td>\n",
       "      <td>3</td>\n",
       "      <td>517.115047</td>\n",
       "    </tr>\n",
       "    <tr>\n",
       "      <th>3</th>\n",
       "      <td>3</td>\n",
       "      <td>2015</td>\n",
       "      <td>10</td>\n",
       "      <td>13.608682</td>\n",
       "    </tr>\n",
       "    <tr>\n",
       "      <th>4</th>\n",
       "      <td>3</td>\n",
       "      <td>2005</td>\n",
       "      <td>7</td>\n",
       "      <td>95.272146</td>\n",
       "    </tr>\n",
       "  </tbody>\n",
       "</table>\n",
       "</div>"
      ],
      "text/plain": [
       "   admin  Year  alert__week  Burn_Area(ha)\n",
       "0      3  2022           10     598.735015\n",
       "1      3  2017           46      13.609414\n",
       "2      3  2016            3     517.115047\n",
       "3      3  2015           10      13.608682\n",
       "4      3  2005            7      95.272146"
      ]
     },
     "execution_count": 134,
     "metadata": {},
     "output_type": "execute_result"
    }
   ],
   "source": [
    "df3.head(5)"
   ]
  },
  {
   "cell_type": "code",
   "execution_count": 135,
   "id": "8a735cfc",
   "metadata": {},
   "outputs": [
    {
     "data": {
      "text/html": [
       "<div>\n",
       "<style scoped>\n",
       "    .dataframe tbody tr th:only-of-type {\n",
       "        vertical-align: middle;\n",
       "    }\n",
       "\n",
       "    .dataframe tbody tr th {\n",
       "        vertical-align: top;\n",
       "    }\n",
       "\n",
       "    .dataframe thead th {\n",
       "        text-align: right;\n",
       "    }\n",
       "</style>\n",
       "<table border=\"1\" class=\"dataframe\">\n",
       "  <thead>\n",
       "    <tr style=\"text-align: right;\">\n",
       "      <th></th>\n",
       "      <th>iso</th>\n",
       "      <th>adm1</th>\n",
       "      <th>alert__year</th>\n",
       "      <th>alert__week</th>\n",
       "      <th>burn_area__ha</th>\n",
       "    </tr>\n",
       "  </thead>\n",
       "  <tbody>\n",
       "    <tr>\n",
       "      <th>0</th>\n",
       "      <td>GHA</td>\n",
       "      <td>4</td>\n",
       "      <td>2014</td>\n",
       "      <td>49</td>\n",
       "      <td>2063.517721</td>\n",
       "    </tr>\n",
       "    <tr>\n",
       "      <th>1</th>\n",
       "      <td>GHA</td>\n",
       "      <td>4</td>\n",
       "      <td>2008</td>\n",
       "      <td>11</td>\n",
       "      <td>190.040301</td>\n",
       "    </tr>\n",
       "    <tr>\n",
       "      <th>2</th>\n",
       "      <td>GHA</td>\n",
       "      <td>4</td>\n",
       "      <td>2004</td>\n",
       "      <td>1</td>\n",
       "      <td>2117.516758</td>\n",
       "    </tr>\n",
       "    <tr>\n",
       "      <th>3</th>\n",
       "      <td>GHA</td>\n",
       "      <td>4</td>\n",
       "      <td>2015</td>\n",
       "      <td>53</td>\n",
       "      <td>12990.380040</td>\n",
       "    </tr>\n",
       "    <tr>\n",
       "      <th>4</th>\n",
       "      <td>GHA</td>\n",
       "      <td>4</td>\n",
       "      <td>2010</td>\n",
       "      <td>13</td>\n",
       "      <td>230.995103</td>\n",
       "    </tr>\n",
       "  </tbody>\n",
       "</table>\n",
       "</div>"
      ],
      "text/plain": [
       "   iso  adm1  alert__year  alert__week  burn_area__ha\n",
       "0  GHA     4         2014           49    2063.517721\n",
       "1  GHA     4         2008           11     190.040301\n",
       "2  GHA     4         2004            1    2117.516758\n",
       "3  GHA     4         2015           53   12990.380040\n",
       "4  GHA     4         2010           13     230.995103"
      ]
     },
     "execution_count": 135,
     "metadata": {},
     "output_type": "execute_result"
    }
   ],
   "source": [
    "df4.head(5)"
   ]
  },
  {
   "cell_type": "code",
   "execution_count": 136,
   "id": "6d4283f9",
   "metadata": {},
   "outputs": [
    {
     "data": {
      "text/plain": [
       "(468, 5)"
      ]
     },
     "execution_count": 136,
     "metadata": {},
     "output_type": "execute_result"
    }
   ],
   "source": [
    "df4.shape"
   ]
  },
  {
   "cell_type": "code",
   "execution_count": 137,
   "id": "b875e576",
   "metadata": {},
   "outputs": [
    {
     "data": {
      "text/plain": [
       "Index(['iso', 'adm1', 'alert__year', 'alert__week', 'burn_area__ha'], dtype='object')"
      ]
     },
     "execution_count": 137,
     "metadata": {},
     "output_type": "execute_result"
    }
   ],
   "source": [
    "df4.columns"
   ]
  },
  {
   "cell_type": "code",
   "execution_count": 138,
   "id": "0676f6f6",
   "metadata": {},
   "outputs": [
    {
     "data": {
      "text/html": [
       "<div>\n",
       "<style scoped>\n",
       "    .dataframe tbody tr th:only-of-type {\n",
       "        vertical-align: middle;\n",
       "    }\n",
       "\n",
       "    .dataframe tbody tr th {\n",
       "        vertical-align: top;\n",
       "    }\n",
       "\n",
       "    .dataframe thead th {\n",
       "        text-align: right;\n",
       "    }\n",
       "</style>\n",
       "<table border=\"1\" class=\"dataframe\">\n",
       "  <thead>\n",
       "    <tr style=\"text-align: right;\">\n",
       "      <th></th>\n",
       "      <th>adm1</th>\n",
       "      <th>alert__year</th>\n",
       "      <th>alert__week</th>\n",
       "      <th>burn_area__ha</th>\n",
       "    </tr>\n",
       "  </thead>\n",
       "  <tbody>\n",
       "    <tr>\n",
       "      <th>0</th>\n",
       "      <td>4</td>\n",
       "      <td>2014</td>\n",
       "      <td>49</td>\n",
       "      <td>2063.517721</td>\n",
       "    </tr>\n",
       "    <tr>\n",
       "      <th>1</th>\n",
       "      <td>4</td>\n",
       "      <td>2008</td>\n",
       "      <td>11</td>\n",
       "      <td>190.040301</td>\n",
       "    </tr>\n",
       "    <tr>\n",
       "      <th>2</th>\n",
       "      <td>4</td>\n",
       "      <td>2004</td>\n",
       "      <td>1</td>\n",
       "      <td>2117.516758</td>\n",
       "    </tr>\n",
       "    <tr>\n",
       "      <th>3</th>\n",
       "      <td>4</td>\n",
       "      <td>2015</td>\n",
       "      <td>53</td>\n",
       "      <td>12990.380040</td>\n",
       "    </tr>\n",
       "    <tr>\n",
       "      <th>4</th>\n",
       "      <td>4</td>\n",
       "      <td>2010</td>\n",
       "      <td>13</td>\n",
       "      <td>230.995103</td>\n",
       "    </tr>\n",
       "    <tr>\n",
       "      <th>...</th>\n",
       "      <td>...</td>\n",
       "      <td>...</td>\n",
       "      <td>...</td>\n",
       "      <td>...</td>\n",
       "    </tr>\n",
       "    <tr>\n",
       "      <th>463</th>\n",
       "      <td>4</td>\n",
       "      <td>2017</td>\n",
       "      <td>7</td>\n",
       "      <td>1304.016558</td>\n",
       "    </tr>\n",
       "    <tr>\n",
       "      <th>464</th>\n",
       "      <td>4</td>\n",
       "      <td>2022</td>\n",
       "      <td>12</td>\n",
       "      <td>176.600041</td>\n",
       "    </tr>\n",
       "    <tr>\n",
       "      <th>465</th>\n",
       "      <td>4</td>\n",
       "      <td>2015</td>\n",
       "      <td>6</td>\n",
       "      <td>3407.341470</td>\n",
       "    </tr>\n",
       "    <tr>\n",
       "      <th>466</th>\n",
       "      <td>4</td>\n",
       "      <td>2021</td>\n",
       "      <td>48</td>\n",
       "      <td>1167.489080</td>\n",
       "    </tr>\n",
       "    <tr>\n",
       "      <th>467</th>\n",
       "      <td>4</td>\n",
       "      <td>2017</td>\n",
       "      <td>52</td>\n",
       "      <td>14684.198447</td>\n",
       "    </tr>\n",
       "  </tbody>\n",
       "</table>\n",
       "<p>468 rows × 4 columns</p>\n",
       "</div>"
      ],
      "text/plain": [
       "     adm1  alert__year  alert__week  burn_area__ha\n",
       "0       4         2014           49    2063.517721\n",
       "1       4         2008           11     190.040301\n",
       "2       4         2004            1    2117.516758\n",
       "3       4         2015           53   12990.380040\n",
       "4       4         2010           13     230.995103\n",
       "..    ...          ...          ...            ...\n",
       "463     4         2017            7    1304.016558\n",
       "464     4         2022           12     176.600041\n",
       "465     4         2015            6    3407.341470\n",
       "466     4         2021           48    1167.489080\n",
       "467     4         2017           52   14684.198447\n",
       "\n",
       "[468 rows x 4 columns]"
      ]
     },
     "execution_count": 138,
     "metadata": {},
     "output_type": "execute_result"
    }
   ],
   "source": [
    "df4.drop(columns=['iso'])"
   ]
  },
  {
   "cell_type": "code",
   "execution_count": 139,
   "id": "7b01396e",
   "metadata": {},
   "outputs": [],
   "source": [
    "df1.rename(columns={'adm1':'admin','alert__year':'Year','burn_area__ha':'Burn_Area(ha)'},inplace=True)"
   ]
  },
  {
   "cell_type": "code",
   "execution_count": 140,
   "id": "7c320e15",
   "metadata": {},
   "outputs": [
    {
     "data": {
      "text/html": [
       "<div>\n",
       "<style scoped>\n",
       "    .dataframe tbody tr th:only-of-type {\n",
       "        vertical-align: middle;\n",
       "    }\n",
       "\n",
       "    .dataframe tbody tr th {\n",
       "        vertical-align: top;\n",
       "    }\n",
       "\n",
       "    .dataframe thead th {\n",
       "        text-align: right;\n",
       "    }\n",
       "</style>\n",
       "<table border=\"1\" class=\"dataframe\">\n",
       "  <thead>\n",
       "    <tr style=\"text-align: right;\">\n",
       "      <th></th>\n",
       "      <th>iso</th>\n",
       "      <th>adm1</th>\n",
       "      <th>alert__year</th>\n",
       "      <th>alert__week</th>\n",
       "      <th>burn_area__ha</th>\n",
       "    </tr>\n",
       "  </thead>\n",
       "  <tbody>\n",
       "    <tr>\n",
       "      <th>0</th>\n",
       "      <td>GHA</td>\n",
       "      <td>4</td>\n",
       "      <td>2014</td>\n",
       "      <td>49</td>\n",
       "      <td>2063.517721</td>\n",
       "    </tr>\n",
       "    <tr>\n",
       "      <th>1</th>\n",
       "      <td>GHA</td>\n",
       "      <td>4</td>\n",
       "      <td>2008</td>\n",
       "      <td>11</td>\n",
       "      <td>190.040301</td>\n",
       "    </tr>\n",
       "    <tr>\n",
       "      <th>2</th>\n",
       "      <td>GHA</td>\n",
       "      <td>4</td>\n",
       "      <td>2004</td>\n",
       "      <td>1</td>\n",
       "      <td>2117.516758</td>\n",
       "    </tr>\n",
       "    <tr>\n",
       "      <th>3</th>\n",
       "      <td>GHA</td>\n",
       "      <td>4</td>\n",
       "      <td>2015</td>\n",
       "      <td>53</td>\n",
       "      <td>12990.380040</td>\n",
       "    </tr>\n",
       "    <tr>\n",
       "      <th>4</th>\n",
       "      <td>GHA</td>\n",
       "      <td>4</td>\n",
       "      <td>2010</td>\n",
       "      <td>13</td>\n",
       "      <td>230.995103</td>\n",
       "    </tr>\n",
       "  </tbody>\n",
       "</table>\n",
       "</div>"
      ],
      "text/plain": [
       "   iso  adm1  alert__year  alert__week  burn_area__ha\n",
       "0  GHA     4         2014           49    2063.517721\n",
       "1  GHA     4         2008           11     190.040301\n",
       "2  GHA     4         2004            1    2117.516758\n",
       "3  GHA     4         2015           53   12990.380040\n",
       "4  GHA     4         2010           13     230.995103"
      ]
     },
     "execution_count": 140,
     "metadata": {},
     "output_type": "execute_result"
    }
   ],
   "source": [
    "df4.head(5)"
   ]
  },
  {
   "cell_type": "code",
   "execution_count": 141,
   "id": "34f72161",
   "metadata": {},
   "outputs": [],
   "source": [
    "df1.rename(columns={'adm1':'admin','alert__year':'Year','burn_area__ha':'Burn_Area(ha)'},inplace=True)"
   ]
  },
  {
   "cell_type": "code",
   "execution_count": 142,
   "id": "bf970b1b",
   "metadata": {},
   "outputs": [
    {
     "data": {
      "text/html": [
       "<div>\n",
       "<style scoped>\n",
       "    .dataframe tbody tr th:only-of-type {\n",
       "        vertical-align: middle;\n",
       "    }\n",
       "\n",
       "    .dataframe tbody tr th {\n",
       "        vertical-align: top;\n",
       "    }\n",
       "\n",
       "    .dataframe thead th {\n",
       "        text-align: right;\n",
       "    }\n",
       "</style>\n",
       "<table border=\"1\" class=\"dataframe\">\n",
       "  <thead>\n",
       "    <tr style=\"text-align: right;\">\n",
       "      <th></th>\n",
       "      <th>iso</th>\n",
       "      <th>adm1</th>\n",
       "      <th>alert__year</th>\n",
       "      <th>alert__week</th>\n",
       "      <th>burn_area__ha</th>\n",
       "    </tr>\n",
       "  </thead>\n",
       "  <tbody>\n",
       "    <tr>\n",
       "      <th>0</th>\n",
       "      <td>GHA</td>\n",
       "      <td>4</td>\n",
       "      <td>2014</td>\n",
       "      <td>49</td>\n",
       "      <td>2063.517721</td>\n",
       "    </tr>\n",
       "    <tr>\n",
       "      <th>1</th>\n",
       "      <td>GHA</td>\n",
       "      <td>4</td>\n",
       "      <td>2008</td>\n",
       "      <td>11</td>\n",
       "      <td>190.040301</td>\n",
       "    </tr>\n",
       "    <tr>\n",
       "      <th>2</th>\n",
       "      <td>GHA</td>\n",
       "      <td>4</td>\n",
       "      <td>2004</td>\n",
       "      <td>1</td>\n",
       "      <td>2117.516758</td>\n",
       "    </tr>\n",
       "    <tr>\n",
       "      <th>3</th>\n",
       "      <td>GHA</td>\n",
       "      <td>4</td>\n",
       "      <td>2015</td>\n",
       "      <td>53</td>\n",
       "      <td>12990.380040</td>\n",
       "    </tr>\n",
       "    <tr>\n",
       "      <th>4</th>\n",
       "      <td>GHA</td>\n",
       "      <td>4</td>\n",
       "      <td>2010</td>\n",
       "      <td>13</td>\n",
       "      <td>230.995103</td>\n",
       "    </tr>\n",
       "  </tbody>\n",
       "</table>\n",
       "</div>"
      ],
      "text/plain": [
       "   iso  adm1  alert__year  alert__week  burn_area__ha\n",
       "0  GHA     4         2014           49    2063.517721\n",
       "1  GHA     4         2008           11     190.040301\n",
       "2  GHA     4         2004            1    2117.516758\n",
       "3  GHA     4         2015           53   12990.380040\n",
       "4  GHA     4         2010           13     230.995103"
      ]
     },
     "execution_count": 142,
     "metadata": {},
     "output_type": "execute_result"
    }
   ],
   "source": [
    "df4.head(5)"
   ]
  },
  {
   "cell_type": "code",
   "execution_count": 143,
   "id": "7b2015eb",
   "metadata": {},
   "outputs": [
    {
     "data": {
      "text/plain": [
       "(468, 5)"
      ]
     },
     "execution_count": 143,
     "metadata": {},
     "output_type": "execute_result"
    }
   ],
   "source": [
    "df4.shape"
   ]
  },
  {
   "cell_type": "code",
   "execution_count": 144,
   "id": "4b00b02e",
   "metadata": {},
   "outputs": [
    {
     "data": {
      "text/plain": [
       "Index(['iso', 'adm1', 'alert__year', 'alert__week', 'burn_area__ha'], dtype='object')"
      ]
     },
     "execution_count": 144,
     "metadata": {},
     "output_type": "execute_result"
    }
   ],
   "source": [
    "df4.columns"
   ]
  },
  {
   "cell_type": "code",
   "execution_count": 145,
   "id": "6e368b2d",
   "metadata": {},
   "outputs": [],
   "source": [
    "df4.rename(columns={'adm1':'admin','alert__year':'Year','burn_area__ha':'Burn_Area(ha)'},inplace=True)"
   ]
  },
  {
   "cell_type": "code",
   "execution_count": 146,
   "id": "309d477f",
   "metadata": {},
   "outputs": [],
   "source": [
    "df4.drop(columns=['iso'],inplace=True)"
   ]
  },
  {
   "cell_type": "code",
   "execution_count": 147,
   "id": "8d1e7a79",
   "metadata": {},
   "outputs": [
    {
     "data": {
      "text/html": [
       "<div>\n",
       "<style scoped>\n",
       "    .dataframe tbody tr th:only-of-type {\n",
       "        vertical-align: middle;\n",
       "    }\n",
       "\n",
       "    .dataframe tbody tr th {\n",
       "        vertical-align: top;\n",
       "    }\n",
       "\n",
       "    .dataframe thead th {\n",
       "        text-align: right;\n",
       "    }\n",
       "</style>\n",
       "<table border=\"1\" class=\"dataframe\">\n",
       "  <thead>\n",
       "    <tr style=\"text-align: right;\">\n",
       "      <th></th>\n",
       "      <th>admin</th>\n",
       "      <th>Year</th>\n",
       "      <th>alert__week</th>\n",
       "      <th>Burn_Area(ha)</th>\n",
       "    </tr>\n",
       "  </thead>\n",
       "  <tbody>\n",
       "    <tr>\n",
       "      <th>0</th>\n",
       "      <td>4</td>\n",
       "      <td>2014</td>\n",
       "      <td>49</td>\n",
       "      <td>2063.517721</td>\n",
       "    </tr>\n",
       "    <tr>\n",
       "      <th>1</th>\n",
       "      <td>4</td>\n",
       "      <td>2008</td>\n",
       "      <td>11</td>\n",
       "      <td>190.040301</td>\n",
       "    </tr>\n",
       "    <tr>\n",
       "      <th>2</th>\n",
       "      <td>4</td>\n",
       "      <td>2004</td>\n",
       "      <td>1</td>\n",
       "      <td>2117.516758</td>\n",
       "    </tr>\n",
       "    <tr>\n",
       "      <th>3</th>\n",
       "      <td>4</td>\n",
       "      <td>2015</td>\n",
       "      <td>53</td>\n",
       "      <td>12990.380040</td>\n",
       "    </tr>\n",
       "    <tr>\n",
       "      <th>4</th>\n",
       "      <td>4</td>\n",
       "      <td>2010</td>\n",
       "      <td>13</td>\n",
       "      <td>230.995103</td>\n",
       "    </tr>\n",
       "  </tbody>\n",
       "</table>\n",
       "</div>"
      ],
      "text/plain": [
       "   admin  Year  alert__week  Burn_Area(ha)\n",
       "0      4  2014           49    2063.517721\n",
       "1      4  2008           11     190.040301\n",
       "2      4  2004            1    2117.516758\n",
       "3      4  2015           53   12990.380040\n",
       "4      4  2010           13     230.995103"
      ]
     },
     "execution_count": 147,
     "metadata": {},
     "output_type": "execute_result"
    }
   ],
   "source": [
    "df4.head(5)"
   ]
  },
  {
   "cell_type": "code",
   "execution_count": 148,
   "id": "55a64673",
   "metadata": {},
   "outputs": [],
   "source": [
    "fire_data = pd.concat([df1, df2, df3, df4], axis=0)"
   ]
  },
  {
   "cell_type": "code",
   "execution_count": 151,
   "id": "d144d493",
   "metadata": {},
   "outputs": [
    {
     "data": {
      "text/plain": [
       "Index(['admin', 'Year', 'Burn_Area(ha)', 'alert__week'], dtype='object')"
      ]
     },
     "execution_count": 151,
     "metadata": {},
     "output_type": "execute_result"
    }
   ],
   "source": [
    "fire_data.columns"
   ]
  },
  {
   "cell_type": "code",
   "execution_count": 152,
   "id": "eac3488f",
   "metadata": {},
   "outputs": [],
   "source": [
    "fire_data.drop(columns=['alert__week'],inplace=True)"
   ]
  },
  {
   "cell_type": "code",
   "execution_count": 153,
   "id": "6eef7da9",
   "metadata": {},
   "outputs": [
    {
     "data": {
      "text/html": [
       "<div>\n",
       "<style scoped>\n",
       "    .dataframe tbody tr th:only-of-type {\n",
       "        vertical-align: middle;\n",
       "    }\n",
       "\n",
       "    .dataframe tbody tr th {\n",
       "        vertical-align: top;\n",
       "    }\n",
       "\n",
       "    .dataframe thead th {\n",
       "        text-align: right;\n",
       "    }\n",
       "</style>\n",
       "<table border=\"1\" class=\"dataframe\">\n",
       "  <thead>\n",
       "    <tr style=\"text-align: right;\">\n",
       "      <th></th>\n",
       "      <th>admin</th>\n",
       "      <th>Year</th>\n",
       "      <th>Burn_Area(ha)</th>\n",
       "    </tr>\n",
       "  </thead>\n",
       "  <tbody>\n",
       "    <tr>\n",
       "      <th>0</th>\n",
       "      <td>1</td>\n",
       "      <td>2015</td>\n",
       "      <td>35606.464847</td>\n",
       "    </tr>\n",
       "    <tr>\n",
       "      <th>1</th>\n",
       "      <td>1</td>\n",
       "      <td>2003</td>\n",
       "      <td>49097.618146</td>\n",
       "    </tr>\n",
       "    <tr>\n",
       "      <th>2</th>\n",
       "      <td>1</td>\n",
       "      <td>2019</td>\n",
       "      <td>3431.239060</td>\n",
       "    </tr>\n",
       "    <tr>\n",
       "      <th>3</th>\n",
       "      <td>1</td>\n",
       "      <td>2017</td>\n",
       "      <td>13.556979</td>\n",
       "    </tr>\n",
       "    <tr>\n",
       "      <th>4</th>\n",
       "      <td>1</td>\n",
       "      <td>2006</td>\n",
       "      <td>3053.151425</td>\n",
       "    </tr>\n",
       "  </tbody>\n",
       "</table>\n",
       "</div>"
      ],
      "text/plain": [
       "   admin  Year  Burn_Area(ha)\n",
       "0      1  2015   35606.464847\n",
       "1      1  2003   49097.618146\n",
       "2      1  2019    3431.239060\n",
       "3      1  2017      13.556979\n",
       "4      1  2006    3053.151425"
      ]
     },
     "execution_count": 153,
     "metadata": {},
     "output_type": "execute_result"
    }
   ],
   "source": [
    "# Data to merge\n",
    "fire_data.head()"
   ]
  },
  {
   "cell_type": "code",
   "execution_count": 154,
   "id": "ccbc5fa2",
   "metadata": {},
   "outputs": [
    {
     "data": {
      "text/html": [
       "<div>\n",
       "<style scoped>\n",
       "    .dataframe tbody tr th:only-of-type {\n",
       "        vertical-align: middle;\n",
       "    }\n",
       "\n",
       "    .dataframe tbody tr th {\n",
       "        vertical-align: top;\n",
       "    }\n",
       "\n",
       "    .dataframe thead th {\n",
       "        text-align: right;\n",
       "    }\n",
       "</style>\n",
       "<table border=\"1\" class=\"dataframe\">\n",
       "  <thead>\n",
       "    <tr style=\"text-align: right;\">\n",
       "      <th></th>\n",
       "      <th>iso</th>\n",
       "      <th>adm1</th>\n",
       "      <th>umd_tree_cover_extent_2010__ha</th>\n",
       "      <th>area__ha</th>\n",
       "    </tr>\n",
       "  </thead>\n",
       "  <tbody>\n",
       "    <tr>\n",
       "      <th>0</th>\n",
       "      <td>GHA</td>\n",
       "      <td>1</td>\n",
       "      <td>1.513515e+06</td>\n",
       "      <td>2.490413e+06</td>\n",
       "    </tr>\n",
       "  </tbody>\n",
       "</table>\n",
       "</div>"
      ],
      "text/plain": [
       "   iso  adm1  umd_tree_cover_extent_2010__ha      area__ha\n",
       "0  GHA     1                    1.513515e+06  2.490413e+06"
      ]
     },
     "execution_count": 154,
     "metadata": {},
     "output_type": "execute_result"
    }
   ],
   "source": [
    "df5.head(5)"
   ]
  },
  {
   "cell_type": "code",
   "execution_count": 155,
   "id": "c6e1ff0c",
   "metadata": {},
   "outputs": [
    {
     "data": {
      "text/plain": [
       "(1, 4)"
      ]
     },
     "execution_count": 155,
     "metadata": {},
     "output_type": "execute_result"
    }
   ],
   "source": [
    "df5.shape"
   ]
  },
  {
   "cell_type": "code",
   "execution_count": 156,
   "id": "15de52b3",
   "metadata": {},
   "outputs": [
    {
     "data": {
      "text/plain": [
       "Index(['iso', 'adm1', 'umd_tree_cover_extent_2010__ha', 'area__ha'], dtype='object')"
      ]
     },
     "execution_count": 156,
     "metadata": {},
     "output_type": "execute_result"
    }
   ],
   "source": [
    "df5.columns"
   ]
  },
  {
   "cell_type": "code",
   "execution_count": 157,
   "id": "36f31b52",
   "metadata": {},
   "outputs": [],
   "source": [
    "df5.drop(columns=['iso'],inplace=True)"
   ]
  },
  {
   "cell_type": "code",
   "execution_count": 166,
   "id": "49c6ad6e",
   "metadata": {},
   "outputs": [
    {
     "data": {
      "text/html": [
       "<div>\n",
       "<style scoped>\n",
       "    .dataframe tbody tr th:only-of-type {\n",
       "        vertical-align: middle;\n",
       "    }\n",
       "\n",
       "    .dataframe tbody tr th {\n",
       "        vertical-align: top;\n",
       "    }\n",
       "\n",
       "    .dataframe thead th {\n",
       "        text-align: right;\n",
       "    }\n",
       "</style>\n",
       "<table border=\"1\" class=\"dataframe\">\n",
       "  <thead>\n",
       "    <tr style=\"text-align: right;\">\n",
       "      <th></th>\n",
       "      <th>iso</th>\n",
       "      <th>admin</th>\n",
       "      <th>umd_tree_cover_extent_2010__ha</th>\n",
       "      <th>area__ha</th>\n",
       "    </tr>\n",
       "  </thead>\n",
       "  <tbody>\n",
       "    <tr>\n",
       "      <th>0</th>\n",
       "      <td>GHA</td>\n",
       "      <td>1</td>\n",
       "      <td>1.513515e+06</td>\n",
       "      <td>2.490413e+06</td>\n",
       "    </tr>\n",
       "  </tbody>\n",
       "</table>\n",
       "</div>"
      ],
      "text/plain": [
       "   iso  admin  umd_tree_cover_extent_2010__ha      area__ha\n",
       "0  GHA      1                    1.513515e+06  2.490413e+06"
      ]
     },
     "execution_count": 166,
     "metadata": {},
     "output_type": "execute_result"
    }
   ],
   "source": [
    "df5.head(5)"
   ]
  },
  {
   "cell_type": "code",
   "execution_count": 46,
   "id": "49c48dcb",
   "metadata": {},
   "outputs": [
    {
     "data": {
      "text/html": [
       "<div>\n",
       "<style scoped>\n",
       "    .dataframe tbody tr th:only-of-type {\n",
       "        vertical-align: middle;\n",
       "    }\n",
       "\n",
       "    .dataframe tbody tr th {\n",
       "        vertical-align: top;\n",
       "    }\n",
       "\n",
       "    .dataframe thead th {\n",
       "        text-align: right;\n",
       "    }\n",
       "</style>\n",
       "<table border=\"1\" class=\"dataframe\">\n",
       "  <thead>\n",
       "    <tr style=\"text-align: right;\">\n",
       "      <th></th>\n",
       "      <th>iso</th>\n",
       "      <th>adm1</th>\n",
       "      <th>umd_tree_cover_loss__year</th>\n",
       "      <th>umd_tree_cover_loss__ha</th>\n",
       "      <th>gfw_gross_emissions_co2e_all_gases__Mg</th>\n",
       "    </tr>\n",
       "  </thead>\n",
       "  <tbody>\n",
       "    <tr>\n",
       "      <th>0</th>\n",
       "      <td>GHA</td>\n",
       "      <td>2</td>\n",
       "      <td>2001</td>\n",
       "      <td>114.382862</td>\n",
       "      <td>51494.304030</td>\n",
       "    </tr>\n",
       "    <tr>\n",
       "      <th>1</th>\n",
       "      <td>GHA</td>\n",
       "      <td>2</td>\n",
       "      <td>2002</td>\n",
       "      <td>406.237721</td>\n",
       "      <td>168585.421119</td>\n",
       "    </tr>\n",
       "    <tr>\n",
       "      <th>2</th>\n",
       "      <td>GHA</td>\n",
       "      <td>2</td>\n",
       "      <td>2003</td>\n",
       "      <td>165.411364</td>\n",
       "      <td>65304.329460</td>\n",
       "    </tr>\n",
       "    <tr>\n",
       "      <th>3</th>\n",
       "      <td>GHA</td>\n",
       "      <td>2</td>\n",
       "      <td>2004</td>\n",
       "      <td>134.557981</td>\n",
       "      <td>54312.863977</td>\n",
       "    </tr>\n",
       "    <tr>\n",
       "      <th>4</th>\n",
       "      <td>GHA</td>\n",
       "      <td>2</td>\n",
       "      <td>2005</td>\n",
       "      <td>191.926633</td>\n",
       "      <td>77131.952843</td>\n",
       "    </tr>\n",
       "  </tbody>\n",
       "</table>\n",
       "</div>"
      ],
      "text/plain": [
       "   iso  adm1  umd_tree_cover_loss__year  umd_tree_cover_loss__ha  \\\n",
       "0  GHA     2                       2001               114.382862   \n",
       "1  GHA     2                       2002               406.237721   \n",
       "2  GHA     2                       2003               165.411364   \n",
       "3  GHA     2                       2004               134.557981   \n",
       "4  GHA     2                       2005               191.926633   \n",
       "\n",
       "   gfw_gross_emissions_co2e_all_gases__Mg  \n",
       "0                            51494.304030  \n",
       "1                           168585.421119  \n",
       "2                            65304.329460  \n",
       "3                            54312.863977  \n",
       "4                            77131.952843  "
      ]
     },
     "execution_count": 46,
     "metadata": {},
     "output_type": "execute_result"
    }
   ],
   "source": [
    "df6.head(5)"
   ]
  },
  {
   "cell_type": "code",
   "execution_count": 47,
   "id": "6343c98b",
   "metadata": {},
   "outputs": [
    {
     "data": {
      "text/plain": [
       "(21, 5)"
      ]
     },
     "execution_count": 47,
     "metadata": {},
     "output_type": "execute_result"
    }
   ],
   "source": [
    "df6.shape"
   ]
  },
  {
   "cell_type": "code",
   "execution_count": 48,
   "id": "53f2e27f",
   "metadata": {},
   "outputs": [
    {
     "data": {
      "text/plain": [
       "Index(['iso', 'adm1', 'umd_tree_cover_loss__year', 'umd_tree_cover_loss__ha',\n",
       "       'gfw_gross_emissions_co2e_all_gases__Mg'],\n",
       "      dtype='object')"
      ]
     },
     "execution_count": 48,
     "metadata": {},
     "output_type": "execute_result"
    }
   ],
   "source": [
    "df6.columns"
   ]
  },
  {
   "cell_type": "code",
   "execution_count": 49,
   "id": "7828b4d5",
   "metadata": {},
   "outputs": [],
   "source": [
    "df6.drop(columns=['iso'], inplace=True)"
   ]
  },
  {
   "cell_type": "code",
   "execution_count": 50,
   "id": "8e63c9bc",
   "metadata": {},
   "outputs": [],
   "source": [
    "df6 = df6.rename(columns={\n",
    "    'adm1': 'admin',\n",
    "    'umd_tree_cover_loss__year': 'Year',\n",
    "    'umd_tree_cover_loss__ha': 'Tree_CoverLoss(Ha)',\n",
    "    'gfw_gross_emissions_co2e_all_gases__Mg': 'total_greenhouseemission(millions)'\n",
    "})\n"
   ]
  },
  {
   "cell_type": "code",
   "execution_count": 51,
   "id": "7d588c8d",
   "metadata": {},
   "outputs": [
    {
     "data": {
      "text/html": [
       "<div>\n",
       "<style scoped>\n",
       "    .dataframe tbody tr th:only-of-type {\n",
       "        vertical-align: middle;\n",
       "    }\n",
       "\n",
       "    .dataframe tbody tr th {\n",
       "        vertical-align: top;\n",
       "    }\n",
       "\n",
       "    .dataframe thead th {\n",
       "        text-align: right;\n",
       "    }\n",
       "</style>\n",
       "<table border=\"1\" class=\"dataframe\">\n",
       "  <thead>\n",
       "    <tr style=\"text-align: right;\">\n",
       "      <th></th>\n",
       "      <th>admin</th>\n",
       "      <th>Year</th>\n",
       "      <th>Tree_CoverLoss(Ha)</th>\n",
       "      <th>total_greenhouseemission(millions)</th>\n",
       "    </tr>\n",
       "  </thead>\n",
       "  <tbody>\n",
       "    <tr>\n",
       "      <th>0</th>\n",
       "      <td>2</td>\n",
       "      <td>2001</td>\n",
       "      <td>114.382862</td>\n",
       "      <td>51494.304030</td>\n",
       "    </tr>\n",
       "    <tr>\n",
       "      <th>1</th>\n",
       "      <td>2</td>\n",
       "      <td>2002</td>\n",
       "      <td>406.237721</td>\n",
       "      <td>168585.421119</td>\n",
       "    </tr>\n",
       "    <tr>\n",
       "      <th>2</th>\n",
       "      <td>2</td>\n",
       "      <td>2003</td>\n",
       "      <td>165.411364</td>\n",
       "      <td>65304.329460</td>\n",
       "    </tr>\n",
       "    <tr>\n",
       "      <th>3</th>\n",
       "      <td>2</td>\n",
       "      <td>2004</td>\n",
       "      <td>134.557981</td>\n",
       "      <td>54312.863977</td>\n",
       "    </tr>\n",
       "    <tr>\n",
       "      <th>4</th>\n",
       "      <td>2</td>\n",
       "      <td>2005</td>\n",
       "      <td>191.926633</td>\n",
       "      <td>77131.952843</td>\n",
       "    </tr>\n",
       "  </tbody>\n",
       "</table>\n",
       "</div>"
      ],
      "text/plain": [
       "   admin  Year  Tree_CoverLoss(Ha)  total_greenhouseemission(millions)\n",
       "0      2  2001          114.382862                        51494.304030\n",
       "1      2  2002          406.237721                       168585.421119\n",
       "2      2  2003          165.411364                        65304.329460\n",
       "3      2  2004          134.557981                        54312.863977\n",
       "4      2  2005          191.926633                        77131.952843"
      ]
     },
     "execution_count": 51,
     "metadata": {},
     "output_type": "execute_result"
    }
   ],
   "source": [
    "df6.head(5)"
   ]
  },
  {
   "cell_type": "code",
   "execution_count": 52,
   "id": "1be10704",
   "metadata": {},
   "outputs": [
    {
     "data": {
      "text/html": [
       "<div>\n",
       "<style scoped>\n",
       "    .dataframe tbody tr th:only-of-type {\n",
       "        vertical-align: middle;\n",
       "    }\n",
       "\n",
       "    .dataframe tbody tr th {\n",
       "        vertical-align: top;\n",
       "    }\n",
       "\n",
       "    .dataframe thead th {\n",
       "        text-align: right;\n",
       "    }\n",
       "</style>\n",
       "<table border=\"1\" class=\"dataframe\">\n",
       "  <thead>\n",
       "    <tr style=\"text-align: right;\">\n",
       "      <th></th>\n",
       "      <th>iso</th>\n",
       "      <th>adm1</th>\n",
       "      <th>umd_tree_cover_loss__year</th>\n",
       "      <th>umd_tree_cover_loss__ha</th>\n",
       "      <th>gfw_gross_emissions_co2e_all_gases__Mg</th>\n",
       "    </tr>\n",
       "  </thead>\n",
       "  <tbody>\n",
       "    <tr>\n",
       "      <th>0</th>\n",
       "      <td>GHA</td>\n",
       "      <td>3</td>\n",
       "      <td>2001</td>\n",
       "      <td>174.981017</td>\n",
       "      <td>77964.452022</td>\n",
       "    </tr>\n",
       "    <tr>\n",
       "      <th>1</th>\n",
       "      <td>GHA</td>\n",
       "      <td>3</td>\n",
       "      <td>2002</td>\n",
       "      <td>55.212549</td>\n",
       "      <td>24078.296821</td>\n",
       "    </tr>\n",
       "    <tr>\n",
       "      <th>2</th>\n",
       "      <td>GHA</td>\n",
       "      <td>3</td>\n",
       "      <td>2003</td>\n",
       "      <td>101.771166</td>\n",
       "      <td>44633.588203</td>\n",
       "    </tr>\n",
       "    <tr>\n",
       "      <th>3</th>\n",
       "      <td>GHA</td>\n",
       "      <td>3</td>\n",
       "      <td>2004</td>\n",
       "      <td>84.463929</td>\n",
       "      <td>37506.905403</td>\n",
       "    </tr>\n",
       "    <tr>\n",
       "      <th>4</th>\n",
       "      <td>GHA</td>\n",
       "      <td>3</td>\n",
       "      <td>2005</td>\n",
       "      <td>281.967958</td>\n",
       "      <td>124551.000225</td>\n",
       "    </tr>\n",
       "  </tbody>\n",
       "</table>\n",
       "</div>"
      ],
      "text/plain": [
       "   iso  adm1  umd_tree_cover_loss__year  umd_tree_cover_loss__ha  \\\n",
       "0  GHA     3                       2001               174.981017   \n",
       "1  GHA     3                       2002                55.212549   \n",
       "2  GHA     3                       2003               101.771166   \n",
       "3  GHA     3                       2004                84.463929   \n",
       "4  GHA     3                       2005               281.967958   \n",
       "\n",
       "   gfw_gross_emissions_co2e_all_gases__Mg  \n",
       "0                            77964.452022  \n",
       "1                            24078.296821  \n",
       "2                            44633.588203  \n",
       "3                            37506.905403  \n",
       "4                           124551.000225  "
      ]
     },
     "execution_count": 52,
     "metadata": {},
     "output_type": "execute_result"
    }
   ],
   "source": [
    "df7.head(5)"
   ]
  },
  {
   "cell_type": "code",
   "execution_count": 53,
   "id": "9fe30169",
   "metadata": {},
   "outputs": [
    {
     "data": {
      "text/plain": [
       "Index(['iso', 'adm1', 'umd_tree_cover_loss__year', 'umd_tree_cover_loss__ha',\n",
       "       'gfw_gross_emissions_co2e_all_gases__Mg'],\n",
       "      dtype='object')"
      ]
     },
     "execution_count": 53,
     "metadata": {},
     "output_type": "execute_result"
    }
   ],
   "source": [
    "df7.columns"
   ]
  },
  {
   "cell_type": "code",
   "execution_count": 54,
   "id": "0cd13a31",
   "metadata": {},
   "outputs": [
    {
     "data": {
      "text/plain": [
       "(21, 5)"
      ]
     },
     "execution_count": 54,
     "metadata": {},
     "output_type": "execute_result"
    }
   ],
   "source": [
    "df7.shape"
   ]
  },
  {
   "cell_type": "code",
   "execution_count": 55,
   "id": "41ac15b5",
   "metadata": {},
   "outputs": [],
   "source": [
    "df7.drop(columns=['iso'],inplace=True)"
   ]
  },
  {
   "cell_type": "code",
   "execution_count": 56,
   "id": "995d1fa0",
   "metadata": {},
   "outputs": [],
   "source": [
    "df7 = df7.rename(columns={\n",
    "    'adm1': 'admin',\n",
    "    'umd_tree_cover_loss__year': 'Year',\n",
    "    'umd_tree_cover_loss__ha': 'Tree_CoverLoss(Ha)',\n",
    "    'gfw_gross_emissions_co2e_all_gases__Mg': 'total_greenhouseemission(millions)'\n",
    "})"
   ]
  },
  {
   "cell_type": "code",
   "execution_count": 57,
   "id": "3c86ea22",
   "metadata": {},
   "outputs": [
    {
     "data": {
      "text/html": [
       "<div>\n",
       "<style scoped>\n",
       "    .dataframe tbody tr th:only-of-type {\n",
       "        vertical-align: middle;\n",
       "    }\n",
       "\n",
       "    .dataframe tbody tr th {\n",
       "        vertical-align: top;\n",
       "    }\n",
       "\n",
       "    .dataframe thead th {\n",
       "        text-align: right;\n",
       "    }\n",
       "</style>\n",
       "<table border=\"1\" class=\"dataframe\">\n",
       "  <thead>\n",
       "    <tr style=\"text-align: right;\">\n",
       "      <th></th>\n",
       "      <th>admin</th>\n",
       "      <th>Year</th>\n",
       "      <th>Tree_CoverLoss(Ha)</th>\n",
       "      <th>total_greenhouseemission(millions)</th>\n",
       "    </tr>\n",
       "  </thead>\n",
       "  <tbody>\n",
       "    <tr>\n",
       "      <th>0</th>\n",
       "      <td>3</td>\n",
       "      <td>2001</td>\n",
       "      <td>174.981017</td>\n",
       "      <td>77964.452022</td>\n",
       "    </tr>\n",
       "    <tr>\n",
       "      <th>1</th>\n",
       "      <td>3</td>\n",
       "      <td>2002</td>\n",
       "      <td>55.212549</td>\n",
       "      <td>24078.296821</td>\n",
       "    </tr>\n",
       "    <tr>\n",
       "      <th>2</th>\n",
       "      <td>3</td>\n",
       "      <td>2003</td>\n",
       "      <td>101.771166</td>\n",
       "      <td>44633.588203</td>\n",
       "    </tr>\n",
       "    <tr>\n",
       "      <th>3</th>\n",
       "      <td>3</td>\n",
       "      <td>2004</td>\n",
       "      <td>84.463929</td>\n",
       "      <td>37506.905403</td>\n",
       "    </tr>\n",
       "    <tr>\n",
       "      <th>4</th>\n",
       "      <td>3</td>\n",
       "      <td>2005</td>\n",
       "      <td>281.967958</td>\n",
       "      <td>124551.000225</td>\n",
       "    </tr>\n",
       "  </tbody>\n",
       "</table>\n",
       "</div>"
      ],
      "text/plain": [
       "   admin  Year  Tree_CoverLoss(Ha)  total_greenhouseemission(millions)\n",
       "0      3  2001          174.981017                        77964.452022\n",
       "1      3  2002           55.212549                        24078.296821\n",
       "2      3  2003          101.771166                        44633.588203\n",
       "3      3  2004           84.463929                        37506.905403\n",
       "4      3  2005          281.967958                       124551.000225"
      ]
     },
     "execution_count": 57,
     "metadata": {},
     "output_type": "execute_result"
    }
   ],
   "source": [
    "df7.head(5)"
   ]
  },
  {
   "cell_type": "code",
   "execution_count": 58,
   "id": "c739d452",
   "metadata": {},
   "outputs": [
    {
     "data": {
      "text/html": [
       "<div>\n",
       "<style scoped>\n",
       "    .dataframe tbody tr th:only-of-type {\n",
       "        vertical-align: middle;\n",
       "    }\n",
       "\n",
       "    .dataframe tbody tr th {\n",
       "        vertical-align: top;\n",
       "    }\n",
       "\n",
       "    .dataframe thead th {\n",
       "        text-align: right;\n",
       "    }\n",
       "</style>\n",
       "<table border=\"1\" class=\"dataframe\">\n",
       "  <thead>\n",
       "    <tr style=\"text-align: right;\">\n",
       "      <th></th>\n",
       "      <th>iso</th>\n",
       "      <th>adm1</th>\n",
       "      <th>umd_tree_cover_loss__year</th>\n",
       "      <th>umd_tree_cover_loss__ha</th>\n",
       "      <th>gfw_gross_emissions_co2e_all_gases__Mg</th>\n",
       "    </tr>\n",
       "  </thead>\n",
       "  <tbody>\n",
       "    <tr>\n",
       "      <th>0</th>\n",
       "      <td>GHA</td>\n",
       "      <td>4</td>\n",
       "      <td>2001</td>\n",
       "      <td>151.765485</td>\n",
       "      <td>70477.346291</td>\n",
       "    </tr>\n",
       "    <tr>\n",
       "      <th>1</th>\n",
       "      <td>GHA</td>\n",
       "      <td>4</td>\n",
       "      <td>2002</td>\n",
       "      <td>208.318796</td>\n",
       "      <td>105073.526269</td>\n",
       "    </tr>\n",
       "    <tr>\n",
       "      <th>2</th>\n",
       "      <td>GHA</td>\n",
       "      <td>4</td>\n",
       "      <td>2003</td>\n",
       "      <td>102.363065</td>\n",
       "      <td>47172.055163</td>\n",
       "    </tr>\n",
       "    <tr>\n",
       "      <th>3</th>\n",
       "      <td>GHA</td>\n",
       "      <td>4</td>\n",
       "      <td>2004</td>\n",
       "      <td>41.701033</td>\n",
       "      <td>18453.738073</td>\n",
       "    </tr>\n",
       "    <tr>\n",
       "      <th>4</th>\n",
       "      <td>GHA</td>\n",
       "      <td>4</td>\n",
       "      <td>2005</td>\n",
       "      <td>160.219550</td>\n",
       "      <td>71644.134061</td>\n",
       "    </tr>\n",
       "  </tbody>\n",
       "</table>\n",
       "</div>"
      ],
      "text/plain": [
       "   iso  adm1  umd_tree_cover_loss__year  umd_tree_cover_loss__ha  \\\n",
       "0  GHA     4                       2001               151.765485   \n",
       "1  GHA     4                       2002               208.318796   \n",
       "2  GHA     4                       2003               102.363065   \n",
       "3  GHA     4                       2004                41.701033   \n",
       "4  GHA     4                       2005               160.219550   \n",
       "\n",
       "   gfw_gross_emissions_co2e_all_gases__Mg  \n",
       "0                            70477.346291  \n",
       "1                           105073.526269  \n",
       "2                            47172.055163  \n",
       "3                            18453.738073  \n",
       "4                            71644.134061  "
      ]
     },
     "execution_count": 58,
     "metadata": {},
     "output_type": "execute_result"
    }
   ],
   "source": [
    "df8.head(5)"
   ]
  },
  {
   "cell_type": "code",
   "execution_count": 59,
   "id": "6bbb8634",
   "metadata": {},
   "outputs": [
    {
     "data": {
      "text/plain": [
       "Index(['iso', 'adm1', 'umd_tree_cover_loss__year', 'umd_tree_cover_loss__ha',\n",
       "       'gfw_gross_emissions_co2e_all_gases__Mg'],\n",
       "      dtype='object')"
      ]
     },
     "execution_count": 59,
     "metadata": {},
     "output_type": "execute_result"
    }
   ],
   "source": [
    "df8.columns"
   ]
  },
  {
   "cell_type": "code",
   "execution_count": 60,
   "id": "27413a20",
   "metadata": {},
   "outputs": [
    {
     "data": {
      "text/plain": [
       "(21, 5)"
      ]
     },
     "execution_count": 60,
     "metadata": {},
     "output_type": "execute_result"
    }
   ],
   "source": [
    "df8.shape"
   ]
  },
  {
   "cell_type": "code",
   "execution_count": 61,
   "id": "58da29d5",
   "metadata": {},
   "outputs": [],
   "source": [
    "# Drop a column\n",
    "df8.drop(columns=['iso'],inplace=True)"
   ]
  },
  {
   "cell_type": "code",
   "execution_count": 62,
   "id": "8e384604",
   "metadata": {},
   "outputs": [],
   "source": [
    "df8 = df8.rename(columns={\n",
    "    'adm1': 'admin',\n",
    "    'umd_tree_cover_loss__year': 'Year',\n",
    "    'umd_tree_cover_loss__ha': 'Tree_CoverLoss(Ha)',\n",
    "    'gfw_gross_emissions_co2e_all_gases__Mg': 'total_greenhouseemission(millions)'\n",
    "})"
   ]
  },
  {
   "cell_type": "code",
   "execution_count": 63,
   "id": "5b616e36",
   "metadata": {},
   "outputs": [
    {
     "data": {
      "text/html": [
       "<div>\n",
       "<style scoped>\n",
       "    .dataframe tbody tr th:only-of-type {\n",
       "        vertical-align: middle;\n",
       "    }\n",
       "\n",
       "    .dataframe tbody tr th {\n",
       "        vertical-align: top;\n",
       "    }\n",
       "\n",
       "    .dataframe thead th {\n",
       "        text-align: right;\n",
       "    }\n",
       "</style>\n",
       "<table border=\"1\" class=\"dataframe\">\n",
       "  <thead>\n",
       "    <tr style=\"text-align: right;\">\n",
       "      <th></th>\n",
       "      <th>admin</th>\n",
       "      <th>Year</th>\n",
       "      <th>Tree_CoverLoss(Ha)</th>\n",
       "      <th>total_greenhouseemission(millions)</th>\n",
       "    </tr>\n",
       "  </thead>\n",
       "  <tbody>\n",
       "    <tr>\n",
       "      <th>0</th>\n",
       "      <td>4</td>\n",
       "      <td>2001</td>\n",
       "      <td>151.765485</td>\n",
       "      <td>70477.346291</td>\n",
       "    </tr>\n",
       "    <tr>\n",
       "      <th>1</th>\n",
       "      <td>4</td>\n",
       "      <td>2002</td>\n",
       "      <td>208.318796</td>\n",
       "      <td>105073.526269</td>\n",
       "    </tr>\n",
       "    <tr>\n",
       "      <th>2</th>\n",
       "      <td>4</td>\n",
       "      <td>2003</td>\n",
       "      <td>102.363065</td>\n",
       "      <td>47172.055163</td>\n",
       "    </tr>\n",
       "    <tr>\n",
       "      <th>3</th>\n",
       "      <td>4</td>\n",
       "      <td>2004</td>\n",
       "      <td>41.701033</td>\n",
       "      <td>18453.738073</td>\n",
       "    </tr>\n",
       "    <tr>\n",
       "      <th>4</th>\n",
       "      <td>4</td>\n",
       "      <td>2005</td>\n",
       "      <td>160.219550</td>\n",
       "      <td>71644.134061</td>\n",
       "    </tr>\n",
       "  </tbody>\n",
       "</table>\n",
       "</div>"
      ],
      "text/plain": [
       "   admin  Year  Tree_CoverLoss(Ha)  total_greenhouseemission(millions)\n",
       "0      4  2001          151.765485                        70477.346291\n",
       "1      4  2002          208.318796                       105073.526269\n",
       "2      4  2003          102.363065                        47172.055163\n",
       "3      4  2004           41.701033                        18453.738073\n",
       "4      4  2005          160.219550                        71644.134061"
      ]
     },
     "execution_count": 63,
     "metadata": {},
     "output_type": "execute_result"
    }
   ],
   "source": [
    "df8.head(5)"
   ]
  },
  {
   "cell_type": "code",
   "execution_count": 64,
   "id": "bfd9b7a0",
   "metadata": {},
   "outputs": [],
   "source": [
    "tree_coverloss = pd.concat([df5,df6,df7,df8],axis=0)"
   ]
  },
  {
   "cell_type": "code",
   "execution_count": 65,
   "id": "fd70d68f",
   "metadata": {},
   "outputs": [
    {
     "data": {
      "text/html": [
       "<div>\n",
       "<style scoped>\n",
       "    .dataframe tbody tr th:only-of-type {\n",
       "        vertical-align: middle;\n",
       "    }\n",
       "\n",
       "    .dataframe tbody tr th {\n",
       "        vertical-align: top;\n",
       "    }\n",
       "\n",
       "    .dataframe thead th {\n",
       "        text-align: right;\n",
       "    }\n",
       "</style>\n",
       "<table border=\"1\" class=\"dataframe\">\n",
       "  <thead>\n",
       "    <tr style=\"text-align: right;\">\n",
       "      <th></th>\n",
       "      <th>admin</th>\n",
       "      <th>Year</th>\n",
       "      <th>Tree_CoverLoss(Ha)</th>\n",
       "      <th>total_greenhouseemission(millions)</th>\n",
       "    </tr>\n",
       "  </thead>\n",
       "  <tbody>\n",
       "    <tr>\n",
       "      <th>0</th>\n",
       "      <td>1</td>\n",
       "      <td>2001</td>\n",
       "      <td>415.764173</td>\n",
       "      <td>201127.275539</td>\n",
       "    </tr>\n",
       "    <tr>\n",
       "      <th>1</th>\n",
       "      <td>1</td>\n",
       "      <td>2002</td>\n",
       "      <td>882.381834</td>\n",
       "      <td>376758.748300</td>\n",
       "    </tr>\n",
       "    <tr>\n",
       "      <th>2</th>\n",
       "      <td>1</td>\n",
       "      <td>2003</td>\n",
       "      <td>630.263469</td>\n",
       "      <td>276697.851233</td>\n",
       "    </tr>\n",
       "    <tr>\n",
       "      <th>3</th>\n",
       "      <td>1</td>\n",
       "      <td>2004</td>\n",
       "      <td>227.690685</td>\n",
       "      <td>100006.587895</td>\n",
       "    </tr>\n",
       "    <tr>\n",
       "      <th>4</th>\n",
       "      <td>1</td>\n",
       "      <td>2005</td>\n",
       "      <td>579.708943</td>\n",
       "      <td>257510.144326</td>\n",
       "    </tr>\n",
       "  </tbody>\n",
       "</table>\n",
       "</div>"
      ],
      "text/plain": [
       "   admin  Year  Tree_CoverLoss(Ha)  total_greenhouseemission(millions)\n",
       "0      1  2001          415.764173                       201127.275539\n",
       "1      1  2002          882.381834                       376758.748300\n",
       "2      1  2003          630.263469                       276697.851233\n",
       "3      1  2004          227.690685                       100006.587895\n",
       "4      1  2005          579.708943                       257510.144326"
      ]
     },
     "execution_count": 65,
     "metadata": {},
     "output_type": "execute_result"
    }
   ],
   "source": [
    "tree_coverloss.head(5)"
   ]
  },
  {
   "cell_type": "code",
   "execution_count": 66,
   "id": "d097e8f2",
   "metadata": {},
   "outputs": [
    {
     "data": {
      "text/html": [
       "<div>\n",
       "<style scoped>\n",
       "    .dataframe tbody tr th:only-of-type {\n",
       "        vertical-align: middle;\n",
       "    }\n",
       "\n",
       "    .dataframe tbody tr th {\n",
       "        vertical-align: top;\n",
       "    }\n",
       "\n",
       "    .dataframe thead th {\n",
       "        text-align: right;\n",
       "    }\n",
       "</style>\n",
       "<table border=\"1\" class=\"dataframe\">\n",
       "  <thead>\n",
       "    <tr style=\"text-align: right;\">\n",
       "      <th></th>\n",
       "      <th>iso</th>\n",
       "      <th>adm1</th>\n",
       "      <th>umd_tree_cover_extent_2010__ha</th>\n",
       "      <th>area__ha</th>\n",
       "    </tr>\n",
       "  </thead>\n",
       "  <tbody>\n",
       "    <tr>\n",
       "      <th>0</th>\n",
       "      <td>GHA</td>\n",
       "      <td>1</td>\n",
       "      <td>1.513515e+06</td>\n",
       "      <td>2.490413e+06</td>\n",
       "    </tr>\n",
       "  </tbody>\n",
       "</table>\n",
       "</div>"
      ],
      "text/plain": [
       "   iso  adm1  umd_tree_cover_extent_2010__ha      area__ha\n",
       "0  GHA     1                    1.513515e+06  2.490413e+06"
      ]
     },
     "execution_count": 66,
     "metadata": {},
     "output_type": "execute_result"
    }
   ],
   "source": [
    "df9.head(5)"
   ]
  },
  {
   "cell_type": "code",
   "execution_count": 67,
   "id": "50f97d48",
   "metadata": {},
   "outputs": [
    {
     "data": {
      "text/plain": [
       "Index(['iso', 'adm1', 'umd_tree_cover_extent_2010__ha', 'area__ha'], dtype='object')"
      ]
     },
     "execution_count": 67,
     "metadata": {},
     "output_type": "execute_result"
    }
   ],
   "source": [
    "df9.columns"
   ]
  },
  {
   "cell_type": "code",
   "execution_count": 68,
   "id": "b763644d",
   "metadata": {},
   "outputs": [
    {
     "data": {
      "text/plain": [
       "(1, 4)"
      ]
     },
     "execution_count": 68,
     "metadata": {},
     "output_type": "execute_result"
    }
   ],
   "source": [
    "df9.shape"
   ]
  },
  {
   "cell_type": "code",
   "execution_count": 69,
   "id": "6ecd5641",
   "metadata": {},
   "outputs": [],
   "source": [
    "df9.drop(columns=['iso'],inplace=True)"
   ]
  },
  {
   "cell_type": "code",
   "execution_count": 70,
   "id": "0957158d",
   "metadata": {},
   "outputs": [],
   "source": [
    "df9 = df9.rename(columns={\n",
    "    'adm1': 'admin',\n",
    "    'umd_tree_cover_loss__year': 'Year',\n",
    "    'umd_tree_cover_loss__ha': 'Tree_CoverLoss(Ha)',\n",
    "    'umd_tree_cover_loss_from_fires__ha': 'Tree_CoverLossFires(Ha)'\n",
    "})"
   ]
  },
  {
   "cell_type": "code",
   "execution_count": 71,
   "id": "2ac7c26e",
   "metadata": {},
   "outputs": [
    {
     "data": {
      "text/html": [
       "<div>\n",
       "<style scoped>\n",
       "    .dataframe tbody tr th:only-of-type {\n",
       "        vertical-align: middle;\n",
       "    }\n",
       "\n",
       "    .dataframe tbody tr th {\n",
       "        vertical-align: top;\n",
       "    }\n",
       "\n",
       "    .dataframe thead th {\n",
       "        text-align: right;\n",
       "    }\n",
       "</style>\n",
       "<table border=\"1\" class=\"dataframe\">\n",
       "  <thead>\n",
       "    <tr style=\"text-align: right;\">\n",
       "      <th></th>\n",
       "      <th>admin</th>\n",
       "      <th>umd_tree_cover_extent_2010__ha</th>\n",
       "      <th>area__ha</th>\n",
       "    </tr>\n",
       "  </thead>\n",
       "  <tbody>\n",
       "    <tr>\n",
       "      <th>0</th>\n",
       "      <td>1</td>\n",
       "      <td>1.513515e+06</td>\n",
       "      <td>2.490413e+06</td>\n",
       "    </tr>\n",
       "  </tbody>\n",
       "</table>\n",
       "</div>"
      ],
      "text/plain": [
       "   admin  umd_tree_cover_extent_2010__ha      area__ha\n",
       "0      1                    1.513515e+06  2.490413e+06"
      ]
     },
     "execution_count": 71,
     "metadata": {},
     "output_type": "execute_result"
    }
   ],
   "source": [
    "df9.head(5)"
   ]
  },
  {
   "cell_type": "code",
   "execution_count": 72,
   "id": "31931fe2",
   "metadata": {},
   "outputs": [
    {
     "data": {
      "text/html": [
       "<div>\n",
       "<style scoped>\n",
       "    .dataframe tbody tr th:only-of-type {\n",
       "        vertical-align: middle;\n",
       "    }\n",
       "\n",
       "    .dataframe tbody tr th {\n",
       "        vertical-align: top;\n",
       "    }\n",
       "\n",
       "    .dataframe thead th {\n",
       "        text-align: right;\n",
       "    }\n",
       "</style>\n",
       "<table border=\"1\" class=\"dataframe\">\n",
       "  <thead>\n",
       "    <tr style=\"text-align: right;\">\n",
       "      <th></th>\n",
       "      <th>iso</th>\n",
       "      <th>adm1</th>\n",
       "      <th>umd_tree_cover_extent_2010__ha</th>\n",
       "      <th>area__ha</th>\n",
       "    </tr>\n",
       "  </thead>\n",
       "  <tbody>\n",
       "    <tr>\n",
       "      <th>0</th>\n",
       "      <td>GHA</td>\n",
       "      <td>2</td>\n",
       "      <td>1.138942e+06</td>\n",
       "      <td>3.948867e+06</td>\n",
       "    </tr>\n",
       "  </tbody>\n",
       "</table>\n",
       "</div>"
      ],
      "text/plain": [
       "   iso  adm1  umd_tree_cover_extent_2010__ha      area__ha\n",
       "0  GHA     2                    1.138942e+06  3.948867e+06"
      ]
     },
     "execution_count": 72,
     "metadata": {},
     "output_type": "execute_result"
    }
   ],
   "source": [
    "df10.head(5)"
   ]
  },
  {
   "cell_type": "code",
   "execution_count": 73,
   "id": "62778b3b",
   "metadata": {},
   "outputs": [
    {
     "data": {
      "text/plain": [
       "Index(['iso', 'adm1', 'umd_tree_cover_extent_2010__ha', 'area__ha'], dtype='object')"
      ]
     },
     "execution_count": 73,
     "metadata": {},
     "output_type": "execute_result"
    }
   ],
   "source": [
    "df10.columns"
   ]
  },
  {
   "cell_type": "code",
   "execution_count": 74,
   "id": "df832b36",
   "metadata": {},
   "outputs": [
    {
     "data": {
      "text/plain": [
       "(1, 4)"
      ]
     },
     "execution_count": 74,
     "metadata": {},
     "output_type": "execute_result"
    }
   ],
   "source": [
    "df10.shape"
   ]
  },
  {
   "cell_type": "code",
   "execution_count": 75,
   "id": "2fd7b777",
   "metadata": {},
   "outputs": [],
   "source": [
    "df10.drop(columns=['iso'],inplace=True)"
   ]
  },
  {
   "cell_type": "code",
   "execution_count": 76,
   "id": "38045e7e",
   "metadata": {},
   "outputs": [],
   "source": [
    "df10 = df10.rename(columns={\n",
    "    'adm1': 'admin',\n",
    "    'umd_tree_cover_loss__year': 'Year',\n",
    "    'umd_tree_cover_loss__ha': 'Tree_CoverLoss(Ha)',\n",
    "    'umd_tree_cover_loss_from_fires__ha': 'Tree_CoverLossFires(Ha)',\n",
    "})"
   ]
  },
  {
   "cell_type": "code",
   "execution_count": 77,
   "id": "e300fa17",
   "metadata": {},
   "outputs": [
    {
     "data": {
      "text/html": [
       "<div>\n",
       "<style scoped>\n",
       "    .dataframe tbody tr th:only-of-type {\n",
       "        vertical-align: middle;\n",
       "    }\n",
       "\n",
       "    .dataframe tbody tr th {\n",
       "        vertical-align: top;\n",
       "    }\n",
       "\n",
       "    .dataframe thead th {\n",
       "        text-align: right;\n",
       "    }\n",
       "</style>\n",
       "<table border=\"1\" class=\"dataframe\">\n",
       "  <thead>\n",
       "    <tr style=\"text-align: right;\">\n",
       "      <th></th>\n",
       "      <th>admin</th>\n",
       "      <th>Year</th>\n",
       "      <th>Tree_CoverLoss(Ha)</th>\n",
       "      <th>Tree_CoverLossFires(Ha)</th>\n",
       "    </tr>\n",
       "  </thead>\n",
       "  <tbody>\n",
       "    <tr>\n",
       "      <th>0</th>\n",
       "      <td>2</td>\n",
       "      <td>2001</td>\n",
       "      <td>6517.158426</td>\n",
       "      <td>8.314765</td>\n",
       "    </tr>\n",
       "    <tr>\n",
       "      <th>1</th>\n",
       "      <td>2</td>\n",
       "      <td>2002</td>\n",
       "      <td>3472.814780</td>\n",
       "      <td>1.221155</td>\n",
       "    </tr>\n",
       "    <tr>\n",
       "      <th>2</th>\n",
       "      <td>2</td>\n",
       "      <td>2003</td>\n",
       "      <td>1258.318761</td>\n",
       "      <td>0.686220</td>\n",
       "    </tr>\n",
       "    <tr>\n",
       "      <th>3</th>\n",
       "      <td>2</td>\n",
       "      <td>2004</td>\n",
       "      <td>787.145149</td>\n",
       "      <td>0.458311</td>\n",
       "    </tr>\n",
       "    <tr>\n",
       "      <th>4</th>\n",
       "      <td>2</td>\n",
       "      <td>2005</td>\n",
       "      <td>3358.366334</td>\n",
       "      <td>15.796880</td>\n",
       "    </tr>\n",
       "  </tbody>\n",
       "</table>\n",
       "</div>"
      ],
      "text/plain": [
       "   admin  Year  Tree_CoverLoss(Ha)  Tree_CoverLossFires(Ha)\n",
       "0      2  2001         6517.158426                 8.314765\n",
       "1      2  2002         3472.814780                 1.221155\n",
       "2      2  2003         1258.318761                 0.686220\n",
       "3      2  2004          787.145149                 0.458311\n",
       "4      2  2005         3358.366334                15.796880"
      ]
     },
     "execution_count": 77,
     "metadata": {},
     "output_type": "execute_result"
    }
   ],
   "source": [
    "df10.head(5)"
   ]
  },
  {
   "cell_type": "code",
   "execution_count": 78,
   "id": "00bb7736",
   "metadata": {},
   "outputs": [
    {
     "data": {
      "text/html": [
       "<div>\n",
       "<style scoped>\n",
       "    .dataframe tbody tr th:only-of-type {\n",
       "        vertical-align: middle;\n",
       "    }\n",
       "\n",
       "    .dataframe tbody tr th {\n",
       "        vertical-align: top;\n",
       "    }\n",
       "\n",
       "    .dataframe thead th {\n",
       "        text-align: right;\n",
       "    }\n",
       "</style>\n",
       "<table border=\"1\" class=\"dataframe\">\n",
       "  <thead>\n",
       "    <tr style=\"text-align: right;\">\n",
       "      <th></th>\n",
       "      <th>iso</th>\n",
       "      <th>adm1</th>\n",
       "      <th>umd_tree_cover_loss__year</th>\n",
       "      <th>umd_tree_cover_loss__ha</th>\n",
       "      <th>umd_tree_cover_loss_from_fires__ha</th>\n",
       "    </tr>\n",
       "  </thead>\n",
       "  <tbody>\n",
       "    <tr>\n",
       "      <th>0</th>\n",
       "      <td>GHA</td>\n",
       "      <td>3</td>\n",
       "      <td>2001</td>\n",
       "      <td>9795.492987</td>\n",
       "      <td>23.818808</td>\n",
       "    </tr>\n",
       "    <tr>\n",
       "      <th>1</th>\n",
       "      <td>GHA</td>\n",
       "      <td>3</td>\n",
       "      <td>2002</td>\n",
       "      <td>14066.933060</td>\n",
       "      <td>15.929626</td>\n",
       "    </tr>\n",
       "    <tr>\n",
       "      <th>2</th>\n",
       "      <td>GHA</td>\n",
       "      <td>3</td>\n",
       "      <td>2003</td>\n",
       "      <td>3761.734971</td>\n",
       "      <td>3.139947</td>\n",
       "    </tr>\n",
       "    <tr>\n",
       "      <th>3</th>\n",
       "      <td>GHA</td>\n",
       "      <td>3</td>\n",
       "      <td>2004</td>\n",
       "      <td>2838.917129</td>\n",
       "      <td>6.969940</td>\n",
       "    </tr>\n",
       "    <tr>\n",
       "      <th>4</th>\n",
       "      <td>GHA</td>\n",
       "      <td>3</td>\n",
       "      <td>2005</td>\n",
       "      <td>7846.020390</td>\n",
       "      <td>9.265177</td>\n",
       "    </tr>\n",
       "  </tbody>\n",
       "</table>\n",
       "</div>"
      ],
      "text/plain": [
       "   iso  adm1  umd_tree_cover_loss__year  umd_tree_cover_loss__ha  \\\n",
       "0  GHA     3                       2001              9795.492987   \n",
       "1  GHA     3                       2002             14066.933060   \n",
       "2  GHA     3                       2003              3761.734971   \n",
       "3  GHA     3                       2004              2838.917129   \n",
       "4  GHA     3                       2005              7846.020390   \n",
       "\n",
       "   umd_tree_cover_loss_from_fires__ha  \n",
       "0                           23.818808  \n",
       "1                           15.929626  \n",
       "2                            3.139947  \n",
       "3                            6.969940  \n",
       "4                            9.265177  "
      ]
     },
     "execution_count": 78,
     "metadata": {},
     "output_type": "execute_result"
    }
   ],
   "source": [
    "df11.head(5)"
   ]
  },
  {
   "cell_type": "code",
   "execution_count": 79,
   "id": "bf5364dc",
   "metadata": {},
   "outputs": [
    {
     "data": {
      "text/plain": [
       "(21, 5)"
      ]
     },
     "execution_count": 79,
     "metadata": {},
     "output_type": "execute_result"
    }
   ],
   "source": [
    "df11.shape"
   ]
  },
  {
   "cell_type": "code",
   "execution_count": 80,
   "id": "3b5462f0",
   "metadata": {},
   "outputs": [
    {
     "data": {
      "text/plain": [
       "Index(['iso', 'adm1', 'umd_tree_cover_loss__year', 'umd_tree_cover_loss__ha',\n",
       "       'umd_tree_cover_loss_from_fires__ha'],\n",
       "      dtype='object')"
      ]
     },
     "execution_count": 80,
     "metadata": {},
     "output_type": "execute_result"
    }
   ],
   "source": [
    "df11.columns"
   ]
  },
  {
   "cell_type": "code",
   "execution_count": 81,
   "id": "4972d09d",
   "metadata": {},
   "outputs": [],
   "source": [
    "df11.drop(columns=['iso'],inplace=True)"
   ]
  },
  {
   "cell_type": "code",
   "execution_count": 82,
   "id": "8546f461",
   "metadata": {},
   "outputs": [
    {
     "data": {
      "text/html": [
       "<div>\n",
       "<style scoped>\n",
       "    .dataframe tbody tr th:only-of-type {\n",
       "        vertical-align: middle;\n",
       "    }\n",
       "\n",
       "    .dataframe tbody tr th {\n",
       "        vertical-align: top;\n",
       "    }\n",
       "\n",
       "    .dataframe thead th {\n",
       "        text-align: right;\n",
       "    }\n",
       "</style>\n",
       "<table border=\"1\" class=\"dataframe\">\n",
       "  <thead>\n",
       "    <tr style=\"text-align: right;\">\n",
       "      <th></th>\n",
       "      <th>adm1</th>\n",
       "      <th>umd_tree_cover_loss__year</th>\n",
       "      <th>umd_tree_cover_loss__ha</th>\n",
       "      <th>umd_tree_cover_loss_from_fires__ha</th>\n",
       "    </tr>\n",
       "  </thead>\n",
       "  <tbody>\n",
       "    <tr>\n",
       "      <th>0</th>\n",
       "      <td>3</td>\n",
       "      <td>2001</td>\n",
       "      <td>9795.492987</td>\n",
       "      <td>23.818808</td>\n",
       "    </tr>\n",
       "    <tr>\n",
       "      <th>1</th>\n",
       "      <td>3</td>\n",
       "      <td>2002</td>\n",
       "      <td>14066.933060</td>\n",
       "      <td>15.929626</td>\n",
       "    </tr>\n",
       "    <tr>\n",
       "      <th>2</th>\n",
       "      <td>3</td>\n",
       "      <td>2003</td>\n",
       "      <td>3761.734971</td>\n",
       "      <td>3.139947</td>\n",
       "    </tr>\n",
       "    <tr>\n",
       "      <th>3</th>\n",
       "      <td>3</td>\n",
       "      <td>2004</td>\n",
       "      <td>2838.917129</td>\n",
       "      <td>6.969940</td>\n",
       "    </tr>\n",
       "    <tr>\n",
       "      <th>4</th>\n",
       "      <td>3</td>\n",
       "      <td>2005</td>\n",
       "      <td>7846.020390</td>\n",
       "      <td>9.265177</td>\n",
       "    </tr>\n",
       "  </tbody>\n",
       "</table>\n",
       "</div>"
      ],
      "text/plain": [
       "   adm1  umd_tree_cover_loss__year  umd_tree_cover_loss__ha  \\\n",
       "0     3                       2001              9795.492987   \n",
       "1     3                       2002             14066.933060   \n",
       "2     3                       2003              3761.734971   \n",
       "3     3                       2004              2838.917129   \n",
       "4     3                       2005              7846.020390   \n",
       "\n",
       "   umd_tree_cover_loss_from_fires__ha  \n",
       "0                           23.818808  \n",
       "1                           15.929626  \n",
       "2                            3.139947  \n",
       "3                            6.969940  \n",
       "4                            9.265177  "
      ]
     },
     "execution_count": 82,
     "metadata": {},
     "output_type": "execute_result"
    }
   ],
   "source": [
    "df11.head(5)"
   ]
  },
  {
   "cell_type": "code",
   "execution_count": 83,
   "id": "9a272713",
   "metadata": {},
   "outputs": [],
   "source": [
    "df11.rename(columns={'adm1': 'admin',\n",
    "                     'umd_tree_cover_loss__year': 'Year',\n",
    "                     'umd_tree_cover_loss__ha': 'Tree_CoverLoss(Ha)',\n",
    "                     'umd_tree_cover_loss_from_fires__ha': 'Tree_CoverLossFires(Ha)'},\n",
    "            inplace=True)\n"
   ]
  },
  {
   "cell_type": "code",
   "execution_count": 84,
   "id": "1fe7fdf3",
   "metadata": {},
   "outputs": [
    {
     "data": {
      "text/html": [
       "<div>\n",
       "<style scoped>\n",
       "    .dataframe tbody tr th:only-of-type {\n",
       "        vertical-align: middle;\n",
       "    }\n",
       "\n",
       "    .dataframe tbody tr th {\n",
       "        vertical-align: top;\n",
       "    }\n",
       "\n",
       "    .dataframe thead th {\n",
       "        text-align: right;\n",
       "    }\n",
       "</style>\n",
       "<table border=\"1\" class=\"dataframe\">\n",
       "  <thead>\n",
       "    <tr style=\"text-align: right;\">\n",
       "      <th></th>\n",
       "      <th>admin</th>\n",
       "      <th>Year</th>\n",
       "      <th>Tree_CoverLoss(Ha)</th>\n",
       "      <th>Tree_CoverLossFires(Ha)</th>\n",
       "    </tr>\n",
       "  </thead>\n",
       "  <tbody>\n",
       "    <tr>\n",
       "      <th>0</th>\n",
       "      <td>3</td>\n",
       "      <td>2001</td>\n",
       "      <td>9795.492987</td>\n",
       "      <td>23.818808</td>\n",
       "    </tr>\n",
       "    <tr>\n",
       "      <th>1</th>\n",
       "      <td>3</td>\n",
       "      <td>2002</td>\n",
       "      <td>14066.933060</td>\n",
       "      <td>15.929626</td>\n",
       "    </tr>\n",
       "    <tr>\n",
       "      <th>2</th>\n",
       "      <td>3</td>\n",
       "      <td>2003</td>\n",
       "      <td>3761.734971</td>\n",
       "      <td>3.139947</td>\n",
       "    </tr>\n",
       "    <tr>\n",
       "      <th>3</th>\n",
       "      <td>3</td>\n",
       "      <td>2004</td>\n",
       "      <td>2838.917129</td>\n",
       "      <td>6.969940</td>\n",
       "    </tr>\n",
       "    <tr>\n",
       "      <th>4</th>\n",
       "      <td>3</td>\n",
       "      <td>2005</td>\n",
       "      <td>7846.020390</td>\n",
       "      <td>9.265177</td>\n",
       "    </tr>\n",
       "  </tbody>\n",
       "</table>\n",
       "</div>"
      ],
      "text/plain": [
       "   admin  Year  Tree_CoverLoss(Ha)  Tree_CoverLossFires(Ha)\n",
       "0      3  2001         9795.492987                23.818808\n",
       "1      3  2002        14066.933060                15.929626\n",
       "2      3  2003         3761.734971                 3.139947\n",
       "3      3  2004         2838.917129                 6.969940\n",
       "4      3  2005         7846.020390                 9.265177"
      ]
     },
     "execution_count": 84,
     "metadata": {},
     "output_type": "execute_result"
    }
   ],
   "source": [
    "df11.head(5)"
   ]
  },
  {
   "cell_type": "code",
   "execution_count": 85,
   "id": "038ed075",
   "metadata": {},
   "outputs": [
    {
     "data": {
      "text/html": [
       "<div>\n",
       "<style scoped>\n",
       "    .dataframe tbody tr th:only-of-type {\n",
       "        vertical-align: middle;\n",
       "    }\n",
       "\n",
       "    .dataframe tbody tr th {\n",
       "        vertical-align: top;\n",
       "    }\n",
       "\n",
       "    .dataframe thead th {\n",
       "        text-align: right;\n",
       "    }\n",
       "</style>\n",
       "<table border=\"1\" class=\"dataframe\">\n",
       "  <thead>\n",
       "    <tr style=\"text-align: right;\">\n",
       "      <th></th>\n",
       "      <th>iso</th>\n",
       "      <th>adm1</th>\n",
       "      <th>umd_tree_cover_loss__year</th>\n",
       "      <th>umd_tree_cover_loss__ha</th>\n",
       "      <th>umd_tree_cover_loss_from_fires__ha</th>\n",
       "    </tr>\n",
       "  </thead>\n",
       "  <tbody>\n",
       "    <tr>\n",
       "      <th>0</th>\n",
       "      <td>GHA</td>\n",
       "      <td>4</td>\n",
       "      <td>2001</td>\n",
       "      <td>4951.657944</td>\n",
       "      <td>15.375756</td>\n",
       "    </tr>\n",
       "    <tr>\n",
       "      <th>1</th>\n",
       "      <td>GHA</td>\n",
       "      <td>4</td>\n",
       "      <td>2002</td>\n",
       "      <td>5699.771019</td>\n",
       "      <td>6.577340</td>\n",
       "    </tr>\n",
       "    <tr>\n",
       "      <th>2</th>\n",
       "      <td>GHA</td>\n",
       "      <td>4</td>\n",
       "      <td>2003</td>\n",
       "      <td>3064.140912</td>\n",
       "      <td>5.504051</td>\n",
       "    </tr>\n",
       "    <tr>\n",
       "      <th>3</th>\n",
       "      <td>GHA</td>\n",
       "      <td>4</td>\n",
       "      <td>2004</td>\n",
       "      <td>876.785259</td>\n",
       "      <td>2.218675</td>\n",
       "    </tr>\n",
       "    <tr>\n",
       "      <th>4</th>\n",
       "      <td>GHA</td>\n",
       "      <td>4</td>\n",
       "      <td>2005</td>\n",
       "      <td>3942.938447</td>\n",
       "      <td>6.426733</td>\n",
       "    </tr>\n",
       "  </tbody>\n",
       "</table>\n",
       "</div>"
      ],
      "text/plain": [
       "   iso  adm1  umd_tree_cover_loss__year  umd_tree_cover_loss__ha  \\\n",
       "0  GHA     4                       2001              4951.657944   \n",
       "1  GHA     4                       2002              5699.771019   \n",
       "2  GHA     4                       2003              3064.140912   \n",
       "3  GHA     4                       2004               876.785259   \n",
       "4  GHA     4                       2005              3942.938447   \n",
       "\n",
       "   umd_tree_cover_loss_from_fires__ha  \n",
       "0                           15.375756  \n",
       "1                            6.577340  \n",
       "2                            5.504051  \n",
       "3                            2.218675  \n",
       "4                            6.426733  "
      ]
     },
     "execution_count": 85,
     "metadata": {},
     "output_type": "execute_result"
    }
   ],
   "source": [
    "df12.head(5)"
   ]
  },
  {
   "cell_type": "code",
   "execution_count": 86,
   "id": "f322ef7f",
   "metadata": {},
   "outputs": [
    {
     "data": {
      "text/plain": [
       "(21, 5)"
      ]
     },
     "execution_count": 86,
     "metadata": {},
     "output_type": "execute_result"
    }
   ],
   "source": [
    "df12.shape"
   ]
  },
  {
   "cell_type": "code",
   "execution_count": 87,
   "id": "dce859ee",
   "metadata": {},
   "outputs": [
    {
     "data": {
      "text/plain": [
       "Index(['iso', 'adm1', 'umd_tree_cover_loss__year', 'umd_tree_cover_loss__ha',\n",
       "       'umd_tree_cover_loss_from_fires__ha'],\n",
       "      dtype='object')"
      ]
     },
     "execution_count": 87,
     "metadata": {},
     "output_type": "execute_result"
    }
   ],
   "source": [
    "df12.columns"
   ]
  },
  {
   "cell_type": "code",
   "execution_count": 88,
   "id": "e05e0fc5",
   "metadata": {},
   "outputs": [],
   "source": [
    "df12.drop(columns=['iso'],inplace=True)"
   ]
  },
  {
   "cell_type": "code",
   "execution_count": 89,
   "id": "76a3ad0c",
   "metadata": {},
   "outputs": [],
   "source": [
    "df12.rename(columns={'adm1': 'admin',\n",
    "                     'umd_tree_cover_loss__year': 'Year',\n",
    "                     'umd_tree_cover_loss__ha': 'Tree_CoverLoss(Ha)',\n",
    "                     'umd_tree_cover_loss_from_fires__ha': 'Tree_CoverLossFires(Ha)'},\n",
    "            inplace=True)\n"
   ]
  },
  {
   "cell_type": "code",
   "execution_count": 90,
   "id": "9fa4035c",
   "metadata": {},
   "outputs": [],
   "source": [
    "treecoverloss_byfire =pd.concat([df9,df10,df11,df12])"
   ]
  },
  {
   "cell_type": "code",
   "execution_count": 91,
   "id": "ba6d6dd8",
   "metadata": {},
   "outputs": [
    {
     "data": {
      "text/html": [
       "<div>\n",
       "<style scoped>\n",
       "    .dataframe tbody tr th:only-of-type {\n",
       "        vertical-align: middle;\n",
       "    }\n",
       "\n",
       "    .dataframe tbody tr th {\n",
       "        vertical-align: top;\n",
       "    }\n",
       "\n",
       "    .dataframe thead th {\n",
       "        text-align: right;\n",
       "    }\n",
       "</style>\n",
       "<table border=\"1\" class=\"dataframe\">\n",
       "  <thead>\n",
       "    <tr style=\"text-align: right;\">\n",
       "      <th></th>\n",
       "      <th>admin</th>\n",
       "      <th>Year</th>\n",
       "      <th>Tree_CoverLoss(Ha)</th>\n",
       "      <th>Tree_CoverLossFires(Ha)</th>\n",
       "    </tr>\n",
       "  </thead>\n",
       "  <tbody>\n",
       "    <tr>\n",
       "      <th>0</th>\n",
       "      <td>1</td>\n",
       "      <td>2001</td>\n",
       "      <td>5851.122804</td>\n",
       "      <td>25.217732</td>\n",
       "    </tr>\n",
       "    <tr>\n",
       "      <th>1</th>\n",
       "      <td>1</td>\n",
       "      <td>2002</td>\n",
       "      <td>15251.958338</td>\n",
       "      <td>21.019157</td>\n",
       "    </tr>\n",
       "    <tr>\n",
       "      <th>2</th>\n",
       "      <td>1</td>\n",
       "      <td>2003</td>\n",
       "      <td>8137.860448</td>\n",
       "      <td>14.290960</td>\n",
       "    </tr>\n",
       "    <tr>\n",
       "      <th>3</th>\n",
       "      <td>1</td>\n",
       "      <td>2004</td>\n",
       "      <td>2014.371336</td>\n",
       "      <td>8.179280</td>\n",
       "    </tr>\n",
       "    <tr>\n",
       "      <th>4</th>\n",
       "      <td>1</td>\n",
       "      <td>2005</td>\n",
       "      <td>7549.778007</td>\n",
       "      <td>8.713430</td>\n",
       "    </tr>\n",
       "  </tbody>\n",
       "</table>\n",
       "</div>"
      ],
      "text/plain": [
       "   admin  Year  Tree_CoverLoss(Ha)  Tree_CoverLossFires(Ha)\n",
       "0      1  2001         5851.122804                25.217732\n",
       "1      1  2002        15251.958338                21.019157\n",
       "2      1  2003         8137.860448                14.290960\n",
       "3      1  2004         2014.371336                 8.179280\n",
       "4      1  2005         7549.778007                 8.713430"
      ]
     },
     "execution_count": 91,
     "metadata": {},
     "output_type": "execute_result"
    }
   ],
   "source": [
    "treecoverloss_byfire.head(5)"
   ]
  },
  {
   "cell_type": "code",
   "execution_count": 92,
   "id": "f884456e",
   "metadata": {},
   "outputs": [
    {
     "data": {
      "text/html": [
       "<div>\n",
       "<style scoped>\n",
       "    .dataframe tbody tr th:only-of-type {\n",
       "        vertical-align: middle;\n",
       "    }\n",
       "\n",
       "    .dataframe tbody tr th {\n",
       "        vertical-align: top;\n",
       "    }\n",
       "\n",
       "    .dataframe thead th {\n",
       "        text-align: right;\n",
       "    }\n",
       "</style>\n",
       "<table border=\"1\" class=\"dataframe\">\n",
       "  <thead>\n",
       "    <tr style=\"text-align: right;\">\n",
       "      <th></th>\n",
       "      <th>iso</th>\n",
       "      <th>adm1</th>\n",
       "      <th>umd_tree_cover_extent_2010__ha</th>\n",
       "      <th>area__ha</th>\n",
       "    </tr>\n",
       "  </thead>\n",
       "  <tbody>\n",
       "    <tr>\n",
       "      <th>0</th>\n",
       "      <td>GHA</td>\n",
       "      <td>1</td>\n",
       "      <td>1.513515e+06</td>\n",
       "      <td>2.490413e+06</td>\n",
       "    </tr>\n",
       "  </tbody>\n",
       "</table>\n",
       "</div>"
      ],
      "text/plain": [
       "   iso  adm1  umd_tree_cover_extent_2010__ha      area__ha\n",
       "0  GHA     1                    1.513515e+06  2.490413e+06"
      ]
     },
     "execution_count": 92,
     "metadata": {},
     "output_type": "execute_result"
    }
   ],
   "source": [
    "df13.head(5)"
   ]
  },
  {
   "cell_type": "code",
   "execution_count": 93,
   "id": "2776d6ca",
   "metadata": {},
   "outputs": [
    {
     "data": {
      "text/html": [
       "<div>\n",
       "<style scoped>\n",
       "    .dataframe tbody tr th:only-of-type {\n",
       "        vertical-align: middle;\n",
       "    }\n",
       "\n",
       "    .dataframe tbody tr th {\n",
       "        vertical-align: top;\n",
       "    }\n",
       "\n",
       "    .dataframe thead th {\n",
       "        text-align: right;\n",
       "    }\n",
       "</style>\n",
       "<table border=\"1\" class=\"dataframe\">\n",
       "  <thead>\n",
       "    <tr style=\"text-align: right;\">\n",
       "      <th></th>\n",
       "      <th>iso</th>\n",
       "      <th>adm1</th>\n",
       "      <th>umd_tree_cover_extent_2010__ha</th>\n",
       "      <th>area__ha</th>\n",
       "    </tr>\n",
       "  </thead>\n",
       "  <tbody>\n",
       "    <tr>\n",
       "      <th>0</th>\n",
       "      <td>GHA</td>\n",
       "      <td>2</td>\n",
       "      <td>1.138942e+06</td>\n",
       "      <td>3.948867e+06</td>\n",
       "    </tr>\n",
       "  </tbody>\n",
       "</table>\n",
       "</div>"
      ],
      "text/plain": [
       "   iso  adm1  umd_tree_cover_extent_2010__ha      area__ha\n",
       "0  GHA     2                    1.138942e+06  3.948867e+06"
      ]
     },
     "execution_count": 93,
     "metadata": {},
     "output_type": "execute_result"
    }
   ],
   "source": [
    "df14.head(5)"
   ]
  },
  {
   "cell_type": "code",
   "execution_count": 94,
   "id": "a2cab8a0",
   "metadata": {},
   "outputs": [
    {
     "data": {
      "text/html": [
       "<div>\n",
       "<style scoped>\n",
       "    .dataframe tbody tr th:only-of-type {\n",
       "        vertical-align: middle;\n",
       "    }\n",
       "\n",
       "    .dataframe tbody tr th {\n",
       "        vertical-align: top;\n",
       "    }\n",
       "\n",
       "    .dataframe thead th {\n",
       "        text-align: right;\n",
       "    }\n",
       "</style>\n",
       "<table border=\"1\" class=\"dataframe\">\n",
       "  <thead>\n",
       "    <tr style=\"text-align: right;\">\n",
       "      <th></th>\n",
       "      <th>iso</th>\n",
       "      <th>adm1</th>\n",
       "      <th>umd_tree_cover_extent_2010__ha</th>\n",
       "      <th>area__ha</th>\n",
       "    </tr>\n",
       "  </thead>\n",
       "  <tbody>\n",
       "    <tr>\n",
       "      <th>0</th>\n",
       "      <td>GHA</td>\n",
       "      <td>3</td>\n",
       "      <td>711882.715546</td>\n",
       "      <td>965176.201649</td>\n",
       "    </tr>\n",
       "  </tbody>\n",
       "</table>\n",
       "</div>"
      ],
      "text/plain": [
       "   iso  adm1  umd_tree_cover_extent_2010__ha       area__ha\n",
       "0  GHA     3                   711882.715546  965176.201649"
      ]
     },
     "execution_count": 94,
     "metadata": {},
     "output_type": "execute_result"
    }
   ],
   "source": [
    "df15.head(5)"
   ]
  },
  {
   "cell_type": "code",
   "execution_count": 95,
   "id": "48bf7423",
   "metadata": {},
   "outputs": [
    {
     "data": {
      "text/html": [
       "<div>\n",
       "<style scoped>\n",
       "    .dataframe tbody tr th:only-of-type {\n",
       "        vertical-align: middle;\n",
       "    }\n",
       "\n",
       "    .dataframe tbody tr th {\n",
       "        vertical-align: top;\n",
       "    }\n",
       "\n",
       "    .dataframe thead th {\n",
       "        text-align: right;\n",
       "    }\n",
       "</style>\n",
       "<table border=\"1\" class=\"dataframe\">\n",
       "  <thead>\n",
       "    <tr style=\"text-align: right;\">\n",
       "      <th></th>\n",
       "      <th>iso</th>\n",
       "      <th>adm1</th>\n",
       "      <th>umd_tree_cover_extent_2010__ha</th>\n",
       "      <th>area__ha</th>\n",
       "    </tr>\n",
       "  </thead>\n",
       "  <tbody>\n",
       "    <tr>\n",
       "      <th>0</th>\n",
       "      <td>GHA</td>\n",
       "      <td>4</td>\n",
       "      <td>911948.311603</td>\n",
       "      <td>1.850124e+06</td>\n",
       "    </tr>\n",
       "  </tbody>\n",
       "</table>\n",
       "</div>"
      ],
      "text/plain": [
       "   iso  adm1  umd_tree_cover_extent_2010__ha      area__ha\n",
       "0  GHA     4                   911948.311603  1.850124e+06"
      ]
     },
     "execution_count": 95,
     "metadata": {},
     "output_type": "execute_result"
    }
   ],
   "source": [
    "df16.head(5)"
   ]
  },
  {
   "cell_type": "code",
   "execution_count": 96,
   "id": "c56679c4",
   "metadata": {},
   "outputs": [],
   "source": [
    "def rename_columns(df):\n",
    "    return df.rename(columns={\n",
    "        'iso': 'iso',\n",
    "        'adm1': 'admin',\n",
    "        'umd_tree_cover_extent_2010__ha': 'Tree_CoverExtent(Ha)',\n",
    "        'area__ha': 'Area(Ha)'\n",
    "    }, inplace=True)\n"
   ]
  },
  {
   "cell_type": "code",
   "execution_count": 97,
   "id": "1f928002",
   "metadata": {},
   "outputs": [],
   "source": [
    "rename_columns(df13)\n",
    "rename_columns(df14)\n",
    "rename_columns(df15)\n",
    "rename_columns(df16)\n"
   ]
  },
  {
   "cell_type": "code",
   "execution_count": 98,
   "id": "fa81082e",
   "metadata": {},
   "outputs": [
    {
     "data": {
      "text/html": [
       "<div>\n",
       "<style scoped>\n",
       "    .dataframe tbody tr th:only-of-type {\n",
       "        vertical-align: middle;\n",
       "    }\n",
       "\n",
       "    .dataframe tbody tr th {\n",
       "        vertical-align: top;\n",
       "    }\n",
       "\n",
       "    .dataframe thead th {\n",
       "        text-align: right;\n",
       "    }\n",
       "</style>\n",
       "<table border=\"1\" class=\"dataframe\">\n",
       "  <thead>\n",
       "    <tr style=\"text-align: right;\">\n",
       "      <th></th>\n",
       "      <th>iso</th>\n",
       "      <th>admin</th>\n",
       "      <th>Tree_CoverExtent(Ha)</th>\n",
       "      <th>Area(Ha)</th>\n",
       "    </tr>\n",
       "  </thead>\n",
       "  <tbody>\n",
       "    <tr>\n",
       "      <th>0</th>\n",
       "      <td>GHA</td>\n",
       "      <td>4</td>\n",
       "      <td>911948.311603</td>\n",
       "      <td>1.850124e+06</td>\n",
       "    </tr>\n",
       "  </tbody>\n",
       "</table>\n",
       "</div>"
      ],
      "text/plain": [
       "   iso  admin  Tree_CoverExtent(Ha)      Area(Ha)\n",
       "0  GHA      4         911948.311603  1.850124e+06"
      ]
     },
     "execution_count": 98,
     "metadata": {},
     "output_type": "execute_result"
    }
   ],
   "source": [
    "df16"
   ]
  },
  {
   "cell_type": "code",
   "execution_count": 99,
   "id": "7e54430e",
   "metadata": {},
   "outputs": [],
   "source": [
    "tree_coverextent = pd.concat([df13,df14,df15,df16],axis=0)"
   ]
  },
  {
   "cell_type": "code",
   "execution_count": 100,
   "id": "dea2fc91",
   "metadata": {},
   "outputs": [],
   "source": [
    "tree_coverextent.drop(columns=['iso'],inplace=True)"
   ]
  },
  {
   "cell_type": "code",
   "execution_count": 101,
   "id": "e0e8d4be",
   "metadata": {},
   "outputs": [
    {
     "data": {
      "text/html": [
       "<div>\n",
       "<style scoped>\n",
       "    .dataframe tbody tr th:only-of-type {\n",
       "        vertical-align: middle;\n",
       "    }\n",
       "\n",
       "    .dataframe tbody tr th {\n",
       "        vertical-align: top;\n",
       "    }\n",
       "\n",
       "    .dataframe thead th {\n",
       "        text-align: right;\n",
       "    }\n",
       "</style>\n",
       "<table border=\"1\" class=\"dataframe\">\n",
       "  <thead>\n",
       "    <tr style=\"text-align: right;\">\n",
       "      <th></th>\n",
       "      <th>admin</th>\n",
       "      <th>Tree_CoverExtent(Ha)</th>\n",
       "      <th>Area(Ha)</th>\n",
       "    </tr>\n",
       "  </thead>\n",
       "  <tbody>\n",
       "    <tr>\n",
       "      <th>0</th>\n",
       "      <td>1</td>\n",
       "      <td>1.513515e+06</td>\n",
       "      <td>2.490413e+06</td>\n",
       "    </tr>\n",
       "    <tr>\n",
       "      <th>0</th>\n",
       "      <td>2</td>\n",
       "      <td>1.138942e+06</td>\n",
       "      <td>3.948867e+06</td>\n",
       "    </tr>\n",
       "    <tr>\n",
       "      <th>0</th>\n",
       "      <td>3</td>\n",
       "      <td>7.118827e+05</td>\n",
       "      <td>9.651762e+05</td>\n",
       "    </tr>\n",
       "    <tr>\n",
       "      <th>0</th>\n",
       "      <td>4</td>\n",
       "      <td>9.119483e+05</td>\n",
       "      <td>1.850124e+06</td>\n",
       "    </tr>\n",
       "  </tbody>\n",
       "</table>\n",
       "</div>"
      ],
      "text/plain": [
       "   admin  Tree_CoverExtent(Ha)      Area(Ha)\n",
       "0      1          1.513515e+06  2.490413e+06\n",
       "0      2          1.138942e+06  3.948867e+06\n",
       "0      3          7.118827e+05  9.651762e+05\n",
       "0      4          9.119483e+05  1.850124e+06"
      ]
     },
     "execution_count": 101,
     "metadata": {},
     "output_type": "execute_result"
    }
   ],
   "source": [
    "tree_coverextent.head(5)"
   ]
  },
  {
   "cell_type": "code",
   "execution_count": 102,
   "id": "57fdb362",
   "metadata": {},
   "outputs": [
    {
     "data": {
      "text/html": [
       "<div>\n",
       "<style scoped>\n",
       "    .dataframe tbody tr th:only-of-type {\n",
       "        vertical-align: middle;\n",
       "    }\n",
       "\n",
       "    .dataframe tbody tr th {\n",
       "        vertical-align: top;\n",
       "    }\n",
       "\n",
       "    .dataframe thead th {\n",
       "        text-align: right;\n",
       "    }\n",
       "</style>\n",
       "<table border=\"1\" class=\"dataframe\">\n",
       "  <thead>\n",
       "    <tr style=\"text-align: right;\">\n",
       "      <th></th>\n",
       "      <th>iso</th>\n",
       "      <th>adm1</th>\n",
       "      <th>adm2</th>\n",
       "      <th>umd_tree_cover_gain__ha</th>\n",
       "      <th>umd_tree_cover_extent_2000__ha</th>\n",
       "    </tr>\n",
       "  </thead>\n",
       "  <tbody>\n",
       "    <tr>\n",
       "      <th>0</th>\n",
       "      <td>GHA</td>\n",
       "      <td>1</td>\n",
       "      <td>1</td>\n",
       "      <td>1143.889300</td>\n",
       "      <td>61268.748322</td>\n",
       "    </tr>\n",
       "    <tr>\n",
       "      <th>1</th>\n",
       "      <td>GHA</td>\n",
       "      <td>1</td>\n",
       "      <td>2</td>\n",
       "      <td>3808.257282</td>\n",
       "      <td>140791.594951</td>\n",
       "    </tr>\n",
       "    <tr>\n",
       "      <th>2</th>\n",
       "      <td>GHA</td>\n",
       "      <td>1</td>\n",
       "      <td>3</td>\n",
       "      <td>1016.677195</td>\n",
       "      <td>66796.643483</td>\n",
       "    </tr>\n",
       "    <tr>\n",
       "      <th>3</th>\n",
       "      <td>GHA</td>\n",
       "      <td>1</td>\n",
       "      <td>4</td>\n",
       "      <td>56.454321</td>\n",
       "      <td>72964.811444</td>\n",
       "    </tr>\n",
       "    <tr>\n",
       "      <th>4</th>\n",
       "      <td>GHA</td>\n",
       "      <td>1</td>\n",
       "      <td>5</td>\n",
       "      <td>985.491937</td>\n",
       "      <td>120723.516528</td>\n",
       "    </tr>\n",
       "  </tbody>\n",
       "</table>\n",
       "</div>"
      ],
      "text/plain": [
       "   iso  adm1  adm2  umd_tree_cover_gain__ha  umd_tree_cover_extent_2000__ha\n",
       "0  GHA     1     1              1143.889300                    61268.748322\n",
       "1  GHA     1     2              3808.257282                   140791.594951\n",
       "2  GHA     1     3              1016.677195                    66796.643483\n",
       "3  GHA     1     4                56.454321                    72964.811444\n",
       "4  GHA     1     5               985.491937                   120723.516528"
      ]
     },
     "execution_count": 102,
     "metadata": {},
     "output_type": "execute_result"
    }
   ],
   "source": [
    "df17.head(5)"
   ]
  },
  {
   "cell_type": "code",
   "execution_count": 103,
   "id": "a342716b",
   "metadata": {},
   "outputs": [
    {
     "data": {
      "text/html": [
       "<div>\n",
       "<style scoped>\n",
       "    .dataframe tbody tr th:only-of-type {\n",
       "        vertical-align: middle;\n",
       "    }\n",
       "\n",
       "    .dataframe tbody tr th {\n",
       "        vertical-align: top;\n",
       "    }\n",
       "\n",
       "    .dataframe thead th {\n",
       "        text-align: right;\n",
       "    }\n",
       "</style>\n",
       "<table border=\"1\" class=\"dataframe\">\n",
       "  <thead>\n",
       "    <tr style=\"text-align: right;\">\n",
       "      <th></th>\n",
       "      <th>iso</th>\n",
       "      <th>adm1</th>\n",
       "      <th>adm2</th>\n",
       "      <th>umd_tree_cover_gain__ha</th>\n",
       "      <th>umd_tree_cover_extent_2000__ha</th>\n",
       "    </tr>\n",
       "  </thead>\n",
       "  <tbody>\n",
       "    <tr>\n",
       "      <th>0</th>\n",
       "      <td>GHA</td>\n",
       "      <td>2</td>\n",
       "      <td>1</td>\n",
       "      <td>230.708127</td>\n",
       "      <td>116105.466770</td>\n",
       "    </tr>\n",
       "    <tr>\n",
       "      <th>1</th>\n",
       "      <td>GHA</td>\n",
       "      <td>2</td>\n",
       "      <td>2</td>\n",
       "      <td>350.766439</td>\n",
       "      <td>87201.043556</td>\n",
       "    </tr>\n",
       "    <tr>\n",
       "      <th>2</th>\n",
       "      <td>GHA</td>\n",
       "      <td>2</td>\n",
       "      <td>3</td>\n",
       "      <td>420.486515</td>\n",
       "      <td>161953.012455</td>\n",
       "    </tr>\n",
       "    <tr>\n",
       "      <th>3</th>\n",
       "      <td>GHA</td>\n",
       "      <td>2</td>\n",
       "      <td>4</td>\n",
       "      <td>1.296780</td>\n",
       "      <td>152892.706038</td>\n",
       "    </tr>\n",
       "    <tr>\n",
       "      <th>4</th>\n",
       "      <td>GHA</td>\n",
       "      <td>2</td>\n",
       "      <td>5</td>\n",
       "      <td>150.457924</td>\n",
       "      <td>102774.122839</td>\n",
       "    </tr>\n",
       "  </tbody>\n",
       "</table>\n",
       "</div>"
      ],
      "text/plain": [
       "   iso  adm1  adm2  umd_tree_cover_gain__ha  umd_tree_cover_extent_2000__ha\n",
       "0  GHA     2     1               230.708127                   116105.466770\n",
       "1  GHA     2     2               350.766439                    87201.043556\n",
       "2  GHA     2     3               420.486515                   161953.012455\n",
       "3  GHA     2     4                 1.296780                   152892.706038\n",
       "4  GHA     2     5               150.457924                   102774.122839"
      ]
     },
     "execution_count": 103,
     "metadata": {},
     "output_type": "execute_result"
    }
   ],
   "source": [
    "df18.head(5)"
   ]
  },
  {
   "cell_type": "code",
   "execution_count": 104,
   "id": "5a102e3c",
   "metadata": {
    "scrolled": true
   },
   "outputs": [
    {
     "data": {
      "text/html": [
       "<div>\n",
       "<style scoped>\n",
       "    .dataframe tbody tr th:only-of-type {\n",
       "        vertical-align: middle;\n",
       "    }\n",
       "\n",
       "    .dataframe tbody tr th {\n",
       "        vertical-align: top;\n",
       "    }\n",
       "\n",
       "    .dataframe thead th {\n",
       "        text-align: right;\n",
       "    }\n",
       "</style>\n",
       "<table border=\"1\" class=\"dataframe\">\n",
       "  <thead>\n",
       "    <tr style=\"text-align: right;\">\n",
       "      <th></th>\n",
       "      <th>iso</th>\n",
       "      <th>adm1</th>\n",
       "      <th>adm2</th>\n",
       "      <th>umd_tree_cover_gain__ha</th>\n",
       "      <th>umd_tree_cover_extent_2000__ha</th>\n",
       "    </tr>\n",
       "  </thead>\n",
       "  <tbody>\n",
       "    <tr>\n",
       "      <th>0</th>\n",
       "      <td>GHA</td>\n",
       "      <td>3</td>\n",
       "      <td>1</td>\n",
       "      <td>2551.880846</td>\n",
       "      <td>40878.745037</td>\n",
       "    </tr>\n",
       "    <tr>\n",
       "      <th>1</th>\n",
       "      <td>GHA</td>\n",
       "      <td>3</td>\n",
       "      <td>2</td>\n",
       "      <td>1927.009442</td>\n",
       "      <td>72222.383210</td>\n",
       "    </tr>\n",
       "    <tr>\n",
       "      <th>2</th>\n",
       "      <td>GHA</td>\n",
       "      <td>3</td>\n",
       "      <td>3</td>\n",
       "      <td>2378.350138</td>\n",
       "      <td>46863.082459</td>\n",
       "    </tr>\n",
       "    <tr>\n",
       "      <th>3</th>\n",
       "      <td>GHA</td>\n",
       "      <td>3</td>\n",
       "      <td>4</td>\n",
       "      <td>2026.499016</td>\n",
       "      <td>84656.938709</td>\n",
       "    </tr>\n",
       "    <tr>\n",
       "      <th>4</th>\n",
       "      <td>GHA</td>\n",
       "      <td>3</td>\n",
       "      <td>5</td>\n",
       "      <td>4025.140222</td>\n",
       "      <td>114905.099845</td>\n",
       "    </tr>\n",
       "  </tbody>\n",
       "</table>\n",
       "</div>"
      ],
      "text/plain": [
       "   iso  adm1  adm2  umd_tree_cover_gain__ha  umd_tree_cover_extent_2000__ha\n",
       "0  GHA     3     1              2551.880846                    40878.745037\n",
       "1  GHA     3     2              1927.009442                    72222.383210\n",
       "2  GHA     3     3              2378.350138                    46863.082459\n",
       "3  GHA     3     4              2026.499016                    84656.938709\n",
       "4  GHA     3     5              4025.140222                   114905.099845"
      ]
     },
     "execution_count": 104,
     "metadata": {},
     "output_type": "execute_result"
    }
   ],
   "source": [
    "df19.head(5)"
   ]
  },
  {
   "cell_type": "code",
   "execution_count": 105,
   "id": "7e2091be",
   "metadata": {},
   "outputs": [
    {
     "data": {
      "text/html": [
       "<div>\n",
       "<style scoped>\n",
       "    .dataframe tbody tr th:only-of-type {\n",
       "        vertical-align: middle;\n",
       "    }\n",
       "\n",
       "    .dataframe tbody tr th {\n",
       "        vertical-align: top;\n",
       "    }\n",
       "\n",
       "    .dataframe thead th {\n",
       "        text-align: right;\n",
       "    }\n",
       "</style>\n",
       "<table border=\"1\" class=\"dataframe\">\n",
       "  <thead>\n",
       "    <tr style=\"text-align: right;\">\n",
       "      <th></th>\n",
       "      <th>iso</th>\n",
       "      <th>adm1</th>\n",
       "      <th>adm2</th>\n",
       "      <th>umd_tree_cover_gain__ha</th>\n",
       "      <th>umd_tree_cover_extent_2000__ha</th>\n",
       "    </tr>\n",
       "  </thead>\n",
       "  <tbody>\n",
       "    <tr>\n",
       "      <th>0</th>\n",
       "      <td>GHA</td>\n",
       "      <td>4</td>\n",
       "      <td>1</td>\n",
       "      <td>85.866915</td>\n",
       "      <td>524121.229994</td>\n",
       "    </tr>\n",
       "    <tr>\n",
       "      <th>1</th>\n",
       "      <td>GHA</td>\n",
       "      <td>4</td>\n",
       "      <td>2</td>\n",
       "      <td>504.361696</td>\n",
       "      <td>58290.454021</td>\n",
       "    </tr>\n",
       "    <tr>\n",
       "      <th>2</th>\n",
       "      <td>GHA</td>\n",
       "      <td>4</td>\n",
       "      <td>3</td>\n",
       "      <td>177.125456</td>\n",
       "      <td>35716.206798</td>\n",
       "    </tr>\n",
       "    <tr>\n",
       "      <th>3</th>\n",
       "      <td>GHA</td>\n",
       "      <td>4</td>\n",
       "      <td>4</td>\n",
       "      <td>82.361018</td>\n",
       "      <td>75464.378596</td>\n",
       "    </tr>\n",
       "    <tr>\n",
       "      <th>4</th>\n",
       "      <td>GHA</td>\n",
       "      <td>4</td>\n",
       "      <td>5</td>\n",
       "      <td>651.713357</td>\n",
       "      <td>80665.311917</td>\n",
       "    </tr>\n",
       "  </tbody>\n",
       "</table>\n",
       "</div>"
      ],
      "text/plain": [
       "   iso  adm1  adm2  umd_tree_cover_gain__ha  umd_tree_cover_extent_2000__ha\n",
       "0  GHA     4     1                85.866915                   524121.229994\n",
       "1  GHA     4     2               504.361696                    58290.454021\n",
       "2  GHA     4     3               177.125456                    35716.206798\n",
       "3  GHA     4     4                82.361018                    75464.378596\n",
       "4  GHA     4     5               651.713357                    80665.311917"
      ]
     },
     "execution_count": 105,
     "metadata": {},
     "output_type": "execute_result"
    }
   ],
   "source": [
    "df20.head(5)"
   ]
  },
  {
   "cell_type": "code",
   "execution_count": 106,
   "id": "c92fccc2",
   "metadata": {},
   "outputs": [],
   "source": [
    "# Renaming 17-20\n",
    "def rename_columns(df):\n",
    "    return df.rename(columns={\n",
    "        'adm1': 'admin',\n",
    "        'umd_tree_cover_gain__ha': 'Tree_CoverGain(Ha)',\n",
    "        'umd_tree_cover_extent_2000__ha': 'Tree_CoverExtent(Ha)',\n",
    "    },inplace=True)\n"
   ]
  },
  {
   "cell_type": "code",
   "execution_count": 107,
   "id": "14c98af8",
   "metadata": {},
   "outputs": [],
   "source": [
    "rename_columns(df17)\n",
    "rename_columns(df18)\n",
    "rename_columns(df19)\n",
    "rename_columns(df20)"
   ]
  },
  {
   "cell_type": "code",
   "execution_count": 108,
   "id": "69236f30",
   "metadata": {},
   "outputs": [],
   "source": [
    "tree_covergaindata = pd.concat([df17, df18, df19, df20])"
   ]
  },
  {
   "cell_type": "code",
   "execution_count": 109,
   "id": "cc3df19c",
   "metadata": {},
   "outputs": [
    {
     "data": {
      "text/html": [
       "<div>\n",
       "<style scoped>\n",
       "    .dataframe tbody tr th:only-of-type {\n",
       "        vertical-align: middle;\n",
       "    }\n",
       "\n",
       "    .dataframe tbody tr th {\n",
       "        vertical-align: top;\n",
       "    }\n",
       "\n",
       "    .dataframe thead th {\n",
       "        text-align: right;\n",
       "    }\n",
       "</style>\n",
       "<table border=\"1\" class=\"dataframe\">\n",
       "  <thead>\n",
       "    <tr style=\"text-align: right;\">\n",
       "      <th></th>\n",
       "      <th>iso</th>\n",
       "      <th>admin</th>\n",
       "      <th>adm2</th>\n",
       "      <th>Tree_CoverGain(Ha)</th>\n",
       "      <th>Tree_CoverExtent(Ha)</th>\n",
       "    </tr>\n",
       "  </thead>\n",
       "  <tbody>\n",
       "    <tr>\n",
       "      <th>0</th>\n",
       "      <td>GHA</td>\n",
       "      <td>1</td>\n",
       "      <td>1</td>\n",
       "      <td>1143.889300</td>\n",
       "      <td>61268.748322</td>\n",
       "    </tr>\n",
       "    <tr>\n",
       "      <th>1</th>\n",
       "      <td>GHA</td>\n",
       "      <td>1</td>\n",
       "      <td>2</td>\n",
       "      <td>3808.257282</td>\n",
       "      <td>140791.594951</td>\n",
       "    </tr>\n",
       "    <tr>\n",
       "      <th>2</th>\n",
       "      <td>GHA</td>\n",
       "      <td>1</td>\n",
       "      <td>3</td>\n",
       "      <td>1016.677195</td>\n",
       "      <td>66796.643483</td>\n",
       "    </tr>\n",
       "    <tr>\n",
       "      <th>3</th>\n",
       "      <td>GHA</td>\n",
       "      <td>1</td>\n",
       "      <td>4</td>\n",
       "      <td>56.454321</td>\n",
       "      <td>72964.811444</td>\n",
       "    </tr>\n",
       "    <tr>\n",
       "      <th>4</th>\n",
       "      <td>GHA</td>\n",
       "      <td>1</td>\n",
       "      <td>5</td>\n",
       "      <td>985.491937</td>\n",
       "      <td>120723.516528</td>\n",
       "    </tr>\n",
       "  </tbody>\n",
       "</table>\n",
       "</div>"
      ],
      "text/plain": [
       "   iso  admin  adm2  Tree_CoverGain(Ha)  Tree_CoverExtent(Ha)\n",
       "0  GHA      1     1         1143.889300          61268.748322\n",
       "1  GHA      1     2         3808.257282         140791.594951\n",
       "2  GHA      1     3         1016.677195          66796.643483\n",
       "3  GHA      1     4           56.454321          72964.811444\n",
       "4  GHA      1     5          985.491937         120723.516528"
      ]
     },
     "execution_count": 109,
     "metadata": {},
     "output_type": "execute_result"
    }
   ],
   "source": [
    "tree_covergaindata.head(5)"
   ]
  },
  {
   "cell_type": "code",
   "execution_count": 110,
   "id": "9cae9a90",
   "metadata": {},
   "outputs": [],
   "source": [
    "tree_covergaindata.drop(columns=['iso','adm2'],inplace=True)"
   ]
  },
  {
   "cell_type": "code",
   "execution_count": 111,
   "id": "e9986104",
   "metadata": {},
   "outputs": [
    {
     "data": {
      "text/html": [
       "<div>\n",
       "<style scoped>\n",
       "    .dataframe tbody tr th:only-of-type {\n",
       "        vertical-align: middle;\n",
       "    }\n",
       "\n",
       "    .dataframe tbody tr th {\n",
       "        vertical-align: top;\n",
       "    }\n",
       "\n",
       "    .dataframe thead th {\n",
       "        text-align: right;\n",
       "    }\n",
       "</style>\n",
       "<table border=\"1\" class=\"dataframe\">\n",
       "  <thead>\n",
       "    <tr style=\"text-align: right;\">\n",
       "      <th></th>\n",
       "      <th>admin</th>\n",
       "      <th>Tree_CoverGain(Ha)</th>\n",
       "      <th>Tree_CoverExtent(Ha)</th>\n",
       "    </tr>\n",
       "  </thead>\n",
       "  <tbody>\n",
       "    <tr>\n",
       "      <th>0</th>\n",
       "      <td>1</td>\n",
       "      <td>1143.889300</td>\n",
       "      <td>61268.748322</td>\n",
       "    </tr>\n",
       "    <tr>\n",
       "      <th>1</th>\n",
       "      <td>1</td>\n",
       "      <td>3808.257282</td>\n",
       "      <td>140791.594951</td>\n",
       "    </tr>\n",
       "    <tr>\n",
       "      <th>2</th>\n",
       "      <td>1</td>\n",
       "      <td>1016.677195</td>\n",
       "      <td>66796.643483</td>\n",
       "    </tr>\n",
       "    <tr>\n",
       "      <th>3</th>\n",
       "      <td>1</td>\n",
       "      <td>56.454321</td>\n",
       "      <td>72964.811444</td>\n",
       "    </tr>\n",
       "    <tr>\n",
       "      <th>4</th>\n",
       "      <td>1</td>\n",
       "      <td>985.491937</td>\n",
       "      <td>120723.516528</td>\n",
       "    </tr>\n",
       "  </tbody>\n",
       "</table>\n",
       "</div>"
      ],
      "text/plain": [
       "   admin  Tree_CoverGain(Ha)  Tree_CoverExtent(Ha)\n",
       "0      1         1143.889300          61268.748322\n",
       "1      1         3808.257282         140791.594951\n",
       "2      1         1016.677195          66796.643483\n",
       "3      1           56.454321          72964.811444\n",
       "4      1          985.491937         120723.516528"
      ]
     },
     "execution_count": 111,
     "metadata": {},
     "output_type": "execute_result"
    }
   ],
   "source": [
    "tree_covergaindata.head(5)"
   ]
  },
  {
   "cell_type": "code",
   "execution_count": 112,
   "id": "4a107594",
   "metadata": {},
   "outputs": [
    {
     "data": {
      "text/html": [
       "<div>\n",
       "<style scoped>\n",
       "    .dataframe tbody tr th:only-of-type {\n",
       "        vertical-align: middle;\n",
       "    }\n",
       "\n",
       "    .dataframe tbody tr th {\n",
       "        vertical-align: top;\n",
       "    }\n",
       "\n",
       "    .dataframe thead th {\n",
       "        text-align: right;\n",
       "    }\n",
       "</style>\n",
       "<table border=\"1\" class=\"dataframe\">\n",
       "  <thead>\n",
       "    <tr style=\"text-align: right;\">\n",
       "      <th></th>\n",
       "      <th>iso</th>\n",
       "      <th>adm1</th>\n",
       "      <th>umd_tree_cover_loss__year</th>\n",
       "      <th>umd_tree_cover_loss__ha</th>\n",
       "      <th>gfw_gross_emissions_co2e_all_gases__Mg</th>\n",
       "    </tr>\n",
       "  </thead>\n",
       "  <tbody>\n",
       "    <tr>\n",
       "      <th>0</th>\n",
       "      <td>GHA</td>\n",
       "      <td>1</td>\n",
       "      <td>2001</td>\n",
       "      <td>5851.122804</td>\n",
       "      <td>2.100593e+06</td>\n",
       "    </tr>\n",
       "    <tr>\n",
       "      <th>1</th>\n",
       "      <td>GHA</td>\n",
       "      <td>1</td>\n",
       "      <td>2002</td>\n",
       "      <td>15251.958338</td>\n",
       "      <td>5.537939e+06</td>\n",
       "    </tr>\n",
       "    <tr>\n",
       "      <th>2</th>\n",
       "      <td>GHA</td>\n",
       "      <td>1</td>\n",
       "      <td>2003</td>\n",
       "      <td>8137.860448</td>\n",
       "      <td>2.952650e+06</td>\n",
       "    </tr>\n",
       "    <tr>\n",
       "      <th>3</th>\n",
       "      <td>GHA</td>\n",
       "      <td>1</td>\n",
       "      <td>2004</td>\n",
       "      <td>2014.371336</td>\n",
       "      <td>7.908153e+05</td>\n",
       "    </tr>\n",
       "    <tr>\n",
       "      <th>4</th>\n",
       "      <td>GHA</td>\n",
       "      <td>1</td>\n",
       "      <td>2005</td>\n",
       "      <td>7549.778007</td>\n",
       "      <td>2.910321e+06</td>\n",
       "    </tr>\n",
       "  </tbody>\n",
       "</table>\n",
       "</div>"
      ],
      "text/plain": [
       "   iso  adm1  umd_tree_cover_loss__year  umd_tree_cover_loss__ha  \\\n",
       "0  GHA     1                       2001              5851.122804   \n",
       "1  GHA     1                       2002             15251.958338   \n",
       "2  GHA     1                       2003              8137.860448   \n",
       "3  GHA     1                       2004              2014.371336   \n",
       "4  GHA     1                       2005              7549.778007   \n",
       "\n",
       "   gfw_gross_emissions_co2e_all_gases__Mg  \n",
       "0                            2.100593e+06  \n",
       "1                            5.537939e+06  \n",
       "2                            2.952650e+06  \n",
       "3                            7.908153e+05  \n",
       "4                            2.910321e+06  "
      ]
     },
     "execution_count": 112,
     "metadata": {},
     "output_type": "execute_result"
    }
   ],
   "source": [
    "df21.head(5)"
   ]
  },
  {
   "cell_type": "code",
   "execution_count": 113,
   "id": "6117f6d4",
   "metadata": {},
   "outputs": [
    {
     "data": {
      "text/html": [
       "<div>\n",
       "<style scoped>\n",
       "    .dataframe tbody tr th:only-of-type {\n",
       "        vertical-align: middle;\n",
       "    }\n",
       "\n",
       "    .dataframe tbody tr th {\n",
       "        vertical-align: top;\n",
       "    }\n",
       "\n",
       "    .dataframe thead th {\n",
       "        text-align: right;\n",
       "    }\n",
       "</style>\n",
       "<table border=\"1\" class=\"dataframe\">\n",
       "  <thead>\n",
       "    <tr style=\"text-align: right;\">\n",
       "      <th></th>\n",
       "      <th>iso</th>\n",
       "      <th>adm1</th>\n",
       "      <th>umd_tree_cover_loss__year</th>\n",
       "      <th>umd_tree_cover_loss__ha</th>\n",
       "      <th>gfw_gross_emissions_co2e_all_gases__Mg</th>\n",
       "    </tr>\n",
       "  </thead>\n",
       "  <tbody>\n",
       "    <tr>\n",
       "      <th>0</th>\n",
       "      <td>GHA</td>\n",
       "      <td>2</td>\n",
       "      <td>2001</td>\n",
       "      <td>6517.158426</td>\n",
       "      <td>2.036074e+06</td>\n",
       "    </tr>\n",
       "    <tr>\n",
       "      <th>1</th>\n",
       "      <td>GHA</td>\n",
       "      <td>2</td>\n",
       "      <td>2002</td>\n",
       "      <td>3472.814780</td>\n",
       "      <td>1.204934e+06</td>\n",
       "    </tr>\n",
       "    <tr>\n",
       "      <th>2</th>\n",
       "      <td>GHA</td>\n",
       "      <td>2</td>\n",
       "      <td>2003</td>\n",
       "      <td>1258.318761</td>\n",
       "      <td>3.920337e+05</td>\n",
       "    </tr>\n",
       "    <tr>\n",
       "      <th>3</th>\n",
       "      <td>GHA</td>\n",
       "      <td>2</td>\n",
       "      <td>2004</td>\n",
       "      <td>787.145149</td>\n",
       "      <td>2.859949e+05</td>\n",
       "    </tr>\n",
       "    <tr>\n",
       "      <th>4</th>\n",
       "      <td>GHA</td>\n",
       "      <td>2</td>\n",
       "      <td>2005</td>\n",
       "      <td>3358.366334</td>\n",
       "      <td>1.160160e+06</td>\n",
       "    </tr>\n",
       "  </tbody>\n",
       "</table>\n",
       "</div>"
      ],
      "text/plain": [
       "   iso  adm1  umd_tree_cover_loss__year  umd_tree_cover_loss__ha  \\\n",
       "0  GHA     2                       2001              6517.158426   \n",
       "1  GHA     2                       2002              3472.814780   \n",
       "2  GHA     2                       2003              1258.318761   \n",
       "3  GHA     2                       2004               787.145149   \n",
       "4  GHA     2                       2005              3358.366334   \n",
       "\n",
       "   gfw_gross_emissions_co2e_all_gases__Mg  \n",
       "0                            2.036074e+06  \n",
       "1                            1.204934e+06  \n",
       "2                            3.920337e+05  \n",
       "3                            2.859949e+05  \n",
       "4                            1.160160e+06  "
      ]
     },
     "execution_count": 113,
     "metadata": {},
     "output_type": "execute_result"
    }
   ],
   "source": [
    "df22.head(5)"
   ]
  },
  {
   "cell_type": "code",
   "execution_count": 114,
   "id": "8f2ba4dd",
   "metadata": {},
   "outputs": [
    {
     "data": {
      "text/html": [
       "<div>\n",
       "<style scoped>\n",
       "    .dataframe tbody tr th:only-of-type {\n",
       "        vertical-align: middle;\n",
       "    }\n",
       "\n",
       "    .dataframe tbody tr th {\n",
       "        vertical-align: top;\n",
       "    }\n",
       "\n",
       "    .dataframe thead th {\n",
       "        text-align: right;\n",
       "    }\n",
       "</style>\n",
       "<table border=\"1\" class=\"dataframe\">\n",
       "  <thead>\n",
       "    <tr style=\"text-align: right;\">\n",
       "      <th></th>\n",
       "      <th>iso</th>\n",
       "      <th>adm1</th>\n",
       "      <th>umd_tree_cover_loss__year</th>\n",
       "      <th>umd_tree_cover_loss__ha</th>\n",
       "      <th>gfw_gross_emissions_co2e_all_gases__Mg</th>\n",
       "    </tr>\n",
       "  </thead>\n",
       "  <tbody>\n",
       "    <tr>\n",
       "      <th>0</th>\n",
       "      <td>GHA</td>\n",
       "      <td>3</td>\n",
       "      <td>2001</td>\n",
       "      <td>9795.492987</td>\n",
       "      <td>3.893981e+06</td>\n",
       "    </tr>\n",
       "    <tr>\n",
       "      <th>1</th>\n",
       "      <td>GHA</td>\n",
       "      <td>3</td>\n",
       "      <td>2002</td>\n",
       "      <td>14066.933060</td>\n",
       "      <td>5.461563e+06</td>\n",
       "    </tr>\n",
       "    <tr>\n",
       "      <th>2</th>\n",
       "      <td>GHA</td>\n",
       "      <td>3</td>\n",
       "      <td>2003</td>\n",
       "      <td>3761.734971</td>\n",
       "      <td>1.515237e+06</td>\n",
       "    </tr>\n",
       "    <tr>\n",
       "      <th>3</th>\n",
       "      <td>GHA</td>\n",
       "      <td>3</td>\n",
       "      <td>2004</td>\n",
       "      <td>2838.917129</td>\n",
       "      <td>1.162293e+06</td>\n",
       "    </tr>\n",
       "    <tr>\n",
       "      <th>4</th>\n",
       "      <td>GHA</td>\n",
       "      <td>3</td>\n",
       "      <td>2005</td>\n",
       "      <td>7846.020390</td>\n",
       "      <td>3.416472e+06</td>\n",
       "    </tr>\n",
       "  </tbody>\n",
       "</table>\n",
       "</div>"
      ],
      "text/plain": [
       "   iso  adm1  umd_tree_cover_loss__year  umd_tree_cover_loss__ha  \\\n",
       "0  GHA     3                       2001              9795.492987   \n",
       "1  GHA     3                       2002             14066.933060   \n",
       "2  GHA     3                       2003              3761.734971   \n",
       "3  GHA     3                       2004              2838.917129   \n",
       "4  GHA     3                       2005              7846.020390   \n",
       "\n",
       "   gfw_gross_emissions_co2e_all_gases__Mg  \n",
       "0                            3.893981e+06  \n",
       "1                            5.461563e+06  \n",
       "2                            1.515237e+06  \n",
       "3                            1.162293e+06  \n",
       "4                            3.416472e+06  "
      ]
     },
     "execution_count": 114,
     "metadata": {},
     "output_type": "execute_result"
    }
   ],
   "source": [
    "df23.head(5)"
   ]
  },
  {
   "cell_type": "code",
   "execution_count": 115,
   "id": "467634ae",
   "metadata": {},
   "outputs": [
    {
     "data": {
      "text/html": [
       "<div>\n",
       "<style scoped>\n",
       "    .dataframe tbody tr th:only-of-type {\n",
       "        vertical-align: middle;\n",
       "    }\n",
       "\n",
       "    .dataframe tbody tr th {\n",
       "        vertical-align: top;\n",
       "    }\n",
       "\n",
       "    .dataframe thead th {\n",
       "        text-align: right;\n",
       "    }\n",
       "</style>\n",
       "<table border=\"1\" class=\"dataframe\">\n",
       "  <thead>\n",
       "    <tr style=\"text-align: right;\">\n",
       "      <th></th>\n",
       "      <th>iso</th>\n",
       "      <th>adm1</th>\n",
       "      <th>umd_tree_cover_loss__year</th>\n",
       "      <th>umd_tree_cover_loss__ha</th>\n",
       "      <th>gfw_gross_emissions_co2e_all_gases__Mg</th>\n",
       "    </tr>\n",
       "  </thead>\n",
       "  <tbody>\n",
       "    <tr>\n",
       "      <th>0</th>\n",
       "      <td>GHA</td>\n",
       "      <td>4</td>\n",
       "      <td>2001</td>\n",
       "      <td>4951.657944</td>\n",
       "      <td>1.758096e+06</td>\n",
       "    </tr>\n",
       "    <tr>\n",
       "      <th>1</th>\n",
       "      <td>GHA</td>\n",
       "      <td>4</td>\n",
       "      <td>2002</td>\n",
       "      <td>5699.771019</td>\n",
       "      <td>2.178357e+06</td>\n",
       "    </tr>\n",
       "    <tr>\n",
       "      <th>2</th>\n",
       "      <td>GHA</td>\n",
       "      <td>4</td>\n",
       "      <td>2003</td>\n",
       "      <td>3064.140912</td>\n",
       "      <td>1.178092e+06</td>\n",
       "    </tr>\n",
       "    <tr>\n",
       "      <th>3</th>\n",
       "      <td>GHA</td>\n",
       "      <td>4</td>\n",
       "      <td>2004</td>\n",
       "      <td>876.785259</td>\n",
       "      <td>3.502866e+05</td>\n",
       "    </tr>\n",
       "    <tr>\n",
       "      <th>4</th>\n",
       "      <td>GHA</td>\n",
       "      <td>4</td>\n",
       "      <td>2005</td>\n",
       "      <td>3942.938447</td>\n",
       "      <td>1.603571e+06</td>\n",
       "    </tr>\n",
       "  </tbody>\n",
       "</table>\n",
       "</div>"
      ],
      "text/plain": [
       "   iso  adm1  umd_tree_cover_loss__year  umd_tree_cover_loss__ha  \\\n",
       "0  GHA     4                       2001              4951.657944   \n",
       "1  GHA     4                       2002              5699.771019   \n",
       "2  GHA     4                       2003              3064.140912   \n",
       "3  GHA     4                       2004               876.785259   \n",
       "4  GHA     4                       2005              3942.938447   \n",
       "\n",
       "   gfw_gross_emissions_co2e_all_gases__Mg  \n",
       "0                            1.758096e+06  \n",
       "1                            2.178357e+06  \n",
       "2                            1.178092e+06  \n",
       "3                            3.502866e+05  \n",
       "4                            1.603571e+06  "
      ]
     },
     "execution_count": 115,
     "metadata": {},
     "output_type": "execute_result"
    }
   ],
   "source": [
    "df24.head(5)"
   ]
  },
  {
   "cell_type": "code",
   "execution_count": 116,
   "id": "172e6fb7",
   "metadata": {},
   "outputs": [],
   "source": [
    "# 21-24\n",
    "def rename_columns(df):\n",
    "    df.rename(columns={\n",
    "        'adm1':'admin',\n",
    "        'umd_tree_cover_loss__year':'Year',\n",
    "        'umd_tree_cover_loss__ha':'Tree_CoverLoss(Ha)',\n",
    "        'gfw_gross_emissions_co2e_all_gases__Mg':'Total_Emission(GreenHousesMg)'\n",
    "    }, inplace=True)\n"
   ]
  },
  {
   "cell_type": "code",
   "execution_count": 117,
   "id": "f0923a7b",
   "metadata": {},
   "outputs": [],
   "source": [
    "rename_columns(df21)\n",
    "rename_columns(df22)\n",
    "rename_columns(df23)\n",
    "rename_columns(df24)"
   ]
  },
  {
   "cell_type": "code",
   "execution_count": 118,
   "id": "86a31539",
   "metadata": {},
   "outputs": [],
   "source": [
    "emission_data = pd.concat([df21, df22, df23, df24],axis=0)"
   ]
  },
  {
   "cell_type": "code",
   "execution_count": 119,
   "id": "07cb3288",
   "metadata": {},
   "outputs": [
    {
     "data": {
      "text/html": [
       "<div>\n",
       "<style scoped>\n",
       "    .dataframe tbody tr th:only-of-type {\n",
       "        vertical-align: middle;\n",
       "    }\n",
       "\n",
       "    .dataframe tbody tr th {\n",
       "        vertical-align: top;\n",
       "    }\n",
       "\n",
       "    .dataframe thead th {\n",
       "        text-align: right;\n",
       "    }\n",
       "</style>\n",
       "<table border=\"1\" class=\"dataframe\">\n",
       "  <thead>\n",
       "    <tr style=\"text-align: right;\">\n",
       "      <th></th>\n",
       "      <th>iso</th>\n",
       "      <th>admin</th>\n",
       "      <th>Year</th>\n",
       "      <th>Tree_CoverLoss(Ha)</th>\n",
       "      <th>Total_Emission(GreenHousesMg)</th>\n",
       "    </tr>\n",
       "  </thead>\n",
       "  <tbody>\n",
       "    <tr>\n",
       "      <th>0</th>\n",
       "      <td>GHA</td>\n",
       "      <td>1</td>\n",
       "      <td>2001</td>\n",
       "      <td>5851.122804</td>\n",
       "      <td>2.100593e+06</td>\n",
       "    </tr>\n",
       "    <tr>\n",
       "      <th>1</th>\n",
       "      <td>GHA</td>\n",
       "      <td>1</td>\n",
       "      <td>2002</td>\n",
       "      <td>15251.958338</td>\n",
       "      <td>5.537939e+06</td>\n",
       "    </tr>\n",
       "    <tr>\n",
       "      <th>2</th>\n",
       "      <td>GHA</td>\n",
       "      <td>1</td>\n",
       "      <td>2003</td>\n",
       "      <td>8137.860448</td>\n",
       "      <td>2.952650e+06</td>\n",
       "    </tr>\n",
       "    <tr>\n",
       "      <th>3</th>\n",
       "      <td>GHA</td>\n",
       "      <td>1</td>\n",
       "      <td>2004</td>\n",
       "      <td>2014.371336</td>\n",
       "      <td>7.908153e+05</td>\n",
       "    </tr>\n",
       "    <tr>\n",
       "      <th>4</th>\n",
       "      <td>GHA</td>\n",
       "      <td>1</td>\n",
       "      <td>2005</td>\n",
       "      <td>7549.778007</td>\n",
       "      <td>2.910321e+06</td>\n",
       "    </tr>\n",
       "  </tbody>\n",
       "</table>\n",
       "</div>"
      ],
      "text/plain": [
       "   iso  admin  Year  Tree_CoverLoss(Ha)  Total_Emission(GreenHousesMg)\n",
       "0  GHA      1  2001         5851.122804                   2.100593e+06\n",
       "1  GHA      1  2002        15251.958338                   5.537939e+06\n",
       "2  GHA      1  2003         8137.860448                   2.952650e+06\n",
       "3  GHA      1  2004         2014.371336                   7.908153e+05\n",
       "4  GHA      1  2005         7549.778007                   2.910321e+06"
      ]
     },
     "execution_count": 119,
     "metadata": {},
     "output_type": "execute_result"
    }
   ],
   "source": [
    "emission_data.head(5)"
   ]
  },
  {
   "cell_type": "code",
   "execution_count": 120,
   "id": "51ee309d",
   "metadata": {},
   "outputs": [],
   "source": [
    "emission_data.drop(columns=['iso'],inplace=True)"
   ]
  },
  {
   "cell_type": "code",
   "execution_count": 121,
   "id": "b09e0cac",
   "metadata": {},
   "outputs": [
    {
     "data": {
      "text/html": [
       "<div>\n",
       "<style scoped>\n",
       "    .dataframe tbody tr th:only-of-type {\n",
       "        vertical-align: middle;\n",
       "    }\n",
       "\n",
       "    .dataframe tbody tr th {\n",
       "        vertical-align: top;\n",
       "    }\n",
       "\n",
       "    .dataframe thead th {\n",
       "        text-align: right;\n",
       "    }\n",
       "</style>\n",
       "<table border=\"1\" class=\"dataframe\">\n",
       "  <thead>\n",
       "    <tr style=\"text-align: right;\">\n",
       "      <th></th>\n",
       "      <th>admin</th>\n",
       "      <th>Year</th>\n",
       "      <th>Tree_CoverLoss(Ha)</th>\n",
       "      <th>Total_Emission(GreenHousesMg)</th>\n",
       "    </tr>\n",
       "  </thead>\n",
       "  <tbody>\n",
       "    <tr>\n",
       "      <th>0</th>\n",
       "      <td>1</td>\n",
       "      <td>2001</td>\n",
       "      <td>5851.122804</td>\n",
       "      <td>2.100593e+06</td>\n",
       "    </tr>\n",
       "    <tr>\n",
       "      <th>1</th>\n",
       "      <td>1</td>\n",
       "      <td>2002</td>\n",
       "      <td>15251.958338</td>\n",
       "      <td>5.537939e+06</td>\n",
       "    </tr>\n",
       "    <tr>\n",
       "      <th>2</th>\n",
       "      <td>1</td>\n",
       "      <td>2003</td>\n",
       "      <td>8137.860448</td>\n",
       "      <td>2.952650e+06</td>\n",
       "    </tr>\n",
       "    <tr>\n",
       "      <th>3</th>\n",
       "      <td>1</td>\n",
       "      <td>2004</td>\n",
       "      <td>2014.371336</td>\n",
       "      <td>7.908153e+05</td>\n",
       "    </tr>\n",
       "    <tr>\n",
       "      <th>4</th>\n",
       "      <td>1</td>\n",
       "      <td>2005</td>\n",
       "      <td>7549.778007</td>\n",
       "      <td>2.910321e+06</td>\n",
       "    </tr>\n",
       "  </tbody>\n",
       "</table>\n",
       "</div>"
      ],
      "text/plain": [
       "   admin  Year  Tree_CoverLoss(Ha)  Total_Emission(GreenHousesMg)\n",
       "0      1  2001         5851.122804                   2.100593e+06\n",
       "1      1  2002        15251.958338                   5.537939e+06\n",
       "2      1  2003         8137.860448                   2.952650e+06\n",
       "3      1  2004         2014.371336                   7.908153e+05\n",
       "4      1  2005         7549.778007                   2.910321e+06"
      ]
     },
     "execution_count": 121,
     "metadata": {},
     "output_type": "execute_result"
    }
   ],
   "source": [
    "emission_data.head(5)"
   ]
  },
  {
   "cell_type": "code",
   "execution_count": 122,
   "id": "eb702b0d",
   "metadata": {},
   "outputs": [
    {
     "data": {
      "text/html": [
       "<div>\n",
       "<style scoped>\n",
       "    .dataframe tbody tr th:only-of-type {\n",
       "        vertical-align: middle;\n",
       "    }\n",
       "\n",
       "    .dataframe tbody tr th {\n",
       "        vertical-align: top;\n",
       "    }\n",
       "\n",
       "    .dataframe thead th {\n",
       "        text-align: right;\n",
       "    }\n",
       "</style>\n",
       "<table border=\"1\" class=\"dataframe\">\n",
       "  <thead>\n",
       "    <tr style=\"text-align: right;\">\n",
       "      <th></th>\n",
       "      <th>iso</th>\n",
       "      <th>adm1</th>\n",
       "      <th>umd_tree_cover_loss__year</th>\n",
       "      <th>umd_tree_cover_loss__ha</th>\n",
       "      <th>umd_tree_cover_loss_from_fires__ha</th>\n",
       "    </tr>\n",
       "  </thead>\n",
       "  <tbody>\n",
       "    <tr>\n",
       "      <th>0</th>\n",
       "      <td>GHA</td>\n",
       "      <td>2</td>\n",
       "      <td>2001</td>\n",
       "      <td>6517.158426</td>\n",
       "      <td>8.314765</td>\n",
       "    </tr>\n",
       "    <tr>\n",
       "      <th>1</th>\n",
       "      <td>GHA</td>\n",
       "      <td>2</td>\n",
       "      <td>2002</td>\n",
       "      <td>3472.814780</td>\n",
       "      <td>1.221155</td>\n",
       "    </tr>\n",
       "    <tr>\n",
       "      <th>2</th>\n",
       "      <td>GHA</td>\n",
       "      <td>2</td>\n",
       "      <td>2003</td>\n",
       "      <td>1258.318761</td>\n",
       "      <td>0.686220</td>\n",
       "    </tr>\n",
       "    <tr>\n",
       "      <th>3</th>\n",
       "      <td>GHA</td>\n",
       "      <td>2</td>\n",
       "      <td>2004</td>\n",
       "      <td>787.145149</td>\n",
       "      <td>0.458311</td>\n",
       "    </tr>\n",
       "    <tr>\n",
       "      <th>4</th>\n",
       "      <td>GHA</td>\n",
       "      <td>2</td>\n",
       "      <td>2005</td>\n",
       "      <td>3358.366334</td>\n",
       "      <td>15.796880</td>\n",
       "    </tr>\n",
       "  </tbody>\n",
       "</table>\n",
       "</div>"
      ],
      "text/plain": [
       "   iso  adm1  umd_tree_cover_loss__year  umd_tree_cover_loss__ha  \\\n",
       "0  GHA     2                       2001              6517.158426   \n",
       "1  GHA     2                       2002              3472.814780   \n",
       "2  GHA     2                       2003              1258.318761   \n",
       "3  GHA     2                       2004               787.145149   \n",
       "4  GHA     2                       2005              3358.366334   \n",
       "\n",
       "   umd_tree_cover_loss_from_fires__ha  \n",
       "0                            8.314765  \n",
       "1                            1.221155  \n",
       "2                            0.686220  \n",
       "3                            0.458311  \n",
       "4                           15.796880  "
      ]
     },
     "execution_count": 122,
     "metadata": {},
     "output_type": "execute_result"
    }
   ],
   "source": [
    "df26.head(5)"
   ]
  },
  {
   "cell_type": "code",
   "execution_count": 123,
   "id": "d793e927",
   "metadata": {},
   "outputs": [
    {
     "data": {
      "text/html": [
       "<div>\n",
       "<style scoped>\n",
       "    .dataframe tbody tr th:only-of-type {\n",
       "        vertical-align: middle;\n",
       "    }\n",
       "\n",
       "    .dataframe tbody tr th {\n",
       "        vertical-align: top;\n",
       "    }\n",
       "\n",
       "    .dataframe thead th {\n",
       "        text-align: right;\n",
       "    }\n",
       "</style>\n",
       "<table border=\"1\" class=\"dataframe\">\n",
       "  <thead>\n",
       "    <tr style=\"text-align: right;\">\n",
       "      <th></th>\n",
       "      <th>iso</th>\n",
       "      <th>adm1</th>\n",
       "      <th>umd_tree_cover_loss__year</th>\n",
       "      <th>umd_tree_cover_loss__ha</th>\n",
       "      <th>umd_tree_cover_loss_from_fires__ha</th>\n",
       "    </tr>\n",
       "  </thead>\n",
       "  <tbody>\n",
       "    <tr>\n",
       "      <th>0</th>\n",
       "      <td>GHA</td>\n",
       "      <td>3</td>\n",
       "      <td>2001</td>\n",
       "      <td>9795.492987</td>\n",
       "      <td>23.818808</td>\n",
       "    </tr>\n",
       "    <tr>\n",
       "      <th>1</th>\n",
       "      <td>GHA</td>\n",
       "      <td>3</td>\n",
       "      <td>2002</td>\n",
       "      <td>14066.933060</td>\n",
       "      <td>15.929626</td>\n",
       "    </tr>\n",
       "    <tr>\n",
       "      <th>2</th>\n",
       "      <td>GHA</td>\n",
       "      <td>3</td>\n",
       "      <td>2003</td>\n",
       "      <td>3761.734971</td>\n",
       "      <td>3.139947</td>\n",
       "    </tr>\n",
       "    <tr>\n",
       "      <th>3</th>\n",
       "      <td>GHA</td>\n",
       "      <td>3</td>\n",
       "      <td>2004</td>\n",
       "      <td>2838.917129</td>\n",
       "      <td>6.969940</td>\n",
       "    </tr>\n",
       "    <tr>\n",
       "      <th>4</th>\n",
       "      <td>GHA</td>\n",
       "      <td>3</td>\n",
       "      <td>2005</td>\n",
       "      <td>7846.020390</td>\n",
       "      <td>9.265177</td>\n",
       "    </tr>\n",
       "  </tbody>\n",
       "</table>\n",
       "</div>"
      ],
      "text/plain": [
       "   iso  adm1  umd_tree_cover_loss__year  umd_tree_cover_loss__ha  \\\n",
       "0  GHA     3                       2001              9795.492987   \n",
       "1  GHA     3                       2002             14066.933060   \n",
       "2  GHA     3                       2003              3761.734971   \n",
       "3  GHA     3                       2004              2838.917129   \n",
       "4  GHA     3                       2005              7846.020390   \n",
       "\n",
       "   umd_tree_cover_loss_from_fires__ha  \n",
       "0                           23.818808  \n",
       "1                           15.929626  \n",
       "2                            3.139947  \n",
       "3                            6.969940  \n",
       "4                            9.265177  "
      ]
     },
     "execution_count": 123,
     "metadata": {},
     "output_type": "execute_result"
    }
   ],
   "source": [
    "df27.head(5)"
   ]
  },
  {
   "cell_type": "code",
   "execution_count": 124,
   "id": "f10bdf58",
   "metadata": {},
   "outputs": [
    {
     "data": {
      "text/html": [
       "<div>\n",
       "<style scoped>\n",
       "    .dataframe tbody tr th:only-of-type {\n",
       "        vertical-align: middle;\n",
       "    }\n",
       "\n",
       "    .dataframe tbody tr th {\n",
       "        vertical-align: top;\n",
       "    }\n",
       "\n",
       "    .dataframe thead th {\n",
       "        text-align: right;\n",
       "    }\n",
       "</style>\n",
       "<table border=\"1\" class=\"dataframe\">\n",
       "  <thead>\n",
       "    <tr style=\"text-align: right;\">\n",
       "      <th></th>\n",
       "      <th>iso</th>\n",
       "      <th>adm1</th>\n",
       "      <th>umd_tree_cover_loss__year</th>\n",
       "      <th>umd_tree_cover_loss__ha</th>\n",
       "      <th>umd_tree_cover_loss_from_fires__ha</th>\n",
       "    </tr>\n",
       "  </thead>\n",
       "  <tbody>\n",
       "    <tr>\n",
       "      <th>0</th>\n",
       "      <td>GHA</td>\n",
       "      <td>4</td>\n",
       "      <td>2001</td>\n",
       "      <td>4951.657944</td>\n",
       "      <td>15.375756</td>\n",
       "    </tr>\n",
       "    <tr>\n",
       "      <th>1</th>\n",
       "      <td>GHA</td>\n",
       "      <td>4</td>\n",
       "      <td>2002</td>\n",
       "      <td>5699.771019</td>\n",
       "      <td>6.577340</td>\n",
       "    </tr>\n",
       "    <tr>\n",
       "      <th>2</th>\n",
       "      <td>GHA</td>\n",
       "      <td>4</td>\n",
       "      <td>2003</td>\n",
       "      <td>3064.140912</td>\n",
       "      <td>5.504051</td>\n",
       "    </tr>\n",
       "    <tr>\n",
       "      <th>3</th>\n",
       "      <td>GHA</td>\n",
       "      <td>4</td>\n",
       "      <td>2004</td>\n",
       "      <td>876.785259</td>\n",
       "      <td>2.218675</td>\n",
       "    </tr>\n",
       "    <tr>\n",
       "      <th>4</th>\n",
       "      <td>GHA</td>\n",
       "      <td>4</td>\n",
       "      <td>2005</td>\n",
       "      <td>3942.938447</td>\n",
       "      <td>6.426733</td>\n",
       "    </tr>\n",
       "  </tbody>\n",
       "</table>\n",
       "</div>"
      ],
      "text/plain": [
       "   iso  adm1  umd_tree_cover_loss__year  umd_tree_cover_loss__ha  \\\n",
       "0  GHA     4                       2001              4951.657944   \n",
       "1  GHA     4                       2002              5699.771019   \n",
       "2  GHA     4                       2003              3064.140912   \n",
       "3  GHA     4                       2004               876.785259   \n",
       "4  GHA     4                       2005              3942.938447   \n",
       "\n",
       "   umd_tree_cover_loss_from_fires__ha  \n",
       "0                           15.375756  \n",
       "1                            6.577340  \n",
       "2                            5.504051  \n",
       "3                            2.218675  \n",
       "4                            6.426733  "
      ]
     },
     "execution_count": 124,
     "metadata": {},
     "output_type": "execute_result"
    }
   ],
   "source": [
    "df28.head(5)"
   ]
  },
  {
   "cell_type": "code",
   "execution_count": 125,
   "id": "cc3ccf8a",
   "metadata": {},
   "outputs": [],
   "source": [
    "# 25-29\n",
    "def rename_columns(df):\n",
    "    df.rename(columns={\n",
    "        'adm1':'admin',\n",
    "        'umd_tree_cover_loss__year':'Year',\n",
    "        'umd_tree_cover_loss__ha':'Tree_CoverLoss(Ha)',\n",
    "        'umd_tree_cover_loss_from_fires__ha':'Tree_CoverLossFires(Ha)'\n",
    "    }, inplace=True)\n"
   ]
  },
  {
   "cell_type": "code",
   "execution_count": 126,
   "id": "a720f458",
   "metadata": {},
   "outputs": [],
   "source": [
    "rename_columns(df25)\n",
    "rename_columns(df26)\n",
    "rename_columns(df27)\n",
    "rename_columns(df28)"
   ]
  },
  {
   "cell_type": "code",
   "execution_count": 127,
   "id": "ae59e32b",
   "metadata": {},
   "outputs": [
    {
     "data": {
      "text/html": [
       "<div>\n",
       "<style scoped>\n",
       "    .dataframe tbody tr th:only-of-type {\n",
       "        vertical-align: middle;\n",
       "    }\n",
       "\n",
       "    .dataframe tbody tr th {\n",
       "        vertical-align: top;\n",
       "    }\n",
       "\n",
       "    .dataframe thead th {\n",
       "        text-align: right;\n",
       "    }\n",
       "</style>\n",
       "<table border=\"1\" class=\"dataframe\">\n",
       "  <thead>\n",
       "    <tr style=\"text-align: right;\">\n",
       "      <th></th>\n",
       "      <th>iso</th>\n",
       "      <th>admin</th>\n",
       "      <th>Year</th>\n",
       "      <th>Tree_CoverLoss(Ha)</th>\n",
       "      <th>Tree_CoverLossFires(Ha)</th>\n",
       "    </tr>\n",
       "  </thead>\n",
       "  <tbody>\n",
       "    <tr>\n",
       "      <th>0</th>\n",
       "      <td>GHA</td>\n",
       "      <td>1</td>\n",
       "      <td>2001</td>\n",
       "      <td>5851.122804</td>\n",
       "      <td>25.217732</td>\n",
       "    </tr>\n",
       "    <tr>\n",
       "      <th>1</th>\n",
       "      <td>GHA</td>\n",
       "      <td>1</td>\n",
       "      <td>2002</td>\n",
       "      <td>15251.958338</td>\n",
       "      <td>21.019157</td>\n",
       "    </tr>\n",
       "    <tr>\n",
       "      <th>2</th>\n",
       "      <td>GHA</td>\n",
       "      <td>1</td>\n",
       "      <td>2003</td>\n",
       "      <td>8137.860448</td>\n",
       "      <td>14.290960</td>\n",
       "    </tr>\n",
       "    <tr>\n",
       "      <th>3</th>\n",
       "      <td>GHA</td>\n",
       "      <td>1</td>\n",
       "      <td>2004</td>\n",
       "      <td>2014.371336</td>\n",
       "      <td>8.179280</td>\n",
       "    </tr>\n",
       "    <tr>\n",
       "      <th>4</th>\n",
       "      <td>GHA</td>\n",
       "      <td>1</td>\n",
       "      <td>2005</td>\n",
       "      <td>7549.778007</td>\n",
       "      <td>8.713430</td>\n",
       "    </tr>\n",
       "  </tbody>\n",
       "</table>\n",
       "</div>"
      ],
      "text/plain": [
       "   iso  admin  Year  Tree_CoverLoss(Ha)  Tree_CoverLossFires(Ha)\n",
       "0  GHA      1  2001         5851.122804                25.217732\n",
       "1  GHA      1  2002        15251.958338                21.019157\n",
       "2  GHA      1  2003         8137.860448                14.290960\n",
       "3  GHA      1  2004         2014.371336                 8.179280\n",
       "4  GHA      1  2005         7549.778007                 8.713430"
      ]
     },
     "execution_count": 127,
     "metadata": {},
     "output_type": "execute_result"
    }
   ],
   "source": [
    "#Sample\n",
    "df25.head(5)"
   ]
  },
  {
   "cell_type": "code",
   "execution_count": 128,
   "id": "99a4033d",
   "metadata": {},
   "outputs": [],
   "source": [
    "tree_coverlossfires = pd.concat([df25,df26,df27,df28],axis=0)"
   ]
  },
  {
   "cell_type": "code",
   "execution_count": 129,
   "id": "45755b58",
   "metadata": {},
   "outputs": [
    {
     "data": {
      "text/html": [
       "<div>\n",
       "<style scoped>\n",
       "    .dataframe tbody tr th:only-of-type {\n",
       "        vertical-align: middle;\n",
       "    }\n",
       "\n",
       "    .dataframe tbody tr th {\n",
       "        vertical-align: top;\n",
       "    }\n",
       "\n",
       "    .dataframe thead th {\n",
       "        text-align: right;\n",
       "    }\n",
       "</style>\n",
       "<table border=\"1\" class=\"dataframe\">\n",
       "  <thead>\n",
       "    <tr style=\"text-align: right;\">\n",
       "      <th></th>\n",
       "      <th>iso</th>\n",
       "      <th>admin</th>\n",
       "      <th>Year</th>\n",
       "      <th>Tree_CoverLoss(Ha)</th>\n",
       "      <th>Tree_CoverLossFires(Ha)</th>\n",
       "    </tr>\n",
       "  </thead>\n",
       "  <tbody>\n",
       "    <tr>\n",
       "      <th>0</th>\n",
       "      <td>GHA</td>\n",
       "      <td>1</td>\n",
       "      <td>2001</td>\n",
       "      <td>5851.122804</td>\n",
       "      <td>25.217732</td>\n",
       "    </tr>\n",
       "    <tr>\n",
       "      <th>1</th>\n",
       "      <td>GHA</td>\n",
       "      <td>1</td>\n",
       "      <td>2002</td>\n",
       "      <td>15251.958338</td>\n",
       "      <td>21.019157</td>\n",
       "    </tr>\n",
       "    <tr>\n",
       "      <th>2</th>\n",
       "      <td>GHA</td>\n",
       "      <td>1</td>\n",
       "      <td>2003</td>\n",
       "      <td>8137.860448</td>\n",
       "      <td>14.290960</td>\n",
       "    </tr>\n",
       "    <tr>\n",
       "      <th>3</th>\n",
       "      <td>GHA</td>\n",
       "      <td>1</td>\n",
       "      <td>2004</td>\n",
       "      <td>2014.371336</td>\n",
       "      <td>8.179280</td>\n",
       "    </tr>\n",
       "    <tr>\n",
       "      <th>4</th>\n",
       "      <td>GHA</td>\n",
       "      <td>1</td>\n",
       "      <td>2005</td>\n",
       "      <td>7549.778007</td>\n",
       "      <td>8.713430</td>\n",
       "    </tr>\n",
       "  </tbody>\n",
       "</table>\n",
       "</div>"
      ],
      "text/plain": [
       "   iso  admin  Year  Tree_CoverLoss(Ha)  Tree_CoverLossFires(Ha)\n",
       "0  GHA      1  2001         5851.122804                25.217732\n",
       "1  GHA      1  2002        15251.958338                21.019157\n",
       "2  GHA      1  2003         8137.860448                14.290960\n",
       "3  GHA      1  2004         2014.371336                 8.179280\n",
       "4  GHA      1  2005         7549.778007                 8.713430"
      ]
     },
     "execution_count": 129,
     "metadata": {},
     "output_type": "execute_result"
    }
   ],
   "source": [
    "tree_coverlossfires.head(5)"
   ]
  },
  {
   "cell_type": "code",
   "execution_count": 130,
   "id": "7dacbc15",
   "metadata": {},
   "outputs": [],
   "source": [
    "tree_coverlossfires.drop(columns=['iso'], inplace=True)"
   ]
  },
  {
   "cell_type": "code",
   "execution_count": 131,
   "id": "137aadb7",
   "metadata": {},
   "outputs": [
    {
     "data": {
      "text/html": [
       "<div>\n",
       "<style scoped>\n",
       "    .dataframe tbody tr th:only-of-type {\n",
       "        vertical-align: middle;\n",
       "    }\n",
       "\n",
       "    .dataframe tbody tr th {\n",
       "        vertical-align: top;\n",
       "    }\n",
       "\n",
       "    .dataframe thead th {\n",
       "        text-align: right;\n",
       "    }\n",
       "</style>\n",
       "<table border=\"1\" class=\"dataframe\">\n",
       "  <thead>\n",
       "    <tr style=\"text-align: right;\">\n",
       "      <th></th>\n",
       "      <th>admin</th>\n",
       "      <th>Year</th>\n",
       "      <th>Tree_CoverLoss(Ha)</th>\n",
       "      <th>Tree_CoverLossFires(Ha)</th>\n",
       "    </tr>\n",
       "  </thead>\n",
       "  <tbody>\n",
       "    <tr>\n",
       "      <th>0</th>\n",
       "      <td>1</td>\n",
       "      <td>2001</td>\n",
       "      <td>5851.122804</td>\n",
       "      <td>25.217732</td>\n",
       "    </tr>\n",
       "    <tr>\n",
       "      <th>1</th>\n",
       "      <td>1</td>\n",
       "      <td>2002</td>\n",
       "      <td>15251.958338</td>\n",
       "      <td>21.019157</td>\n",
       "    </tr>\n",
       "    <tr>\n",
       "      <th>2</th>\n",
       "      <td>1</td>\n",
       "      <td>2003</td>\n",
       "      <td>8137.860448</td>\n",
       "      <td>14.290960</td>\n",
       "    </tr>\n",
       "    <tr>\n",
       "      <th>3</th>\n",
       "      <td>1</td>\n",
       "      <td>2004</td>\n",
       "      <td>2014.371336</td>\n",
       "      <td>8.179280</td>\n",
       "    </tr>\n",
       "    <tr>\n",
       "      <th>4</th>\n",
       "      <td>1</td>\n",
       "      <td>2005</td>\n",
       "      <td>7549.778007</td>\n",
       "      <td>8.713430</td>\n",
       "    </tr>\n",
       "  </tbody>\n",
       "</table>\n",
       "</div>"
      ],
      "text/plain": [
       "   admin  Year  Tree_CoverLoss(Ha)  Tree_CoverLossFires(Ha)\n",
       "0      1  2001         5851.122804                25.217732\n",
       "1      1  2002        15251.958338                21.019157\n",
       "2      1  2003         8137.860448                14.290960\n",
       "3      1  2004         2014.371336                 8.179280\n",
       "4      1  2005         7549.778007                 8.713430"
      ]
     },
     "execution_count": 131,
     "metadata": {},
     "output_type": "execute_result"
    }
   ],
   "source": [
    "tree_coverlossfires.head(5)"
   ]
  },
  {
   "cell_type": "code",
   "execution_count": 132,
   "id": "b9a79046",
   "metadata": {},
   "outputs": [
    {
     "ename": "SyntaxError",
     "evalue": "invalid syntax (3443292716.py, line 3)",
     "output_type": "error",
     "traceback": [
      "\u001b[1;36m  File \u001b[1;32m\"C:\\Users\\chimi\\AppData\\Local\\Temp\\ipykernel_5744\\3443292716.py\"\u001b[1;36m, line \u001b[1;32m3\u001b[0m\n\u001b[1;33m    treecoverloss_byfire.\u001b[0m\n\u001b[1;37m                         ^\u001b[0m\n\u001b[1;31mSyntaxError\u001b[0m\u001b[1;31m:\u001b[0m invalid syntax\n"
     ]
    }
   ],
   "source": [
    "fire_data\n",
    "tree_coverloss\n",
    "treecoverloss_byfire.\n",
    "tree_coverextent\n",
    "tree_covergaindata\n",
    "emission_data\n",
    "tree_coverlossfires\n"
   ]
  },
  {
   "cell_type": "code",
   "execution_count": 3502,
   "id": "a82d0e0b",
   "metadata": {},
   "outputs": [
    {
     "data": {
      "text/html": [
       "<div>\n",
       "<style scoped>\n",
       "    .dataframe tbody tr th:only-of-type {\n",
       "        vertical-align: middle;\n",
       "    }\n",
       "\n",
       "    .dataframe tbody tr th {\n",
       "        vertical-align: top;\n",
       "    }\n",
       "\n",
       "    .dataframe thead th {\n",
       "        text-align: right;\n",
       "    }\n",
       "</style>\n",
       "<table border=\"1\" class=\"dataframe\">\n",
       "  <thead>\n",
       "    <tr style=\"text-align: right;\">\n",
       "      <th></th>\n",
       "      <th>admin</th>\n",
       "      <th>Year</th>\n",
       "      <th>Burn_Area(ha)</th>\n",
       "      <th>Tree_CoverLoss(Ha)</th>\n",
       "      <th>Tree_CoverLossFires(Ha)</th>\n",
       "      <th>total_greenhouseemission(millions)</th>\n",
       "      <th>iso</th>\n",
       "      <th>Tree_CoverExtent(Ha)</th>\n",
       "      <th>Area(Ha)</th>\n",
       "      <th>Tree_CoverGain(Ha)</th>\n",
       "      <th>Total_Emission(GreenHousesMg)</th>\n",
       "    </tr>\n",
       "  </thead>\n",
       "  <tbody>\n",
       "    <tr>\n",
       "      <th>0</th>\n",
       "      <td>1</td>\n",
       "      <td>2015.0</td>\n",
       "      <td>35606.464847</td>\n",
       "      <td>NaN</td>\n",
       "      <td>NaN</td>\n",
       "      <td>NaN</td>\n",
       "      <td>NaN</td>\n",
       "      <td>NaN</td>\n",
       "      <td>NaN</td>\n",
       "      <td>NaN</td>\n",
       "      <td>NaN</td>\n",
       "    </tr>\n",
       "    <tr>\n",
       "      <th>1</th>\n",
       "      <td>1</td>\n",
       "      <td>2003.0</td>\n",
       "      <td>49097.618146</td>\n",
       "      <td>NaN</td>\n",
       "      <td>NaN</td>\n",
       "      <td>NaN</td>\n",
       "      <td>NaN</td>\n",
       "      <td>NaN</td>\n",
       "      <td>NaN</td>\n",
       "      <td>NaN</td>\n",
       "      <td>NaN</td>\n",
       "    </tr>\n",
       "    <tr>\n",
       "      <th>2</th>\n",
       "      <td>1</td>\n",
       "      <td>2019.0</td>\n",
       "      <td>3431.239060</td>\n",
       "      <td>NaN</td>\n",
       "      <td>NaN</td>\n",
       "      <td>NaN</td>\n",
       "      <td>NaN</td>\n",
       "      <td>NaN</td>\n",
       "      <td>NaN</td>\n",
       "      <td>NaN</td>\n",
       "      <td>NaN</td>\n",
       "    </tr>\n",
       "    <tr>\n",
       "      <th>3</th>\n",
       "      <td>1</td>\n",
       "      <td>2017.0</td>\n",
       "      <td>13.556979</td>\n",
       "      <td>NaN</td>\n",
       "      <td>NaN</td>\n",
       "      <td>NaN</td>\n",
       "      <td>NaN</td>\n",
       "      <td>NaN</td>\n",
       "      <td>NaN</td>\n",
       "      <td>NaN</td>\n",
       "      <td>NaN</td>\n",
       "    </tr>\n",
       "    <tr>\n",
       "      <th>4</th>\n",
       "      <td>1</td>\n",
       "      <td>2006.0</td>\n",
       "      <td>3053.151425</td>\n",
       "      <td>NaN</td>\n",
       "      <td>NaN</td>\n",
       "      <td>NaN</td>\n",
       "      <td>NaN</td>\n",
       "      <td>NaN</td>\n",
       "      <td>NaN</td>\n",
       "      <td>NaN</td>\n",
       "      <td>NaN</td>\n",
       "    </tr>\n",
       "    <tr>\n",
       "      <th>...</th>\n",
       "      <td>...</td>\n",
       "      <td>...</td>\n",
       "      <td>...</td>\n",
       "      <td>...</td>\n",
       "      <td>...</td>\n",
       "      <td>...</td>\n",
       "      <td>...</td>\n",
       "      <td>...</td>\n",
       "      <td>...</td>\n",
       "      <td>...</td>\n",
       "      <td>...</td>\n",
       "    </tr>\n",
       "    <tr>\n",
       "      <th>16</th>\n",
       "      <td>4</td>\n",
       "      <td>2017.0</td>\n",
       "      <td>NaN</td>\n",
       "      <td>24336.176631</td>\n",
       "      <td>13.313709</td>\n",
       "      <td>NaN</td>\n",
       "      <td>NaN</td>\n",
       "      <td>NaN</td>\n",
       "      <td>NaN</td>\n",
       "      <td>NaN</td>\n",
       "      <td>NaN</td>\n",
       "    </tr>\n",
       "    <tr>\n",
       "      <th>17</th>\n",
       "      <td>4</td>\n",
       "      <td>2018.0</td>\n",
       "      <td>NaN</td>\n",
       "      <td>21502.291612</td>\n",
       "      <td>0.841432</td>\n",
       "      <td>NaN</td>\n",
       "      <td>NaN</td>\n",
       "      <td>NaN</td>\n",
       "      <td>NaN</td>\n",
       "      <td>NaN</td>\n",
       "      <td>NaN</td>\n",
       "    </tr>\n",
       "    <tr>\n",
       "      <th>18</th>\n",
       "      <td>4</td>\n",
       "      <td>2019.0</td>\n",
       "      <td>NaN</td>\n",
       "      <td>12095.733077</td>\n",
       "      <td>1.377143</td>\n",
       "      <td>NaN</td>\n",
       "      <td>NaN</td>\n",
       "      <td>NaN</td>\n",
       "      <td>NaN</td>\n",
       "      <td>NaN</td>\n",
       "      <td>NaN</td>\n",
       "    </tr>\n",
       "    <tr>\n",
       "      <th>19</th>\n",
       "      <td>4</td>\n",
       "      <td>2020.0</td>\n",
       "      <td>NaN</td>\n",
       "      <td>15208.520774</td>\n",
       "      <td>3.596087</td>\n",
       "      <td>NaN</td>\n",
       "      <td>NaN</td>\n",
       "      <td>NaN</td>\n",
       "      <td>NaN</td>\n",
       "      <td>NaN</td>\n",
       "      <td>NaN</td>\n",
       "    </tr>\n",
       "    <tr>\n",
       "      <th>20</th>\n",
       "      <td>4</td>\n",
       "      <td>2021.0</td>\n",
       "      <td>NaN</td>\n",
       "      <td>16541.910833</td>\n",
       "      <td>3.748649</td>\n",
       "      <td>NaN</td>\n",
       "      <td>NaN</td>\n",
       "      <td>NaN</td>\n",
       "      <td>NaN</td>\n",
       "      <td>NaN</td>\n",
       "      <td>NaN</td>\n",
       "    </tr>\n",
       "  </tbody>\n",
       "</table>\n",
       "<p>2040 rows × 11 columns</p>\n",
       "</div>"
      ],
      "text/plain": [
       "    admin    Year  Burn_Area(ha)  Tree_CoverLoss(Ha)  Tree_CoverLossFires(Ha)  \\\n",
       "0       1  2015.0   35606.464847                 NaN                      NaN   \n",
       "1       1  2003.0   49097.618146                 NaN                      NaN   \n",
       "2       1  2019.0    3431.239060                 NaN                      NaN   \n",
       "3       1  2017.0      13.556979                 NaN                      NaN   \n",
       "4       1  2006.0    3053.151425                 NaN                      NaN   \n",
       "..    ...     ...            ...                 ...                      ...   \n",
       "16      4  2017.0            NaN        24336.176631                13.313709   \n",
       "17      4  2018.0            NaN        21502.291612                 0.841432   \n",
       "18      4  2019.0            NaN        12095.733077                 1.377143   \n",
       "19      4  2020.0            NaN        15208.520774                 3.596087   \n",
       "20      4  2021.0            NaN        16541.910833                 3.748649   \n",
       "\n",
       "    total_greenhouseemission(millions)  iso  Tree_CoverExtent(Ha)  Area(Ha)  \\\n",
       "0                                  NaN  NaN                   NaN       NaN   \n",
       "1                                  NaN  NaN                   NaN       NaN   \n",
       "2                                  NaN  NaN                   NaN       NaN   \n",
       "3                                  NaN  NaN                   NaN       NaN   \n",
       "4                                  NaN  NaN                   NaN       NaN   \n",
       "..                                 ...  ...                   ...       ...   \n",
       "16                                 NaN  NaN                   NaN       NaN   \n",
       "17                                 NaN  NaN                   NaN       NaN   \n",
       "18                                 NaN  NaN                   NaN       NaN   \n",
       "19                                 NaN  NaN                   NaN       NaN   \n",
       "20                                 NaN  NaN                   NaN       NaN   \n",
       "\n",
       "    Tree_CoverGain(Ha)  Total_Emission(GreenHousesMg)  \n",
       "0                  NaN                            NaN  \n",
       "1                  NaN                            NaN  \n",
       "2                  NaN                            NaN  \n",
       "3                  NaN                            NaN  \n",
       "4                  NaN                            NaN  \n",
       "..                 ...                            ...  \n",
       "16                 NaN                            NaN  \n",
       "17                 NaN                            NaN  \n",
       "18                 NaN                            NaN  \n",
       "19                 NaN                            NaN  \n",
       "20                 NaN                            NaN  \n",
       "\n",
       "[2040 rows x 11 columns]"
      ]
     },
     "execution_count": 3502,
     "metadata": {},
     "output_type": "execute_result"
    }
   ],
   "source": [
    "# Merge all the files together\n",
    "pd.concat([fire_data,treecoverloss_byfire, tree_coverloss, tree_coverextent, \n",
    "          tree_covergaindata, emission_data, tree_coverlossfires])"
   ]
  },
  {
   "cell_type": "code",
   "execution_count": 135,
   "id": "30003108",
   "metadata": {},
   "outputs": [
    {
     "name": "stderr",
     "output_type": "stream",
     "text": [
      "C:\\Users\\chimi\\AppData\\Local\\Temp\\ipykernel_5744\\891777373.py:17: FutureWarning: Passing 'suffixes' which cause duplicate columns {'Tree_CoverLoss(Ha)_x'} in the result is deprecated and will raise a MergeError in a future version.\n",
      "  merged_df = merged_df.merge(df, on=keys, how='inner')\n"
     ]
    }
   ],
   "source": [
    "# List of dataframes and their keys\n",
    "dataframes = [\n",
    "    (fire_data, ['admin', 'Year']), # Merge keys for fire_data\n",
    "    (treecoverloss_byfire, ['admin', 'Year']), # Merge keys for treecoverloss_byfire\n",
    "    (tree_coverloss, ['admin', 'Year']), # Merge keys for tree_coverloss\n",
    "    (tree_coverextent, ['admin']), # Merge keys for tree_coverextent\n",
    "    (tree_covergaindata, ['admin']), # Merge keys for tree_covergaindata\n",
    "    (emission_data, ['admin', 'Year']), # Merge keys for emission_data\n",
    "    (tree_coverlossfires, ['admin', 'Year']), # Merge keys for tree_coverlossfires\n",
    "]\n",
    "\n",
    "# Initialize merged_df as the first dataframe\n",
    "merged_df, merge_keys = dataframes[0]\n",
    "\n",
    "# Merge all other dataframes\n",
    "for df, keys in dataframes[1:]:\n",
    "    merged_df = merged_df.merge(df, on=keys, how='inner')\n",
    "\n"
   ]
  },
  {
   "cell_type": "code",
   "execution_count": 136,
   "id": "8038a769",
   "metadata": {},
   "outputs": [
    {
     "data": {
      "text/html": [
       "<div>\n",
       "<style scoped>\n",
       "    .dataframe tbody tr th:only-of-type {\n",
       "        vertical-align: middle;\n",
       "    }\n",
       "\n",
       "    .dataframe tbody tr th {\n",
       "        vertical-align: top;\n",
       "    }\n",
       "\n",
       "    .dataframe thead th {\n",
       "        text-align: right;\n",
       "    }\n",
       "</style>\n",
       "<table border=\"1\" class=\"dataframe\">\n",
       "  <thead>\n",
       "    <tr style=\"text-align: right;\">\n",
       "      <th></th>\n",
       "      <th>admin</th>\n",
       "      <th>Year</th>\n",
       "      <th>Burn_Area(ha)</th>\n",
       "      <th>Tree_CoverLoss(Ha)_x</th>\n",
       "      <th>Tree_CoverLossFires(Ha)_x</th>\n",
       "      <th>Tree_CoverLoss(Ha)_y</th>\n",
       "      <th>total_greenhouseemission(millions)</th>\n",
       "      <th>Tree_CoverExtent(Ha)_x</th>\n",
       "      <th>Area(Ha)</th>\n",
       "      <th>Tree_CoverGain(Ha)</th>\n",
       "      <th>Tree_CoverExtent(Ha)_y</th>\n",
       "      <th>Tree_CoverLoss(Ha)_x</th>\n",
       "      <th>Total_Emission(GreenHousesMg)</th>\n",
       "      <th>Tree_CoverLoss(Ha)_y</th>\n",
       "      <th>Tree_CoverLossFires(Ha)_y</th>\n",
       "    </tr>\n",
       "  </thead>\n",
       "  <tbody>\n",
       "    <tr>\n",
       "      <th>0</th>\n",
       "      <td>1</td>\n",
       "      <td>2015</td>\n",
       "      <td>35606.464847</td>\n",
       "      <td>11587.520657</td>\n",
       "      <td>3.134098</td>\n",
       "      <td>438.902859</td>\n",
       "      <td>189654.15856</td>\n",
       "      <td>1.513515e+06</td>\n",
       "      <td>2.490413e+06</td>\n",
       "      <td>1143.889300</td>\n",
       "      <td>61268.748322</td>\n",
       "      <td>11587.520657</td>\n",
       "      <td>6.384941e+06</td>\n",
       "      <td>11587.520657</td>\n",
       "      <td>3.134098</td>\n",
       "    </tr>\n",
       "    <tr>\n",
       "      <th>1</th>\n",
       "      <td>1</td>\n",
       "      <td>2015</td>\n",
       "      <td>35606.464847</td>\n",
       "      <td>11587.520657</td>\n",
       "      <td>3.134098</td>\n",
       "      <td>438.902859</td>\n",
       "      <td>189654.15856</td>\n",
       "      <td>1.513515e+06</td>\n",
       "      <td>2.490413e+06</td>\n",
       "      <td>3808.257282</td>\n",
       "      <td>140791.594951</td>\n",
       "      <td>11587.520657</td>\n",
       "      <td>6.384941e+06</td>\n",
       "      <td>11587.520657</td>\n",
       "      <td>3.134098</td>\n",
       "    </tr>\n",
       "    <tr>\n",
       "      <th>2</th>\n",
       "      <td>1</td>\n",
       "      <td>2015</td>\n",
       "      <td>35606.464847</td>\n",
       "      <td>11587.520657</td>\n",
       "      <td>3.134098</td>\n",
       "      <td>438.902859</td>\n",
       "      <td>189654.15856</td>\n",
       "      <td>1.513515e+06</td>\n",
       "      <td>2.490413e+06</td>\n",
       "      <td>1016.677195</td>\n",
       "      <td>66796.643483</td>\n",
       "      <td>11587.520657</td>\n",
       "      <td>6.384941e+06</td>\n",
       "      <td>11587.520657</td>\n",
       "      <td>3.134098</td>\n",
       "    </tr>\n",
       "    <tr>\n",
       "      <th>3</th>\n",
       "      <td>1</td>\n",
       "      <td>2015</td>\n",
       "      <td>35606.464847</td>\n",
       "      <td>11587.520657</td>\n",
       "      <td>3.134098</td>\n",
       "      <td>438.902859</td>\n",
       "      <td>189654.15856</td>\n",
       "      <td>1.513515e+06</td>\n",
       "      <td>2.490413e+06</td>\n",
       "      <td>56.454321</td>\n",
       "      <td>72964.811444</td>\n",
       "      <td>11587.520657</td>\n",
       "      <td>6.384941e+06</td>\n",
       "      <td>11587.520657</td>\n",
       "      <td>3.134098</td>\n",
       "    </tr>\n",
       "    <tr>\n",
       "      <th>4</th>\n",
       "      <td>1</td>\n",
       "      <td>2015</td>\n",
       "      <td>35606.464847</td>\n",
       "      <td>11587.520657</td>\n",
       "      <td>3.134098</td>\n",
       "      <td>438.902859</td>\n",
       "      <td>189654.15856</td>\n",
       "      <td>1.513515e+06</td>\n",
       "      <td>2.490413e+06</td>\n",
       "      <td>985.491937</td>\n",
       "      <td>120723.516528</td>\n",
       "      <td>11587.520657</td>\n",
       "      <td>6.384941e+06</td>\n",
       "      <td>11587.520657</td>\n",
       "      <td>3.134098</td>\n",
       "    </tr>\n",
       "  </tbody>\n",
       "</table>\n",
       "</div>"
      ],
      "text/plain": [
       "   admin  Year  Burn_Area(ha)  Tree_CoverLoss(Ha)_x  \\\n",
       "0      1  2015   35606.464847          11587.520657   \n",
       "1      1  2015   35606.464847          11587.520657   \n",
       "2      1  2015   35606.464847          11587.520657   \n",
       "3      1  2015   35606.464847          11587.520657   \n",
       "4      1  2015   35606.464847          11587.520657   \n",
       "\n",
       "   Tree_CoverLossFires(Ha)_x  Tree_CoverLoss(Ha)_y  \\\n",
       "0                   3.134098            438.902859   \n",
       "1                   3.134098            438.902859   \n",
       "2                   3.134098            438.902859   \n",
       "3                   3.134098            438.902859   \n",
       "4                   3.134098            438.902859   \n",
       "\n",
       "   total_greenhouseemission(millions)  Tree_CoverExtent(Ha)_x      Area(Ha)  \\\n",
       "0                        189654.15856            1.513515e+06  2.490413e+06   \n",
       "1                        189654.15856            1.513515e+06  2.490413e+06   \n",
       "2                        189654.15856            1.513515e+06  2.490413e+06   \n",
       "3                        189654.15856            1.513515e+06  2.490413e+06   \n",
       "4                        189654.15856            1.513515e+06  2.490413e+06   \n",
       "\n",
       "   Tree_CoverGain(Ha)  Tree_CoverExtent(Ha)_y  Tree_CoverLoss(Ha)_x  \\\n",
       "0         1143.889300            61268.748322          11587.520657   \n",
       "1         3808.257282           140791.594951          11587.520657   \n",
       "2         1016.677195            66796.643483          11587.520657   \n",
       "3           56.454321            72964.811444          11587.520657   \n",
       "4          985.491937           120723.516528          11587.520657   \n",
       "\n",
       "   Total_Emission(GreenHousesMg)  Tree_CoverLoss(Ha)_y  \\\n",
       "0                   6.384941e+06          11587.520657   \n",
       "1                   6.384941e+06          11587.520657   \n",
       "2                   6.384941e+06          11587.520657   \n",
       "3                   6.384941e+06          11587.520657   \n",
       "4                   6.384941e+06          11587.520657   \n",
       "\n",
       "   Tree_CoverLossFires(Ha)_y  \n",
       "0                   3.134098  \n",
       "1                   3.134098  \n",
       "2                   3.134098  \n",
       "3                   3.134098  \n",
       "4                   3.134098  "
      ]
     },
     "execution_count": 136,
     "metadata": {},
     "output_type": "execute_result"
    }
   ],
   "source": [
    "merged_df.head(5)"
   ]
  },
  {
   "cell_type": "code",
   "execution_count": null,
   "id": "dadd9bc1",
   "metadata": {},
   "outputs": [],
   "source": []
  }
 ],
 "metadata": {
  "kernelspec": {
   "display_name": "Python 3 (ipykernel)",
   "language": "python",
   "name": "python3"
  },
  "language_info": {
   "codemirror_mode": {
    "name": "ipython",
    "version": 3
   },
   "file_extension": ".py",
   "mimetype": "text/x-python",
   "name": "python",
   "nbconvert_exporter": "python",
   "pygments_lexer": "ipython3",
   "version": "3.9.13"
  }
 },
 "nbformat": 4,
 "nbformat_minor": 5
}
