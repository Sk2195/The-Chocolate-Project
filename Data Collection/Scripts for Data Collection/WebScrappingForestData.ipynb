{
 "cells": [
  {
   "cell_type": "code",
   "execution_count": 2,
   "id": "1a060eec",
   "metadata": {},
   "outputs": [],
   "source": [
    "import os\n",
    "import glob\n",
    "import pandas as pd\n",
    "import geopandas as gpd"
   ]
  },
  {
   "cell_type": "code",
   "execution_count": 3,
   "id": "066f4ebd",
   "metadata": {},
   "outputs": [
    {
     "name": "stdout",
     "output_type": "stream",
     "text": [
      "    Year  Value\n",
      "0   1990  43.62\n",
      "1   1991  43.14\n",
      "2   1992  42.67\n",
      "3   1993  42.20\n",
      "4   1994  41.72\n",
      "5   1995  41.25\n",
      "6   1996  40.78\n",
      "7   1997  40.31\n",
      "8   1998  39.83\n",
      "9   1999  39.36\n",
      "10  2000  38.89\n",
      "11  2001  38.49\n",
      "12  2002  38.09\n",
      "13  2003  37.69\n",
      "14  2004  37.30\n",
      "15  2005  36.90\n",
      "16  2006  36.50\n",
      "17  2007  36.10\n",
      "18  2008  35.70\n",
      "19  2009  35.31\n",
      "20  2010  34.91\n",
      "21  2011  34.85\n",
      "22  2012  34.80\n",
      "23  2013  34.74\n",
      "24  2014  34.69\n",
      "25  2015  34.63\n",
      "26  2016  34.82\n",
      "27  2017  35.00\n",
      "28  2018  35.03\n",
      "29  2019  35.06\n",
      "30  2020  35.10\n"
     ]
    }
   ],
   "source": [
    "# Define the URL of the webpage to scrape\n",
    "url = \"https://www.indexmundi.com/facts/ghana/indicator/AG.LND.FRST.ZS\"\n",
    "\n",
    "# Use pandas' read_html to parse HTML tables from the webpage\n",
    "tables = pd.read_html(url)\n",
    "\n",
    "# Check if any tables were found\n",
    "if tables:\n",
    "    # Select the desired table based on its index\n",
    "    table = tables[0]  # Adjust the index based on the actual position of the desired table\n",
    "    \n",
    "    # Conver the table to a dataframe\n",
    "    df = pd.DataFrame(table)\n",
    "    \n",
    "    # Print the DataFrame\n",
    "    print(table)\n",
    "else:\n",
    "    print(\"No tables found on the webpage.\")\n",
    "\n"
   ]
  },
  {
   "cell_type": "code",
   "execution_count": 4,
   "id": "9371082b",
   "metadata": {},
   "outputs": [
    {
     "data": {
      "text/html": [
       "<div>\n",
       "<style scoped>\n",
       "    .dataframe tbody tr th:only-of-type {\n",
       "        vertical-align: middle;\n",
       "    }\n",
       "\n",
       "    .dataframe tbody tr th {\n",
       "        vertical-align: top;\n",
       "    }\n",
       "\n",
       "    .dataframe thead th {\n",
       "        text-align: right;\n",
       "    }\n",
       "</style>\n",
       "<table border=\"1\" class=\"dataframe\">\n",
       "  <thead>\n",
       "    <tr style=\"text-align: right;\">\n",
       "      <th></th>\n",
       "      <th>Year</th>\n",
       "      <th>Value</th>\n",
       "    </tr>\n",
       "  </thead>\n",
       "  <tbody>\n",
       "    <tr>\n",
       "      <th>0</th>\n",
       "      <td>1990</td>\n",
       "      <td>43.62</td>\n",
       "    </tr>\n",
       "    <tr>\n",
       "      <th>1</th>\n",
       "      <td>1991</td>\n",
       "      <td>43.14</td>\n",
       "    </tr>\n",
       "    <tr>\n",
       "      <th>2</th>\n",
       "      <td>1992</td>\n",
       "      <td>42.67</td>\n",
       "    </tr>\n",
       "    <tr>\n",
       "      <th>3</th>\n",
       "      <td>1993</td>\n",
       "      <td>42.20</td>\n",
       "    </tr>\n",
       "    <tr>\n",
       "      <th>4</th>\n",
       "      <td>1994</td>\n",
       "      <td>41.72</td>\n",
       "    </tr>\n",
       "  </tbody>\n",
       "</table>\n",
       "</div>"
      ],
      "text/plain": [
       "   Year  Value\n",
       "0  1990  43.62\n",
       "1  1991  43.14\n",
       "2  1992  42.67\n",
       "3  1993  42.20\n",
       "4  1994  41.72"
      ]
     },
     "execution_count": 4,
     "metadata": {},
     "output_type": "execute_result"
    }
   ],
   "source": [
    "df.head(5)"
   ]
  },
  {
   "cell_type": "code",
   "execution_count": 5,
   "id": "4adbc999",
   "metadata": {},
   "outputs": [],
   "source": [
    "# Rename the column\n",
    "df.rename(columns={'Value': 'Forest area (% of land area)'}, inplace=True)"
   ]
  },
  {
   "cell_type": "code",
   "execution_count": 6,
   "id": "4ca58a02",
   "metadata": {},
   "outputs": [
    {
     "data": {
      "text/html": [
       "<div>\n",
       "<style scoped>\n",
       "    .dataframe tbody tr th:only-of-type {\n",
       "        vertical-align: middle;\n",
       "    }\n",
       "\n",
       "    .dataframe tbody tr th {\n",
       "        vertical-align: top;\n",
       "    }\n",
       "\n",
       "    .dataframe thead th {\n",
       "        text-align: right;\n",
       "    }\n",
       "</style>\n",
       "<table border=\"1\" class=\"dataframe\">\n",
       "  <thead>\n",
       "    <tr style=\"text-align: right;\">\n",
       "      <th></th>\n",
       "      <th>Year</th>\n",
       "      <th>Forest area (% of land area)</th>\n",
       "    </tr>\n",
       "  </thead>\n",
       "  <tbody>\n",
       "    <tr>\n",
       "      <th>0</th>\n",
       "      <td>1990</td>\n",
       "      <td>43.62</td>\n",
       "    </tr>\n",
       "    <tr>\n",
       "      <th>1</th>\n",
       "      <td>1991</td>\n",
       "      <td>43.14</td>\n",
       "    </tr>\n",
       "    <tr>\n",
       "      <th>2</th>\n",
       "      <td>1992</td>\n",
       "      <td>42.67</td>\n",
       "    </tr>\n",
       "    <tr>\n",
       "      <th>3</th>\n",
       "      <td>1993</td>\n",
       "      <td>42.20</td>\n",
       "    </tr>\n",
       "    <tr>\n",
       "      <th>4</th>\n",
       "      <td>1994</td>\n",
       "      <td>41.72</td>\n",
       "    </tr>\n",
       "  </tbody>\n",
       "</table>\n",
       "</div>"
      ],
      "text/plain": [
       "   Year  Forest area (% of land area)\n",
       "0  1990                         43.62\n",
       "1  1991                         43.14\n",
       "2  1992                         42.67\n",
       "3  1993                         42.20\n",
       "4  1994                         41.72"
      ]
     },
     "execution_count": 6,
     "metadata": {},
     "output_type": "execute_result"
    }
   ],
   "source": [
    "df.head(5)"
   ]
  },
  {
   "cell_type": "code",
   "execution_count": 7,
   "id": "9e54824d",
   "metadata": {},
   "outputs": [],
   "source": [
    "df.to_csv('Forest Area(%Land Area.csv', index=False)"
   ]
  },
  {
   "cell_type": "code",
   "execution_count": 10,
   "id": "018bfa43",
   "metadata": {},
   "outputs": [
    {
     "name": "stdout",
     "output_type": "stream",
     "text": [
      "Table 1 saved as table_1.csv\n",
      "----------------------------------------\n",
      "Table 2 saved as table_2.csv\n",
      "----------------------------------------\n",
      "Table 3 saved as table_3.csv\n",
      "----------------------------------------\n",
      "Table 4 saved as table_4.csv\n",
      "----------------------------------------\n",
      "Table 5 saved as table_5.csv\n",
      "----------------------------------------\n",
      "Table 6 saved as table_6.csv\n",
      "----------------------------------------\n",
      "Table 7 saved as table_7.csv\n",
      "----------------------------------------\n",
      "Table 8 saved as table_8.csv\n",
      "----------------------------------------\n"
     ]
    }
   ],
   "source": [
    "import requests\n",
    "from bs4 import BeautifulSoup\n",
    "import pandas as pd\n",
    "\n",
    "url = \"https://rainforests.mongabay.com/deforestation/archive/Ghana.htm\"\n",
    "\n",
    "# Send a GET request to the URL\n",
    "response = requests.get(url)\n",
    "\n",
    "# Create a BeautifulSoup object to parse the HTML content\n",
    "soup = BeautifulSoup(response.content, \"html.parser\")\n",
    "\n",
    "# Find all table tags in the HTML\n",
    "tables = soup.find_all('table')\n",
    "\n",
    "# Loop through each table\n",
    "for i, table in enumerate(tables):\n",
    "    # Extract the table data into a list of lists\n",
    "    data = []\n",
    "    rows = table.find_all('tr')\n",
    "    for row in rows:\n",
    "        cells = row.find_all('td')\n",
    "        data.append([cell.get_text(strip=True) for cell in cells])\n",
    "    \n",
    "    # Convert the table data into a DataFrame\n",
    "    df = pd.DataFrame(data)\n",
    "    \n",
    "    # Save the DataFrame as a CSV file\n",
    "    filename = f\"table_{i+1}.csv\"\n",
    "    df.to_csv(filename, index=False)\n",
    "    \n",
    "    print(f\"Table {i+1} saved as {filename}\")\n",
    "    print(\"-\" * 40)\n"
   ]
  },
  {
   "cell_type": "code",
   "execution_count": null,
   "id": "adb72b32",
   "metadata": {},
   "outputs": [],
   "source": []
  }
 ],
 "metadata": {
  "kernelspec": {
   "display_name": "Python 3 (ipykernel)",
   "language": "python",
   "name": "python3"
  },
  "language_info": {
   "codemirror_mode": {
    "name": "ipython",
    "version": 3
   },
   "file_extension": ".py",
   "mimetype": "text/x-python",
   "name": "python",
   "nbconvert_exporter": "python",
   "pygments_lexer": "ipython3",
   "version": "3.9.13"
  }
 },
 "nbformat": 4,
 "nbformat_minor": 5
}
